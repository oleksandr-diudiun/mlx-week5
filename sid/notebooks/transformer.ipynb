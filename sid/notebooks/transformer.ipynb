{
 "cells": [
  {
   "cell_type": "code",
   "execution_count": 3,
   "metadata": {},
   "outputs": [
    {
     "name": "stdout",
     "output_type": "stream",
     "text": [
      "Hit:1 https://developer.download.nvidia.com/compute/cuda/repos/ubuntu2204/x86_64  InRelease\n",
      "Hit:2 http://archive.ubuntu.com/ubuntu jammy InRelease                         \n",
      "Hit:3 http://security.ubuntu.com/ubuntu jammy-security InRelease               \n",
      "Hit:4 http://archive.ubuntu.com/ubuntu jammy-updates InRelease                 \n",
      "Hit:5 http://archive.ubuntu.com/ubuntu jammy-backports InRelease\n",
      "Hit:6 https://ppa.launchpadcontent.net/deadsnakes/ppa/ubuntu jammy InRelease\n",
      "Reading package lists... Done\n",
      "Requirement already satisfied: pip in /usr/local/lib/python3.10/dist-packages (24.0)\n",
      "\u001b[33mWARNING: Running pip as the 'root' user can result in broken permissions and conflicting behaviour with the system package manager. It is recommended to use a virtual environment instead: https://pip.pypa.io/warnings/venv\u001b[0m\u001b[33m\n",
      "Reading package lists... Done\n",
      "Building dependency tree... Done\n",
      "Reading state information... Done\n",
      "The following additional packages will be installed:\n",
      "  libgpm2 libpopt0 libsodium23 vim-common vim-runtime xxd\n",
      "Suggested packages:\n",
      "  gpm python3-braceexpand ctags vim-doc vim-scripts\n",
      "The following NEW packages will be installed:\n",
      "  git-lfs less libgpm2 libpopt0 libsodium23 rsync vim vim-common vim-runtime\n",
      "  xxd\n",
      "The following packages will be upgraded:\n",
      "  coreutils\n",
      "1 upgraded, 10 newly installed, 0 to remove and 85 not upgraded.\n",
      "Need to get 14.4 MB of archives.\n",
      "After this operation, 50.5 MB of additional disk space will be used.\n",
      "Get:1 http://archive.ubuntu.com/ubuntu jammy-updates/main amd64 coreutils amd64 8.32-4.1ubuntu1.2 [1437 kB]\n",
      "Get:2 http://archive.ubuntu.com/ubuntu jammy/main amd64 libpopt0 amd64 1.18-3build1 [28.2 kB]\n",
      "Get:3 http://archive.ubuntu.com/ubuntu jammy-updates/main amd64 rsync amd64 3.2.7-0ubuntu0.22.04.2 [436 kB]\n",
      "Get:4 http://archive.ubuntu.com/ubuntu jammy-updates/main amd64 less amd64 590-1ubuntu0.22.04.2 [143 kB]\n",
      "Get:5 http://archive.ubuntu.com/ubuntu jammy-updates/main amd64 xxd amd64 2:8.2.3995-1ubuntu2.16 [55.0 kB]\n",
      "Get:6 http://archive.ubuntu.com/ubuntu jammy-updates/main amd64 vim-common all 2:8.2.3995-1ubuntu2.16 [81.5 kB]\n",
      "Get:7 http://archive.ubuntu.com/ubuntu jammy-updates/universe amd64 git-lfs amd64 3.0.2-1ubuntu0.2 [3503 kB]\n",
      "Get:8 http://archive.ubuntu.com/ubuntu jammy/main amd64 libgpm2 amd64 1.20.7-10build1 [15.3 kB]\n",
      "Get:9 http://archive.ubuntu.com/ubuntu jammy/main amd64 libsodium23 amd64 1.0.18-1build2 [164 kB]\n",
      "Get:10 http://archive.ubuntu.com/ubuntu jammy-updates/main amd64 vim-runtime all 2:8.2.3995-1ubuntu2.16 [6835 kB]\n",
      "Get:11 http://archive.ubuntu.com/ubuntu jammy-updates/main amd64 vim amd64 2:8.2.3995-1ubuntu2.16 [1736 kB]\n",
      "Fetched 14.4 MB in 1s (10.7 MB/s)\n",
      "debconf: delaying package configuration, since apt-utils is not installed\n",
      "(Reading database ... 20729 files and directories currently installed.)\n",
      "Preparing to unpack .../coreutils_8.32-4.1ubuntu1.2_amd64.deb ...\n",
      "Unpacking coreutils (8.32-4.1ubuntu1.2) over (8.32-4.1ubuntu1) ...\n",
      "Setting up coreutils (8.32-4.1ubuntu1.2) ...\n",
      "Selecting previously unselected package libpopt0:amd64.\n",
      "(Reading database ... 20729 files and directories currently installed.)\n",
      "Preparing to unpack .../0-libpopt0_1.18-3build1_amd64.deb ...\n",
      "Unpacking libpopt0:amd64 (1.18-3build1) ...\n",
      "Selecting previously unselected package rsync.\n",
      "Preparing to unpack .../1-rsync_3.2.7-0ubuntu0.22.04.2_amd64.deb ...\n",
      "Unpacking rsync (3.2.7-0ubuntu0.22.04.2) ...\n",
      "Selecting previously unselected package less.\n",
      "Preparing to unpack .../2-less_590-1ubuntu0.22.04.2_amd64.deb ...\n",
      "Unpacking less (590-1ubuntu0.22.04.2) ...\n",
      "Selecting previously unselected package xxd.\n",
      "Preparing to unpack .../3-xxd_2%3a8.2.3995-1ubuntu2.16_amd64.deb ...\n",
      "Unpacking xxd (2:8.2.3995-1ubuntu2.16) ...\n",
      "Selecting previously unselected package vim-common.\n",
      "Preparing to unpack .../4-vim-common_2%3a8.2.3995-1ubuntu2.16_all.deb ...\n",
      "Unpacking vim-common (2:8.2.3995-1ubuntu2.16) ...\n",
      "Selecting previously unselected package git-lfs.\n",
      "Preparing to unpack .../5-git-lfs_3.0.2-1ubuntu0.2_amd64.deb ...\n",
      "Unpacking git-lfs (3.0.2-1ubuntu0.2) ...\n",
      "Selecting previously unselected package libgpm2:amd64.\n",
      "Preparing to unpack .../6-libgpm2_1.20.7-10build1_amd64.deb ...\n",
      "Unpacking libgpm2:amd64 (1.20.7-10build1) ...\n",
      "Selecting previously unselected package libsodium23:amd64.\n",
      "Preparing to unpack .../7-libsodium23_1.0.18-1build2_amd64.deb ...\n",
      "Unpacking libsodium23:amd64 (1.0.18-1build2) ...\n",
      "Selecting previously unselected package vim-runtime.\n",
      "Preparing to unpack .../8-vim-runtime_2%3a8.2.3995-1ubuntu2.16_all.deb ...\n",
      "Adding 'diversion of /usr/share/vim/vim82/doc/help.txt to /usr/share/vim/vim82/doc/help.txt.vim-tiny by vim-runtime'\n",
      "Adding 'diversion of /usr/share/vim/vim82/doc/tags to /usr/share/vim/vim82/doc/tags.vim-tiny by vim-runtime'\n",
      "Unpacking vim-runtime (2:8.2.3995-1ubuntu2.16) ...\n",
      "Selecting previously unselected package vim.\n",
      "Preparing to unpack .../9-vim_2%3a8.2.3995-1ubuntu2.16_amd64.deb ...\n",
      "Unpacking vim (2:8.2.3995-1ubuntu2.16) ...\n",
      "Setting up libsodium23:amd64 (1.0.18-1build2) ...\n",
      "Setting up libgpm2:amd64 (1.20.7-10build1) ...\n",
      "Setting up less (590-1ubuntu0.22.04.2) ...\n",
      "Setting up xxd (2:8.2.3995-1ubuntu2.16) ...\n",
      "Setting up vim-common (2:8.2.3995-1ubuntu2.16) ...\n",
      "Setting up vim-runtime (2:8.2.3995-1ubuntu2.16) ...\n",
      "Setting up git-lfs (3.0.2-1ubuntu0.2) ...\n",
      "Setting up libpopt0:amd64 (1.18-3build1) ...\n",
      "Setting up vim (2:8.2.3995-1ubuntu2.16) ...\n",
      "update-alternatives: using /usr/bin/vim.basic to provide /usr/bin/vim (vim) in auto mode\n",
      "update-alternatives: using /usr/bin/vim.basic to provide /usr/bin/vimdiff (vimdiff) in auto mode\n",
      "update-alternatives: using /usr/bin/vim.basic to provide /usr/bin/rvim (rvim) in auto mode\n",
      "update-alternatives: using /usr/bin/vim.basic to provide /usr/bin/rview (rview) in auto mode\n",
      "update-alternatives: using /usr/bin/vim.basic to provide /usr/bin/vi (vi) in auto mode\n",
      "update-alternatives: warning: skip creation of /usr/share/man/da/man1/vi.1.gz because associated file /usr/share/man/da/man1/vim.1.gz (of link group vi) doesn't exist\n",
      "update-alternatives: warning: skip creation of /usr/share/man/de/man1/vi.1.gz because associated file /usr/share/man/de/man1/vim.1.gz (of link group vi) doesn't exist\n",
      "update-alternatives: warning: skip creation of /usr/share/man/fr/man1/vi.1.gz because associated file /usr/share/man/fr/man1/vim.1.gz (of link group vi) doesn't exist\n",
      "update-alternatives: warning: skip creation of /usr/share/man/it/man1/vi.1.gz because associated file /usr/share/man/it/man1/vim.1.gz (of link group vi) doesn't exist\n",
      "update-alternatives: warning: skip creation of /usr/share/man/ja/man1/vi.1.gz because associated file /usr/share/man/ja/man1/vim.1.gz (of link group vi) doesn't exist\n",
      "update-alternatives: warning: skip creation of /usr/share/man/pl/man1/vi.1.gz because associated file /usr/share/man/pl/man1/vim.1.gz (of link group vi) doesn't exist\n",
      "update-alternatives: warning: skip creation of /usr/share/man/ru/man1/vi.1.gz because associated file /usr/share/man/ru/man1/vim.1.gz (of link group vi) doesn't exist\n",
      "update-alternatives: warning: skip creation of /usr/share/man/man1/vi.1.gz because associated file /usr/share/man/man1/vim.1.gz (of link group vi) doesn't exist\n",
      "update-alternatives: using /usr/bin/vim.basic to provide /usr/bin/view (view) in auto mode\n",
      "update-alternatives: warning: skip creation of /usr/share/man/da/man1/view.1.gz because associated file /usr/share/man/da/man1/vim.1.gz (of link group view) doesn't exist\n",
      "update-alternatives: warning: skip creation of /usr/share/man/de/man1/view.1.gz because associated file /usr/share/man/de/man1/vim.1.gz (of link group view) doesn't exist\n",
      "update-alternatives: warning: skip creation of /usr/share/man/fr/man1/view.1.gz because associated file /usr/share/man/fr/man1/vim.1.gz (of link group view) doesn't exist\n",
      "update-alternatives: warning: skip creation of /usr/share/man/it/man1/view.1.gz because associated file /usr/share/man/it/man1/vim.1.gz (of link group view) doesn't exist\n",
      "update-alternatives: warning: skip creation of /usr/share/man/ja/man1/view.1.gz because associated file /usr/share/man/ja/man1/vim.1.gz (of link group view) doesn't exist\n",
      "update-alternatives: warning: skip creation of /usr/share/man/pl/man1/view.1.gz because associated file /usr/share/man/pl/man1/vim.1.gz (of link group view) doesn't exist\n",
      "update-alternatives: warning: skip creation of /usr/share/man/ru/man1/view.1.gz because associated file /usr/share/man/ru/man1/vim.1.gz (of link group view) doesn't exist\n",
      "update-alternatives: warning: skip creation of /usr/share/man/man1/view.1.gz because associated file /usr/share/man/man1/vim.1.gz (of link group view) doesn't exist\n",
      "update-alternatives: using /usr/bin/vim.basic to provide /usr/bin/ex (ex) in auto mode\n",
      "update-alternatives: warning: skip creation of /usr/share/man/da/man1/ex.1.gz because associated file /usr/share/man/da/man1/vim.1.gz (of link group ex) doesn't exist\n",
      "update-alternatives: warning: skip creation of /usr/share/man/de/man1/ex.1.gz because associated file /usr/share/man/de/man1/vim.1.gz (of link group ex) doesn't exist\n",
      "update-alternatives: warning: skip creation of /usr/share/man/fr/man1/ex.1.gz because associated file /usr/share/man/fr/man1/vim.1.gz (of link group ex) doesn't exist\n",
      "update-alternatives: warning: skip creation of /usr/share/man/it/man1/ex.1.gz because associated file /usr/share/man/it/man1/vim.1.gz (of link group ex) doesn't exist\n",
      "update-alternatives: warning: skip creation of /usr/share/man/ja/man1/ex.1.gz because associated file /usr/share/man/ja/man1/vim.1.gz (of link group ex) doesn't exist\n",
      "update-alternatives: warning: skip creation of /usr/share/man/pl/man1/ex.1.gz because associated file /usr/share/man/pl/man1/vim.1.gz (of link group ex) doesn't exist\n",
      "update-alternatives: warning: skip creation of /usr/share/man/ru/man1/ex.1.gz because associated file /usr/share/man/ru/man1/vim.1.gz (of link group ex) doesn't exist\n",
      "update-alternatives: warning: skip creation of /usr/share/man/man1/ex.1.gz because associated file /usr/share/man/man1/vim.1.gz (of link group ex) doesn't exist\n",
      "update-alternatives: using /usr/bin/vim.basic to provide /usr/bin/editor (editor) in auto mode\n",
      "update-alternatives: warning: skip creation of /usr/share/man/da/man1/editor.1.gz because associated file /usr/share/man/da/man1/vim.1.gz (of link group editor) doesn't exist\n",
      "update-alternatives: warning: skip creation of /usr/share/man/de/man1/editor.1.gz because associated file /usr/share/man/de/man1/vim.1.gz (of link group editor) doesn't exist\n",
      "update-alternatives: warning: skip creation of /usr/share/man/fr/man1/editor.1.gz because associated file /usr/share/man/fr/man1/vim.1.gz (of link group editor) doesn't exist\n",
      "update-alternatives: warning: skip creation of /usr/share/man/it/man1/editor.1.gz because associated file /usr/share/man/it/man1/vim.1.gz (of link group editor) doesn't exist\n",
      "update-alternatives: warning: skip creation of /usr/share/man/ja/man1/editor.1.gz because associated file /usr/share/man/ja/man1/vim.1.gz (of link group editor) doesn't exist\n",
      "update-alternatives: warning: skip creation of /usr/share/man/pl/man1/editor.1.gz because associated file /usr/share/man/pl/man1/vim.1.gz (of link group editor) doesn't exist\n",
      "update-alternatives: warning: skip creation of /usr/share/man/ru/man1/editor.1.gz because associated file /usr/share/man/ru/man1/vim.1.gz (of link group editor) doesn't exist\n",
      "update-alternatives: warning: skip creation of /usr/share/man/man1/editor.1.gz because associated file /usr/share/man/man1/vim.1.gz (of link group editor) doesn't exist\n",
      "Setting up rsync (3.2.7-0ubuntu0.22.04.2) ...\n",
      "invoke-rc.d: could not determine current runlevel\n",
      "invoke-rc.d: policy-rc.d denied execution of start.\n",
      "Processing triggers for libc-bin (2.35-0ubuntu3.4) ...\n",
      "Collecting tensorflow\n",
      "  Downloading tensorflow-2.16.1-cp310-cp310-manylinux_2_17_x86_64.manylinux2014_x86_64.whl.metadata (4.3 kB)\n",
      "Collecting absl-py>=1.0.0 (from tensorflow)\n",
      "  Downloading absl_py-2.1.0-py3-none-any.whl.metadata (2.3 kB)\n",
      "Collecting astunparse>=1.6.0 (from tensorflow)\n",
      "  Downloading astunparse-1.6.3-py2.py3-none-any.whl.metadata (4.4 kB)\n",
      "Collecting flatbuffers>=23.5.26 (from tensorflow)\n",
      "  Downloading flatbuffers-24.3.25-py2.py3-none-any.whl.metadata (850 bytes)\n",
      "Collecting gast!=0.5.0,!=0.5.1,!=0.5.2,>=0.2.1 (from tensorflow)\n",
      "  Downloading gast-0.5.4-py3-none-any.whl.metadata (1.3 kB)\n",
      "Collecting google-pasta>=0.1.1 (from tensorflow)\n",
      "  Downloading google_pasta-0.2.0-py3-none-any.whl.metadata (814 bytes)\n",
      "Collecting h5py>=3.10.0 (from tensorflow)\n",
      "  Downloading h5py-3.10.0-cp310-cp310-manylinux_2_17_x86_64.manylinux2014_x86_64.whl.metadata (2.5 kB)\n",
      "Collecting libclang>=13.0.0 (from tensorflow)\n",
      "  Downloading libclang-18.1.1-py2.py3-none-manylinux2010_x86_64.whl.metadata (5.2 kB)\n",
      "Collecting ml-dtypes~=0.3.1 (from tensorflow)\n",
      "  Downloading ml_dtypes-0.3.2-cp310-cp310-manylinux_2_17_x86_64.manylinux2014_x86_64.whl.metadata (20 kB)\n",
      "Collecting opt-einsum>=2.3.2 (from tensorflow)\n",
      "  Downloading opt_einsum-3.3.0-py3-none-any.whl.metadata (6.5 kB)\n",
      "Requirement already satisfied: packaging in /usr/local/lib/python3.10/dist-packages (from tensorflow) (23.2)\n",
      "Collecting protobuf!=4.21.0,!=4.21.1,!=4.21.2,!=4.21.3,!=4.21.4,!=4.21.5,<5.0.0dev,>=3.20.3 (from tensorflow)\n",
      "  Downloading protobuf-4.25.3-cp37-abi3-manylinux2014_x86_64.whl.metadata (541 bytes)\n",
      "Requirement already satisfied: requests<3,>=2.21.0 in /usr/local/lib/python3.10/dist-packages (from tensorflow) (2.31.0)\n",
      "Requirement already satisfied: setuptools in /usr/local/lib/python3.10/dist-packages (from tensorflow) (68.2.2)\n",
      "Requirement already satisfied: six>=1.12.0 in /usr/lib/python3/dist-packages (from tensorflow) (1.16.0)\n",
      "Collecting termcolor>=1.1.0 (from tensorflow)\n",
      "  Downloading termcolor-2.4.0-py3-none-any.whl.metadata (6.1 kB)\n",
      "Requirement already satisfied: typing-extensions>=3.6.6 in /usr/local/lib/python3.10/dist-packages (from tensorflow) (4.4.0)\n",
      "Collecting wrapt>=1.11.0 (from tensorflow)\n",
      "  Downloading wrapt-1.16.0-cp310-cp310-manylinux_2_5_x86_64.manylinux1_x86_64.manylinux_2_17_x86_64.manylinux2014_x86_64.whl.metadata (6.6 kB)\n",
      "Collecting grpcio<2.0,>=1.24.3 (from tensorflow)\n",
      "  Downloading grpcio-1.62.1-cp310-cp310-manylinux_2_17_x86_64.manylinux2014_x86_64.whl.metadata (4.0 kB)\n",
      "Collecting tensorboard<2.17,>=2.16 (from tensorflow)\n",
      "  Downloading tensorboard-2.16.2-py3-none-any.whl.metadata (1.6 kB)\n",
      "Collecting keras>=3.0.0 (from tensorflow)\n",
      "  Downloading keras-3.1.1-py3-none-any.whl.metadata (5.6 kB)\n",
      "Collecting tensorflow-io-gcs-filesystem>=0.23.1 (from tensorflow)\n",
      "  Downloading tensorflow_io_gcs_filesystem-0.36.0-cp310-cp310-manylinux_2_17_x86_64.manylinux2014_x86_64.whl.metadata (14 kB)\n",
      "Requirement already satisfied: numpy<2.0.0,>=1.23.5 in /usr/local/lib/python3.10/dist-packages (from tensorflow) (1.24.1)\n",
      "Requirement already satisfied: wheel<1.0,>=0.23.0 in /usr/local/lib/python3.10/dist-packages (from astunparse>=1.6.0->tensorflow) (0.41.3)\n",
      "Collecting rich (from keras>=3.0.0->tensorflow)\n",
      "  Downloading rich-13.7.1-py3-none-any.whl.metadata (18 kB)\n",
      "Collecting namex (from keras>=3.0.0->tensorflow)\n",
      "  Downloading namex-0.0.7-py3-none-any.whl.metadata (246 bytes)\n",
      "Collecting optree (from keras>=3.0.0->tensorflow)\n",
      "  Downloading optree-0.11.0-cp310-cp310-manylinux_2_17_x86_64.manylinux2014_x86_64.whl.metadata (45 kB)\n",
      "\u001b[2K     \u001b[90m━━━━━━━━━━━━━━━━━━━━━━━━━━━━━━━━━━━━━━━━\u001b[0m \u001b[32m45.4/45.4 kB\u001b[0m \u001b[31m8.1 MB/s\u001b[0m eta \u001b[36m0:00:00\u001b[0m\n",
      "\u001b[?25hRequirement already satisfied: charset-normalizer<4,>=2 in /usr/local/lib/python3.10/dist-packages (from requests<3,>=2.21.0->tensorflow) (2.1.1)\n",
      "Requirement already satisfied: idna<4,>=2.5 in /usr/local/lib/python3.10/dist-packages (from requests<3,>=2.21.0->tensorflow) (3.4)\n",
      "Requirement already satisfied: urllib3<3,>=1.21.1 in /usr/local/lib/python3.10/dist-packages (from requests<3,>=2.21.0->tensorflow) (1.26.13)\n",
      "Requirement already satisfied: certifi>=2017.4.17 in /usr/local/lib/python3.10/dist-packages (from requests<3,>=2.21.0->tensorflow) (2022.12.7)\n",
      "Collecting markdown>=2.6.8 (from tensorboard<2.17,>=2.16->tensorflow)\n",
      "  Downloading Markdown-3.6-py3-none-any.whl.metadata (7.0 kB)\n",
      "Collecting tensorboard-data-server<0.8.0,>=0.7.0 (from tensorboard<2.17,>=2.16->tensorflow)\n",
      "  Downloading tensorboard_data_server-0.7.2-py3-none-manylinux_2_31_x86_64.whl.metadata (1.1 kB)\n",
      "Collecting werkzeug>=1.0.1 (from tensorboard<2.17,>=2.16->tensorflow)\n",
      "  Downloading werkzeug-3.0.2-py3-none-any.whl.metadata (4.1 kB)\n",
      "Requirement already satisfied: MarkupSafe>=2.1.1 in /usr/local/lib/python3.10/dist-packages (from werkzeug>=1.0.1->tensorboard<2.17,>=2.16->tensorflow) (2.1.2)\n",
      "Collecting markdown-it-py>=2.2.0 (from rich->keras>=3.0.0->tensorflow)\n",
      "  Downloading markdown_it_py-3.0.0-py3-none-any.whl.metadata (6.9 kB)\n",
      "Requirement already satisfied: pygments<3.0.0,>=2.13.0 in /usr/local/lib/python3.10/dist-packages (from rich->keras>=3.0.0->tensorflow) (2.16.1)\n",
      "Collecting mdurl~=0.1 (from markdown-it-py>=2.2.0->rich->keras>=3.0.0->tensorflow)\n",
      "  Downloading mdurl-0.1.2-py3-none-any.whl.metadata (1.6 kB)\n",
      "Downloading tensorflow-2.16.1-cp310-cp310-manylinux_2_17_x86_64.manylinux2014_x86_64.whl (589.8 MB)\n",
      "\u001b[2K   \u001b[90m━━━━━━━━━━━━━━━━━━━━━━━━━━━━━━━━━━━━━━━━\u001b[0m \u001b[32m589.8/589.8 MB\u001b[0m \u001b[31m7.7 MB/s\u001b[0m eta \u001b[36m0:00:00\u001b[0m:00:01\u001b[0m00:01\u001b[0m\n",
      "\u001b[?25hDownloading absl_py-2.1.0-py3-none-any.whl (133 kB)\n",
      "\u001b[2K   \u001b[90m━━━━━━━━━━━━━━━━━━━━━━━━━━━━━━━━━━━━━━━━\u001b[0m \u001b[32m133.7/133.7 kB\u001b[0m \u001b[31m18.0 MB/s\u001b[0m eta \u001b[36m0:00:00\u001b[0m\n",
      "\u001b[?25hDownloading astunparse-1.6.3-py2.py3-none-any.whl (12 kB)\n",
      "Downloading flatbuffers-24.3.25-py2.py3-none-any.whl (26 kB)\n",
      "Downloading gast-0.5.4-py3-none-any.whl (19 kB)\n",
      "Downloading google_pasta-0.2.0-py3-none-any.whl (57 kB)\n",
      "\u001b[2K   \u001b[90m━━━━━━━━━━━━━━━━━━━━━━━━━━━━━━━━━━━━━━━━\u001b[0m \u001b[32m57.5/57.5 kB\u001b[0m \u001b[31m8.9 MB/s\u001b[0m eta \u001b[36m0:00:00\u001b[0m\n",
      "\u001b[?25hDownloading grpcio-1.62.1-cp310-cp310-manylinux_2_17_x86_64.manylinux2014_x86_64.whl (5.5 MB)\n",
      "\u001b[2K   \u001b[90m━━━━━━━━━━━━━━━━━━━━━━━━━━━━━━━━━━━━━━━━\u001b[0m \u001b[32m5.5/5.5 MB\u001b[0m \u001b[31m79.5 MB/s\u001b[0m eta \u001b[36m0:00:00\u001b[0mta \u001b[36m0:00:01\u001b[0m\n",
      "\u001b[?25hDownloading h5py-3.10.0-cp310-cp310-manylinux_2_17_x86_64.manylinux2014_x86_64.whl (4.8 MB)\n",
      "\u001b[2K   \u001b[90m━━━━━━━━━━━━━━━━━━━━━━━━━━━━━━━━━━━━━━━━\u001b[0m \u001b[32m4.8/4.8 MB\u001b[0m \u001b[31m77.4 MB/s\u001b[0m eta \u001b[36m0:00:00\u001b[0mta \u001b[36m0:00:01\u001b[0m\n",
      "\u001b[?25hDownloading keras-3.1.1-py3-none-any.whl (1.1 MB)\n",
      "\u001b[2K   \u001b[90m━━━━━━━━━━━━━━━━━━━━━━━━━━━━━━━━━━━━━━━━\u001b[0m \u001b[32m1.1/1.1 MB\u001b[0m \u001b[31m67.4 MB/s\u001b[0m eta \u001b[36m0:00:00\u001b[0m\n",
      "\u001b[?25hDownloading libclang-18.1.1-py2.py3-none-manylinux2010_x86_64.whl (24.5 MB)\n",
      "\u001b[2K   \u001b[90m━━━━━━━━━━━━━━━━━━━━━━━━━━━━━━━━━━━━━━━━\u001b[0m \u001b[32m24.5/24.5 MB\u001b[0m \u001b[31m61.2 MB/s\u001b[0m eta \u001b[36m0:00:00\u001b[0m00:01\u001b[0m00:01\u001b[0m\n",
      "\u001b[?25hDownloading ml_dtypes-0.3.2-cp310-cp310-manylinux_2_17_x86_64.manylinux2014_x86_64.whl (2.2 MB)\n",
      "\u001b[2K   \u001b[90m━━━━━━━━━━━━━━━━━━━━━━━━━━━━━━━━━━━━━━━━\u001b[0m \u001b[32m2.2/2.2 MB\u001b[0m \u001b[31m86.6 MB/s\u001b[0m eta \u001b[36m0:00:00\u001b[0m\n",
      "\u001b[?25hDownloading opt_einsum-3.3.0-py3-none-any.whl (65 kB)\n",
      "\u001b[2K   \u001b[90m━━━━━━━━━━━━━━━━━━━━━━━━━━━━━━━━━━━━━━━━\u001b[0m \u001b[32m65.5/65.5 kB\u001b[0m \u001b[31m11.4 MB/s\u001b[0m eta \u001b[36m0:00:00\u001b[0m\n",
      "\u001b[?25hDownloading protobuf-4.25.3-cp37-abi3-manylinux2014_x86_64.whl (294 kB)\n",
      "\u001b[2K   \u001b[90m━━━━━━━━━━━━━━━━━━━━━━━━━━━━━━━━━━━━━━━━\u001b[0m \u001b[32m294.6/294.6 kB\u001b[0m \u001b[31m40.5 MB/s\u001b[0m eta \u001b[36m0:00:00\u001b[0m\n",
      "\u001b[?25hDownloading tensorboard-2.16.2-py3-none-any.whl (5.5 MB)\n",
      "\u001b[2K   \u001b[90m━━━━━━━━━━━━━━━━━━━━━━━━━━━━━━━━━━━━━━━━\u001b[0m \u001b[32m5.5/5.5 MB\u001b[0m \u001b[31m84.5 MB/s\u001b[0m eta \u001b[36m0:00:00\u001b[0mta \u001b[36m0:00:01\u001b[0m\n",
      "\u001b[?25hDownloading tensorflow_io_gcs_filesystem-0.36.0-cp310-cp310-manylinux_2_17_x86_64.manylinux2014_x86_64.whl (5.1 MB)\n",
      "\u001b[2K   \u001b[90m━━━━━━━━━━━━━━━━━━━━━━━━━━━━━━━━━━━━━━━━\u001b[0m \u001b[32m5.1/5.1 MB\u001b[0m \u001b[31m86.9 MB/s\u001b[0m eta \u001b[36m0:00:00\u001b[0mta \u001b[36m0:00:01\u001b[0m\n",
      "\u001b[?25hDownloading termcolor-2.4.0-py3-none-any.whl (7.7 kB)\n",
      "Downloading wrapt-1.16.0-cp310-cp310-manylinux_2_5_x86_64.manylinux1_x86_64.manylinux_2_17_x86_64.manylinux2014_x86_64.whl (80 kB)\n",
      "\u001b[2K   \u001b[90m━━━━━━━━━━━━━━━━━━━━━━━━━━━━━━━━━━━━━━━━\u001b[0m \u001b[32m80.3/80.3 kB\u001b[0m \u001b[31m13.5 MB/s\u001b[0m eta \u001b[36m0:00:00\u001b[0m\n",
      "\u001b[?25hDownloading Markdown-3.6-py3-none-any.whl (105 kB)\n",
      "\u001b[2K   \u001b[90m━━━━━━━━━━━━━━━━━━━━━━━━━━━━━━━━━━━━━━━━\u001b[0m \u001b[32m105.4/105.4 kB\u001b[0m \u001b[31m18.7 MB/s\u001b[0m eta \u001b[36m0:00:00\u001b[0m\n",
      "\u001b[?25hDownloading tensorboard_data_server-0.7.2-py3-none-manylinux_2_31_x86_64.whl (6.6 MB)\n",
      "\u001b[2K   \u001b[90m━━━━━━━━━━━━━━━━━━━━━━━━━━━━━━━━━━━━━━━━\u001b[0m \u001b[32m6.6/6.6 MB\u001b[0m \u001b[31m84.5 MB/s\u001b[0m eta \u001b[36m0:00:00\u001b[0m:00:01\u001b[0m00:01\u001b[0m\n",
      "\u001b[?25hDownloading werkzeug-3.0.2-py3-none-any.whl (226 kB)\n",
      "\u001b[2K   \u001b[90m━━━━━━━━━━━━━━━━━━━━━━━━━━━━━━━━━━━━━━━━\u001b[0m \u001b[32m226.8/226.8 kB\u001b[0m \u001b[31m34.8 MB/s\u001b[0m eta \u001b[36m0:00:00\u001b[0m\n",
      "\u001b[?25hDownloading namex-0.0.7-py3-none-any.whl (5.8 kB)\n",
      "Downloading optree-0.11.0-cp310-cp310-manylinux_2_17_x86_64.manylinux2014_x86_64.whl (311 kB)\n",
      "\u001b[2K   \u001b[90m━━━━━━━━━━━━━━━━━━━━━━━━━━━━━━━━━━━━━━━━\u001b[0m \u001b[32m311.2/311.2 kB\u001b[0m \u001b[31m34.5 MB/s\u001b[0m eta \u001b[36m0:00:00\u001b[0m\n",
      "\u001b[?25hDownloading rich-13.7.1-py3-none-any.whl (240 kB)\n",
      "\u001b[2K   \u001b[90m━━━━━━━━━━━━━━━━━━━━━━━━━━━━━━━━━━━━━━━━\u001b[0m \u001b[32m240.7/240.7 kB\u001b[0m \u001b[31m32.4 MB/s\u001b[0m eta \u001b[36m0:00:00\u001b[0m\n",
      "\u001b[?25hDownloading markdown_it_py-3.0.0-py3-none-any.whl (87 kB)\n",
      "\u001b[2K   \u001b[90m━━━━━━━━━━━━━━━━━━━━━━━━━━━━━━━━━━━━━━━━\u001b[0m \u001b[32m87.5/87.5 kB\u001b[0m \u001b[31m15.5 MB/s\u001b[0m eta \u001b[36m0:00:00\u001b[0m\n",
      "\u001b[?25hDownloading mdurl-0.1.2-py3-none-any.whl (10.0 kB)\n",
      "Installing collected packages: namex, libclang, flatbuffers, wrapt, werkzeug, termcolor, tensorflow-io-gcs-filesystem, tensorboard-data-server, protobuf, optree, opt-einsum, ml-dtypes, mdurl, markdown, h5py, grpcio, google-pasta, gast, astunparse, absl-py, tensorboard, markdown-it-py, rich, keras, tensorflow\n",
      "Successfully installed absl-py-2.1.0 astunparse-1.6.3 flatbuffers-24.3.25 gast-0.5.4 google-pasta-0.2.0 grpcio-1.62.1 h5py-3.10.0 keras-3.1.1 libclang-18.1.1 markdown-3.6 markdown-it-py-3.0.0 mdurl-0.1.2 ml-dtypes-0.3.2 namex-0.0.7 opt-einsum-3.3.0 optree-0.11.0 protobuf-4.25.3 rich-13.7.1 tensorboard-2.16.2 tensorboard-data-server-0.7.2 tensorflow-2.16.1 tensorflow-io-gcs-filesystem-0.36.0 termcolor-2.4.0 werkzeug-3.0.2 wrapt-1.16.0\n",
      "\u001b[33mWARNING: Running pip as the 'root' user can result in broken permissions and conflicting behaviour with the system package manager. It is recommended to use a virtual environment instead: https://pip.pypa.io/warnings/venv\u001b[0m\u001b[33m\n",
      "\u001b[0m"
     ]
    }
   ],
   "source": [
    "!apt-get update && python -m pip install --upgrade pip && apt-get -y install vim rsync coreutils git-lfs less && pip install tensorflow "
   ]
  },
  {
   "cell_type": "code",
   "execution_count": null,
   "metadata": {},
   "outputs": [],
   "source": [
    "! git clone https://github.com/oleksandr-diudiun/mlx-week5.git\n",
    "import os\n",
    "os.chdir('mlx-week5')\n",
    "! git lfs pull"
   ]
  },
  {
   "cell_type": "code",
   "execution_count": 2,
   "metadata": {},
   "outputs": [
    {
     "name": "stdout",
     "output_type": "stream",
     "text": [
      "Collecting pandas\n",
      "  Downloading pandas-2.2.1-cp310-cp310-manylinux_2_17_x86_64.manylinux2014_x86_64.whl.metadata (19 kB)\n",
      "Requirement already satisfied: numpy<2,>=1.22.4 in /usr/local/lib/python3.10/dist-packages (from pandas) (1.24.1)\n",
      "Requirement already satisfied: python-dateutil>=2.8.2 in /usr/local/lib/python3.10/dist-packages (from pandas) (2.8.2)\n",
      "Collecting pytz>=2020.1 (from pandas)\n",
      "  Downloading pytz-2024.1-py2.py3-none-any.whl.metadata (22 kB)\n",
      "Collecting tzdata>=2022.7 (from pandas)\n",
      "  Downloading tzdata-2024.1-py2.py3-none-any.whl.metadata (1.4 kB)\n",
      "Requirement already satisfied: six>=1.5 in /usr/lib/python3/dist-packages (from python-dateutil>=2.8.2->pandas) (1.16.0)\n",
      "Downloading pandas-2.2.1-cp310-cp310-manylinux_2_17_x86_64.manylinux2014_x86_64.whl (13.0 MB)\n",
      "\u001b[2K   \u001b[90m━━━━━━━━━━━━━━━━━━━━━━━━━━━━━━━━━━━━━━━━\u001b[0m \u001b[32m13.0/13.0 MB\u001b[0m \u001b[31m69.4 MB/s\u001b[0m eta \u001b[36m0:00:00\u001b[0m00:01\u001b[0m00:01\u001b[0m\n",
      "\u001b[?25hDownloading pytz-2024.1-py2.py3-none-any.whl (505 kB)\n",
      "\u001b[2K   \u001b[90m━━━━━━━━━━━━━━━━━━━━━━━━━━━━━━━━━━━━━━━━\u001b[0m \u001b[32m505.5/505.5 kB\u001b[0m \u001b[31m39.9 MB/s\u001b[0m eta \u001b[36m0:00:00\u001b[0m\n",
      "\u001b[?25hDownloading tzdata-2024.1-py2.py3-none-any.whl (345 kB)\n",
      "\u001b[2K   \u001b[90m━━━━━━━━━━━━━━━━━━━━━━━━━━━━━━━━━━━━━━━━\u001b[0m \u001b[32m345.4/345.4 kB\u001b[0m \u001b[31m36.8 MB/s\u001b[0m eta \u001b[36m0:00:00\u001b[0m\n",
      "\u001b[?25hInstalling collected packages: pytz, tzdata, pandas\n",
      "Successfully installed pandas-2.2.1 pytz-2024.1 tzdata-2024.1\n",
      "\u001b[33mWARNING: Running pip as the 'root' user can result in broken permissions and conflicting behaviour with the system package manager. It is recommended to use a virtual environment instead: https://pip.pypa.io/warnings/venv\u001b[0m\u001b[33m\n",
      "\u001b[0mCollecting pyarrow\n",
      "  Downloading pyarrow-15.0.2-cp310-cp310-manylinux_2_28_x86_64.whl.metadata (3.0 kB)\n",
      "Requirement already satisfied: numpy<2,>=1.16.6 in /usr/local/lib/python3.10/dist-packages (from pyarrow) (1.24.1)\n",
      "Downloading pyarrow-15.0.2-cp310-cp310-manylinux_2_28_x86_64.whl (38.3 MB)\n",
      "\u001b[2K   \u001b[90m━━━━━━━━━━━━━━━━━━━━━━━━━━━━━━━━━━━━━━━━\u001b[0m \u001b[32m38.3/38.3 MB\u001b[0m \u001b[31m48.3 MB/s\u001b[0m eta \u001b[36m0:00:00\u001b[0m:00:01\u001b[0m00:01\u001b[0m\n",
      "\u001b[?25hInstalling collected packages: pyarrow\n",
      "Successfully installed pyarrow-15.0.2\n",
      "\u001b[33mWARNING: Running pip as the 'root' user can result in broken permissions and conflicting behaviour with the system package manager. It is recommended to use a virtual environment instead: https://pip.pypa.io/warnings/venv\u001b[0m\u001b[33m\n",
      "\u001b[0mRequirement already satisfied: Pillow in /usr/local/lib/python3.10/dist-packages (9.3.0)\n",
      "\u001b[33mWARNING: Running pip as the 'root' user can result in broken permissions and conflicting behaviour with the system package manager. It is recommended to use a virtual environment instead: https://pip.pypa.io/warnings/venv\u001b[0m\u001b[33m\n",
      "\u001b[0mCollecting matplotlib\n",
      "  Downloading matplotlib-3.8.4-cp310-cp310-manylinux_2_17_x86_64.manylinux2014_x86_64.whl.metadata (5.8 kB)\n",
      "Collecting contourpy>=1.0.1 (from matplotlib)\n",
      "  Downloading contourpy-1.2.1-cp310-cp310-manylinux_2_17_x86_64.manylinux2014_x86_64.whl.metadata (5.8 kB)\n",
      "Collecting cycler>=0.10 (from matplotlib)\n",
      "  Downloading cycler-0.12.1-py3-none-any.whl.metadata (3.8 kB)\n",
      "Collecting fonttools>=4.22.0 (from matplotlib)\n",
      "  Downloading fonttools-4.51.0-cp310-cp310-manylinux_2_17_x86_64.manylinux2014_x86_64.whl.metadata (159 kB)\n",
      "\u001b[2K     \u001b[90m━━━━━━━━━━━━━━━━━━━━━━━━━━━━━━━━━━━━━━━\u001b[0m \u001b[32m159.5/159.5 kB\u001b[0m \u001b[31m8.2 MB/s\u001b[0m eta \u001b[36m0:00:00\u001b[0m\n",
      "\u001b[?25hCollecting kiwisolver>=1.3.1 (from matplotlib)\n",
      "  Downloading kiwisolver-1.4.5-cp310-cp310-manylinux_2_12_x86_64.manylinux2010_x86_64.whl.metadata (6.4 kB)\n",
      "Requirement already satisfied: numpy>=1.21 in /usr/local/lib/python3.10/dist-packages (from matplotlib) (1.24.1)\n",
      "Requirement already satisfied: packaging>=20.0 in /usr/local/lib/python3.10/dist-packages (from matplotlib) (23.2)\n",
      "Requirement already satisfied: pillow>=8 in /usr/local/lib/python3.10/dist-packages (from matplotlib) (9.3.0)\n",
      "Requirement already satisfied: pyparsing>=2.3.1 in /usr/lib/python3/dist-packages (from matplotlib) (2.4.7)\n",
      "Requirement already satisfied: python-dateutil>=2.7 in /usr/local/lib/python3.10/dist-packages (from matplotlib) (2.8.2)\n",
      "Requirement already satisfied: six>=1.5 in /usr/lib/python3/dist-packages (from python-dateutil>=2.7->matplotlib) (1.16.0)\n",
      "Downloading matplotlib-3.8.4-cp310-cp310-manylinux_2_17_x86_64.manylinux2014_x86_64.whl (11.6 MB)\n",
      "\u001b[2K   \u001b[90m━━━━━━━━━━━━━━━━━━━━━━━━━━━━━━━━━━━━━━━━\u001b[0m \u001b[32m11.6/11.6 MB\u001b[0m \u001b[31m79.8 MB/s\u001b[0m eta \u001b[36m0:00:00\u001b[0m:00:01\u001b[0m0:01\u001b[0m\n",
      "\u001b[?25hDownloading contourpy-1.2.1-cp310-cp310-manylinux_2_17_x86_64.manylinux2014_x86_64.whl (305 kB)\n",
      "\u001b[2K   \u001b[90m━━━━━━━━━━━━━━━━━━━━━━━━━━━━━━━━━━━━━━━━\u001b[0m \u001b[32m305.2/305.2 kB\u001b[0m \u001b[31m39.9 MB/s\u001b[0m eta \u001b[36m0:00:00\u001b[0m\n",
      "\u001b[?25hDownloading cycler-0.12.1-py3-none-any.whl (8.3 kB)\n",
      "Downloading fonttools-4.51.0-cp310-cp310-manylinux_2_17_x86_64.manylinux2014_x86_64.whl (4.6 MB)\n",
      "\u001b[2K   \u001b[90m━━━━━━━━━━━━━━━━━━━━━━━━━━━━━━━━━━━━━━━━\u001b[0m \u001b[32m4.6/4.6 MB\u001b[0m \u001b[31m93.3 MB/s\u001b[0m eta \u001b[36m0:00:00\u001b[0m:00:01\u001b[0m\n",
      "\u001b[?25hDownloading kiwisolver-1.4.5-cp310-cp310-manylinux_2_12_x86_64.manylinux2010_x86_64.whl (1.6 MB)\n",
      "\u001b[2K   \u001b[90m━━━━━━━━━━━━━━━━━━━━━━━━━━━━━━━━━━━━━━━━\u001b[0m \u001b[32m1.6/1.6 MB\u001b[0m \u001b[31m86.0 MB/s\u001b[0m eta \u001b[36m0:00:00\u001b[0m\n",
      "\u001b[?25hInstalling collected packages: kiwisolver, fonttools, cycler, contourpy, matplotlib\n",
      "Successfully installed contourpy-1.2.1 cycler-0.12.1 fonttools-4.51.0 kiwisolver-1.4.5 matplotlib-3.8.4\n",
      "\u001b[33mWARNING: Running pip as the 'root' user can result in broken permissions and conflicting behaviour with the system package manager. It is recommended to use a virtual environment instead: https://pip.pypa.io/warnings/venv\u001b[0m\u001b[33m\n",
      "\u001b[0mCollecting scikit-learn\n",
      "  Downloading scikit_learn-1.4.1.post1-cp310-cp310-manylinux_2_17_x86_64.manylinux2014_x86_64.whl.metadata (11 kB)\n",
      "Requirement already satisfied: numpy<2.0,>=1.19.5 in /usr/local/lib/python3.10/dist-packages (from scikit-learn) (1.24.1)\n",
      "Collecting scipy>=1.6.0 (from scikit-learn)\n",
      "  Downloading scipy-1.13.0-cp310-cp310-manylinux_2_17_x86_64.manylinux2014_x86_64.whl.metadata (60 kB)\n",
      "\u001b[2K     \u001b[90m━━━━━━━━━━━━━━━━━━━━━━━━━━━━━━━━━━━━━━━━\u001b[0m \u001b[32m60.6/60.6 kB\u001b[0m \u001b[31m2.1 MB/s\u001b[0m eta \u001b[36m0:00:00\u001b[0m\n",
      "\u001b[?25hCollecting joblib>=1.2.0 (from scikit-learn)\n",
      "  Downloading joblib-1.3.2-py3-none-any.whl.metadata (5.4 kB)\n",
      "Collecting threadpoolctl>=2.0.0 (from scikit-learn)\n",
      "  Downloading threadpoolctl-3.4.0-py3-none-any.whl.metadata (13 kB)\n",
      "Downloading scikit_learn-1.4.1.post1-cp310-cp310-manylinux_2_17_x86_64.manylinux2014_x86_64.whl (12.1 MB)\n",
      "\u001b[2K   \u001b[90m━━━━━━━━━━━━━━━━━━━━━━━━━━━━━━━━━━━━━━━━\u001b[0m \u001b[32m12.1/12.1 MB\u001b[0m \u001b[31m85.3 MB/s\u001b[0m eta \u001b[36m0:00:00\u001b[0m:00:01\u001b[0m0:01\u001b[0m\n",
      "\u001b[?25hDownloading joblib-1.3.2-py3-none-any.whl (302 kB)\n",
      "\u001b[2K   \u001b[90m━━━━━━━━━━━━━━━━━━━━━━━━━━━━━━━━━━━━━━━━\u001b[0m \u001b[32m302.2/302.2 kB\u001b[0m \u001b[31m42.4 MB/s\u001b[0m eta \u001b[36m0:00:00\u001b[0m\n",
      "\u001b[?25hDownloading scipy-1.13.0-cp310-cp310-manylinux_2_17_x86_64.manylinux2014_x86_64.whl (38.6 MB)\n",
      "\u001b[2K   \u001b[90m━━━━━━━━━━━━━━━━━━━━━━━━━━━━━━━━━━━━━━━━\u001b[0m \u001b[32m38.6/38.6 MB\u001b[0m \u001b[31m33.5 MB/s\u001b[0m eta \u001b[36m0:00:00\u001b[0m:00:01\u001b[0m00:01\u001b[0m\n",
      "\u001b[?25hDownloading threadpoolctl-3.4.0-py3-none-any.whl (17 kB)\n",
      "Installing collected packages: threadpoolctl, scipy, joblib, scikit-learn\n",
      "Successfully installed joblib-1.3.2 scikit-learn-1.4.1.post1 scipy-1.13.0 threadpoolctl-3.4.0\n",
      "\u001b[33mWARNING: Running pip as the 'root' user can result in broken permissions and conflicting behaviour with the system package manager. It is recommended to use a virtual environment instead: https://pip.pypa.io/warnings/venv\u001b[0m\u001b[33m\n",
      "\u001b[0mRequirement already satisfied: torch in /usr/local/lib/python3.10/dist-packages (2.1.0+cu118)\n",
      "Requirement already satisfied: filelock in /usr/local/lib/python3.10/dist-packages (from torch) (3.9.0)\n",
      "Requirement already satisfied: typing-extensions in /usr/local/lib/python3.10/dist-packages (from torch) (4.4.0)\n",
      "Requirement already satisfied: sympy in /usr/local/lib/python3.10/dist-packages (from torch) (1.12)\n",
      "Requirement already satisfied: networkx in /usr/local/lib/python3.10/dist-packages (from torch) (3.0)\n",
      "Requirement already satisfied: jinja2 in /usr/local/lib/python3.10/dist-packages (from torch) (3.1.2)\n",
      "Requirement already satisfied: fsspec in /usr/local/lib/python3.10/dist-packages (from torch) (2023.4.0)\n",
      "Requirement already satisfied: triton==2.1.0 in /usr/local/lib/python3.10/dist-packages (from torch) (2.1.0)\n",
      "Requirement already satisfied: MarkupSafe>=2.0 in /usr/local/lib/python3.10/dist-packages (from jinja2->torch) (2.1.2)\n",
      "Requirement already satisfied: mpmath>=0.19 in /usr/local/lib/python3.10/dist-packages (from sympy->torch) (1.3.0)\n",
      "\u001b[33mWARNING: Running pip as the 'root' user can result in broken permissions and conflicting behaviour with the system package manager. It is recommended to use a virtual environment instead: https://pip.pypa.io/warnings/venv\u001b[0m\u001b[33m\n",
      "\u001b[0mCollecting tqdm\n",
      "  Downloading tqdm-4.66.2-py3-none-any.whl.metadata (57 kB)\n",
      "\u001b[2K     \u001b[90m━━━━━━━━━━━━━━━━━━━━━━━━━━━━━━━━━━━━━━━━\u001b[0m \u001b[32m57.6/57.6 kB\u001b[0m \u001b[31m1.8 MB/s\u001b[0m eta \u001b[36m0:00:00\u001b[0m\n",
      "\u001b[?25hDownloading tqdm-4.66.2-py3-none-any.whl (78 kB)\n",
      "\u001b[2K   \u001b[90m━━━━━━━━━━━━━━━━━━━━━━━━━━━━━━━━━━━━━━━━\u001b[0m \u001b[32m78.3/78.3 kB\u001b[0m \u001b[31m8.4 MB/s\u001b[0m eta \u001b[36m0:00:00\u001b[0m\n",
      "\u001b[?25hInstalling collected packages: tqdm\n",
      "Successfully installed tqdm-4.66.2\n",
      "\u001b[33mWARNING: Running pip as the 'root' user can result in broken permissions and conflicting behaviour with the system package manager. It is recommended to use a virtual environment instead: https://pip.pypa.io/warnings/venv\u001b[0m\u001b[33m\n",
      "\u001b[0mCollecting ipdb\n",
      "  Downloading ipdb-0.13.13-py3-none-any.whl.metadata (14 kB)\n",
      "Requirement already satisfied: ipython>=7.31.1 in /usr/local/lib/python3.10/dist-packages (from ipdb) (8.17.2)\n",
      "Requirement already satisfied: tomli in /usr/local/lib/python3.10/dist-packages (from ipdb) (2.0.1)\n",
      "Requirement already satisfied: decorator in /usr/local/lib/python3.10/dist-packages (from ipdb) (5.1.1)\n",
      "Requirement already satisfied: jedi>=0.16 in /usr/local/lib/python3.10/dist-packages (from ipython>=7.31.1->ipdb) (0.19.1)\n",
      "Requirement already satisfied: matplotlib-inline in /usr/local/lib/python3.10/dist-packages (from ipython>=7.31.1->ipdb) (0.1.6)\n",
      "Requirement already satisfied: prompt-toolkit!=3.0.37,<3.1.0,>=3.0.30 in /usr/local/lib/python3.10/dist-packages (from ipython>=7.31.1->ipdb) (3.0.39)\n",
      "Requirement already satisfied: pygments>=2.4.0 in /usr/local/lib/python3.10/dist-packages (from ipython>=7.31.1->ipdb) (2.16.1)\n",
      "Requirement already satisfied: stack-data in /usr/local/lib/python3.10/dist-packages (from ipython>=7.31.1->ipdb) (0.6.3)\n",
      "Requirement already satisfied: traitlets>=5 in /usr/local/lib/python3.10/dist-packages (from ipython>=7.31.1->ipdb) (5.13.0)\n",
      "Requirement already satisfied: exceptiongroup in /usr/local/lib/python3.10/dist-packages (from ipython>=7.31.1->ipdb) (1.1.3)\n",
      "Requirement already satisfied: pexpect>4.3 in /usr/local/lib/python3.10/dist-packages (from ipython>=7.31.1->ipdb) (4.8.0)\n",
      "Requirement already satisfied: parso<0.9.0,>=0.8.3 in /usr/local/lib/python3.10/dist-packages (from jedi>=0.16->ipython>=7.31.1->ipdb) (0.8.3)\n",
      "Requirement already satisfied: ptyprocess>=0.5 in /usr/local/lib/python3.10/dist-packages (from pexpect>4.3->ipython>=7.31.1->ipdb) (0.7.0)\n",
      "Requirement already satisfied: wcwidth in /usr/local/lib/python3.10/dist-packages (from prompt-toolkit!=3.0.37,<3.1.0,>=3.0.30->ipython>=7.31.1->ipdb) (0.2.9)\n",
      "Requirement already satisfied: executing>=1.2.0 in /usr/local/lib/python3.10/dist-packages (from stack-data->ipython>=7.31.1->ipdb) (2.0.1)\n",
      "Requirement already satisfied: asttokens>=2.1.0 in /usr/local/lib/python3.10/dist-packages (from stack-data->ipython>=7.31.1->ipdb) (2.4.1)\n",
      "Requirement already satisfied: pure-eval in /usr/local/lib/python3.10/dist-packages (from stack-data->ipython>=7.31.1->ipdb) (0.2.2)\n",
      "Requirement already satisfied: six>=1.12.0 in /usr/lib/python3/dist-packages (from asttokens>=2.1.0->stack-data->ipython>=7.31.1->ipdb) (1.16.0)\n",
      "Downloading ipdb-0.13.13-py3-none-any.whl (12 kB)\n",
      "Installing collected packages: ipdb\n",
      "Successfully installed ipdb-0.13.13\n",
      "\u001b[33mWARNING: Running pip as the 'root' user can result in broken permissions and conflicting behaviour with the system package manager. It is recommended to use a virtual environment instead: https://pip.pypa.io/warnings/venv\u001b[0m\u001b[33m\n",
      "\u001b[0mCollecting sentencepiece\n",
      "  Downloading sentencepiece-0.2.0-cp310-cp310-manylinux_2_17_x86_64.manylinux2014_x86_64.whl.metadata (7.7 kB)\n",
      "Downloading sentencepiece-0.2.0-cp310-cp310-manylinux_2_17_x86_64.manylinux2014_x86_64.whl (1.3 MB)\n",
      "\u001b[2K   \u001b[90m━━━━━━━━━━━━━━━━━━━━━━━━━━━━━━━━━━━━━━━━\u001b[0m \u001b[32m1.3/1.3 MB\u001b[0m \u001b[31m24.9 MB/s\u001b[0m eta \u001b[36m0:00:00\u001b[0ma \u001b[36m0:00:01\u001b[0m\n",
      "\u001b[?25hInstalling collected packages: sentencepiece\n",
      "Successfully installed sentencepiece-0.2.0\n",
      "\u001b[33mWARNING: Running pip as the 'root' user can result in broken permissions and conflicting behaviour with the system package manager. It is recommended to use a virtual environment instead: https://pip.pypa.io/warnings/venv\u001b[0m\u001b[33m\n",
      "\u001b[0mRequirement already satisfied: tensorboard in /usr/local/lib/python3.10/dist-packages (2.16.2)\n",
      "Requirement already satisfied: absl-py>=0.4 in /usr/local/lib/python3.10/dist-packages (from tensorboard) (2.1.0)\n",
      "Requirement already satisfied: grpcio>=1.48.2 in /usr/local/lib/python3.10/dist-packages (from tensorboard) (1.62.1)\n",
      "Requirement already satisfied: markdown>=2.6.8 in /usr/local/lib/python3.10/dist-packages (from tensorboard) (3.6)\n",
      "Requirement already satisfied: numpy>=1.12.0 in /usr/local/lib/python3.10/dist-packages (from tensorboard) (1.24.1)\n",
      "Requirement already satisfied: protobuf!=4.24.0,>=3.19.6 in /usr/local/lib/python3.10/dist-packages (from tensorboard) (4.25.3)\n",
      "Requirement already satisfied: setuptools>=41.0.0 in /usr/local/lib/python3.10/dist-packages (from tensorboard) (68.2.2)\n",
      "Requirement already satisfied: six>1.9 in /usr/lib/python3/dist-packages (from tensorboard) (1.16.0)\n",
      "Requirement already satisfied: tensorboard-data-server<0.8.0,>=0.7.0 in /usr/local/lib/python3.10/dist-packages (from tensorboard) (0.7.2)\n",
      "Requirement already satisfied: werkzeug>=1.0.1 in /usr/local/lib/python3.10/dist-packages (from tensorboard) (3.0.2)\n",
      "Requirement already satisfied: MarkupSafe>=2.1.1 in /usr/local/lib/python3.10/dist-packages (from werkzeug>=1.0.1->tensorboard) (2.1.2)\n",
      "\u001b[33mWARNING: Running pip as the 'root' user can result in broken permissions and conflicting behaviour with the system package manager. It is recommended to use a virtual environment instead: https://pip.pypa.io/warnings/venv\u001b[0m\u001b[33m\n",
      "\u001b[0mRequirement already satisfied: tensorflow in /usr/local/lib/python3.10/dist-packages (2.16.1)\n",
      "Requirement already satisfied: absl-py>=1.0.0 in /usr/local/lib/python3.10/dist-packages (from tensorflow) (2.1.0)\n",
      "Requirement already satisfied: astunparse>=1.6.0 in /usr/local/lib/python3.10/dist-packages (from tensorflow) (1.6.3)\n",
      "Requirement already satisfied: flatbuffers>=23.5.26 in /usr/local/lib/python3.10/dist-packages (from tensorflow) (24.3.25)\n",
      "Requirement already satisfied: gast!=0.5.0,!=0.5.1,!=0.5.2,>=0.2.1 in /usr/local/lib/python3.10/dist-packages (from tensorflow) (0.5.4)\n",
      "Requirement already satisfied: google-pasta>=0.1.1 in /usr/local/lib/python3.10/dist-packages (from tensorflow) (0.2.0)\n",
      "Requirement already satisfied: h5py>=3.10.0 in /usr/local/lib/python3.10/dist-packages (from tensorflow) (3.10.0)\n",
      "Requirement already satisfied: libclang>=13.0.0 in /usr/local/lib/python3.10/dist-packages (from tensorflow) (18.1.1)\n",
      "Requirement already satisfied: ml-dtypes~=0.3.1 in /usr/local/lib/python3.10/dist-packages (from tensorflow) (0.3.2)\n",
      "Requirement already satisfied: opt-einsum>=2.3.2 in /usr/local/lib/python3.10/dist-packages (from tensorflow) (3.3.0)\n",
      "Requirement already satisfied: packaging in /usr/local/lib/python3.10/dist-packages (from tensorflow) (23.2)\n",
      "Requirement already satisfied: protobuf!=4.21.0,!=4.21.1,!=4.21.2,!=4.21.3,!=4.21.4,!=4.21.5,<5.0.0dev,>=3.20.3 in /usr/local/lib/python3.10/dist-packages (from tensorflow) (4.25.3)\n",
      "Requirement already satisfied: requests<3,>=2.21.0 in /usr/local/lib/python3.10/dist-packages (from tensorflow) (2.31.0)\n",
      "Requirement already satisfied: setuptools in /usr/local/lib/python3.10/dist-packages (from tensorflow) (68.2.2)\n",
      "Requirement already satisfied: six>=1.12.0 in /usr/lib/python3/dist-packages (from tensorflow) (1.16.0)\n",
      "Requirement already satisfied: termcolor>=1.1.0 in /usr/local/lib/python3.10/dist-packages (from tensorflow) (2.4.0)\n",
      "Requirement already satisfied: typing-extensions>=3.6.6 in /usr/local/lib/python3.10/dist-packages (from tensorflow) (4.4.0)\n",
      "Requirement already satisfied: wrapt>=1.11.0 in /usr/local/lib/python3.10/dist-packages (from tensorflow) (1.16.0)\n",
      "Requirement already satisfied: grpcio<2.0,>=1.24.3 in /usr/local/lib/python3.10/dist-packages (from tensorflow) (1.62.1)\n",
      "Requirement already satisfied: tensorboard<2.17,>=2.16 in /usr/local/lib/python3.10/dist-packages (from tensorflow) (2.16.2)\n",
      "Requirement already satisfied: keras>=3.0.0 in /usr/local/lib/python3.10/dist-packages (from tensorflow) (3.1.1)\n",
      "Requirement already satisfied: tensorflow-io-gcs-filesystem>=0.23.1 in /usr/local/lib/python3.10/dist-packages (from tensorflow) (0.36.0)\n",
      "Requirement already satisfied: numpy<2.0.0,>=1.23.5 in /usr/local/lib/python3.10/dist-packages (from tensorflow) (1.24.1)\n",
      "Requirement already satisfied: wheel<1.0,>=0.23.0 in /usr/local/lib/python3.10/dist-packages (from astunparse>=1.6.0->tensorflow) (0.41.3)\n",
      "Requirement already satisfied: rich in /usr/local/lib/python3.10/dist-packages (from keras>=3.0.0->tensorflow) (13.7.1)\n",
      "Requirement already satisfied: namex in /usr/local/lib/python3.10/dist-packages (from keras>=3.0.0->tensorflow) (0.0.7)\n",
      "Requirement already satisfied: optree in /usr/local/lib/python3.10/dist-packages (from keras>=3.0.0->tensorflow) (0.11.0)\n",
      "Requirement already satisfied: charset-normalizer<4,>=2 in /usr/local/lib/python3.10/dist-packages (from requests<3,>=2.21.0->tensorflow) (2.1.1)\n",
      "Requirement already satisfied: idna<4,>=2.5 in /usr/local/lib/python3.10/dist-packages (from requests<3,>=2.21.0->tensorflow) (3.4)\n",
      "Requirement already satisfied: urllib3<3,>=1.21.1 in /usr/local/lib/python3.10/dist-packages (from requests<3,>=2.21.0->tensorflow) (1.26.13)\n",
      "Requirement already satisfied: certifi>=2017.4.17 in /usr/local/lib/python3.10/dist-packages (from requests<3,>=2.21.0->tensorflow) (2022.12.7)\n",
      "Requirement already satisfied: markdown>=2.6.8 in /usr/local/lib/python3.10/dist-packages (from tensorboard<2.17,>=2.16->tensorflow) (3.6)\n",
      "Requirement already satisfied: tensorboard-data-server<0.8.0,>=0.7.0 in /usr/local/lib/python3.10/dist-packages (from tensorboard<2.17,>=2.16->tensorflow) (0.7.2)\n",
      "Requirement already satisfied: werkzeug>=1.0.1 in /usr/local/lib/python3.10/dist-packages (from tensorboard<2.17,>=2.16->tensorflow) (3.0.2)\n",
      "Requirement already satisfied: MarkupSafe>=2.1.1 in /usr/local/lib/python3.10/dist-packages (from werkzeug>=1.0.1->tensorboard<2.17,>=2.16->tensorflow) (2.1.2)\n",
      "Requirement already satisfied: markdown-it-py>=2.2.0 in /usr/local/lib/python3.10/dist-packages (from rich->keras>=3.0.0->tensorflow) (3.0.0)\n",
      "Requirement already satisfied: pygments<3.0.0,>=2.13.0 in /usr/local/lib/python3.10/dist-packages (from rich->keras>=3.0.0->tensorflow) (2.16.1)\n",
      "Requirement already satisfied: mdurl~=0.1 in /usr/local/lib/python3.10/dist-packages (from markdown-it-py>=2.2.0->rich->keras>=3.0.0->tensorflow) (0.1.2)\n",
      "\u001b[33mWARNING: Running pip as the 'root' user can result in broken permissions and conflicting behaviour with the system package manager. It is recommended to use a virtual environment instead: https://pip.pypa.io/warnings/venv\u001b[0m\u001b[33m\n",
      "\u001b[0m"
     ]
    }
   ],
   "source": [
    "!pip install pandas\n",
    "!pip install pyarrow\n",
    "\n",
    "!pip install Pillow\n",
    "!pip install matplotlib\n",
    "!pip install scikit-learn\n",
    "!pip install torch\n",
    "!pip install tqdm\n",
    "!pip install ipdb\n",
    "!pip install sentencepiece\n",
    "!pip install tensorboard\n",
    "!pip install tensorflow"
   ]
  },
  {
   "cell_type": "code",
   "execution_count": null,
   "metadata": {},
   "outputs": [],
   "source": []
  },
  {
   "cell_type": "code",
   "execution_count": 3,
   "metadata": {},
   "outputs": [
    {
     "name": "stdout",
     "output_type": "stream",
     "text": [
      "/\n"
     ]
    },
    {
     "ename": "FileExistsError",
     "evalue": "[Errno 17] File exists: '/root/mlx-week5/.logs'",
     "output_type": "error",
     "traceback": [
      "\u001b[0;31m---------------------------------------------------------------------------\u001b[0m",
      "\u001b[0;31mFileExistsError\u001b[0m                           Traceback (most recent call last)",
      "Cell \u001b[0;32mIn[3], line 16\u001b[0m\n\u001b[1;32m     14\u001b[0m train_data_path \u001b[38;5;241m=\u001b[39m root \u001b[38;5;241m/\u001b[39m \u001b[38;5;124m\"\u001b[39m\u001b[38;5;124mtrain\u001b[39m\u001b[38;5;124m\"\u001b[39m\n\u001b[1;32m     15\u001b[0m TENSORBOARD_LOGS \u001b[38;5;241m=\u001b[39m root \u001b[38;5;241m/\u001b[39m \u001b[38;5;124m\"\u001b[39m\u001b[38;5;124m.logs\u001b[39m\u001b[38;5;124m\"\u001b[39m\n\u001b[0;32m---> 16\u001b[0m \u001b[43mos\u001b[49m\u001b[38;5;241;43m.\u001b[39;49m\u001b[43mmkdir\u001b[49m\u001b[43m(\u001b[49m\u001b[43mTENSORBOARD_LOGS\u001b[49m\u001b[43m)\u001b[49m\n\u001b[1;32m     18\u001b[0m \u001b[38;5;28mprint\u001b[39m(train_data_path)\n\u001b[1;32m     19\u001b[0m os\u001b[38;5;241m.\u001b[39mchdir(root)\n",
      "\u001b[0;31mFileExistsError\u001b[0m: [Errno 17] File exists: '/root/mlx-week5/.logs'"
     ]
    }
   ],
   "source": [
    "from pathlib import Path\n",
    "import os\n",
    "\n",
    "\n",
    "# os.chdir(\"/root/workspace/mlx-week5/sid\")\n",
    "print(os.getcwd())\n",
    "# root_path = Path(os.getcwd()).resolve().parents[0]\n",
    "# print(root_path)\n",
    "# os.chdir(\"/root/workspace/mlx44/src\")\n",
    "# os.mkdir(root_path / \"workspace/mlx-week5\")\n",
    "# root = Path(\"/Users/sid/workspace/mlx-week5\")\n",
    "root = Path(\"/root/mlx-week5\")\n",
    "root.mkdir(exist_ok=True)\n",
    "train_data_path = root / \"train\"\n",
    "TENSORBOARD_LOGS = root / \".logs\"\n",
    "os.mkdir(TENSORBOARD_LOGS)\n",
    "\n",
    "print(train_data_path)\n",
    "os.chdir(root)"
   ]
  },
  {
   "cell_type": "code",
   "execution_count": 56,
   "metadata": {},
   "outputs": [
    {
     "data": {
      "text/plain": [
       "PosixPath('/root/workspace/mlx-week5')"
      ]
     },
     "execution_count": 56,
     "metadata": {},
     "output_type": "execute_result"
    }
   ],
   "source": [
    "root"
   ]
  },
  {
   "cell_type": "code",
   "execution_count": 4,
   "metadata": {},
   "outputs": [],
   "source": [
    "import pyarrow.parquet as pq\n",
    "import pandas as pd\n",
    "import matplotlib.pyplot as plt\n",
    "import io\n",
    "import torch\n",
    "from torch import nn\n",
    "from torch.utils.data import Dataset, DataLoader\n",
    "from PIL import Image\n",
    "from collections import defaultdict\n",
    "import numpy as np\n",
    "import itertools as its\n",
    "from tqdm import tqdm\n",
    "import ipdb\n",
    "from collections import namedtuple\n",
    "from importlib import reload"
   ]
  },
  {
   "cell_type": "code",
   "execution_count": 5,
   "metadata": {},
   "outputs": [
    {
     "data": {
      "text/plain": [
       "device(type='cuda')"
      ]
     },
     "execution_count": 5,
     "metadata": {},
     "output_type": "execute_result"
    }
   ],
   "source": [
    "# How to check is mps is available on my M1 MAC?\n",
    "torch.backends.mps.is_available()\n",
    "device = torch.device(\n",
    "    \"cuda\"\n",
    "    if torch.cuda.is_available()\n",
    "    else \"cpu\"\n",
    "    # else (\"mps\" if torch.backends.mps.is_available() else \"cpu\")\n",
    ")\n",
    "device"
   ]
  },
  {
   "cell_type": "markdown",
   "metadata": {},
   "source": [
    "# Total config\n",
    "\n"
   ]
  },
  {
   "cell_type": "code",
   "execution_count": 6,
   "metadata": {},
   "outputs": [],
   "source": [
    "_VOCAB_SIZE = 10000\n",
    "_T = 256  # Window size\n",
    "_V = _VOCAB_SIZE\n",
    "_B = 64\n",
    "SOS = \"<SOS>\"\n",
    "EOS = \"<EOS>\"\n",
    "_MAX_LEN_SEQ = _T\n",
    "_N_EMBED = 256\n",
    "_Dk = 128\n",
    "_Dv = 128\n",
    "_P_DROPOUT = 0.3\n",
    "_KEEP_BIAS = False\n",
    "\n",
    "model_param_config = {\n",
    "    \"MAX_LEN_SEQ\": _MAX_LEN_SEQ,\n",
    "    \"N_EMBED\": _N_EMBED,\n",
    "    \"Dk\": _Dk,\n",
    "    \"Dv\": _Dv,\n",
    "    \"V\": _V,\n",
    "    \"P_DROPOUT\": _P_DROPOUT,\n",
    "    \"KEEP_BIAS\": _KEEP_BIAS,\n",
    "    \"T\": _T,\n",
    "    \"B\": _B,\n",
    "    \"N_HEAD\": 4,\n",
    "}"
   ]
  },
  {
   "cell_type": "markdown",
   "metadata": {},
   "source": [
    "# Load the data from a single parquet file"
   ]
  },
  {
   "cell_type": "code",
   "execution_count": 7,
   "metadata": {},
   "outputs": [],
   "source": [
    "# read a parquet file into a pandas dataframe\n",
    "import pandas as pd\n",
    "import pyarrow.parquet as pq\n",
    "\n",
    "first_file = pd.read_parquet(train_data_path / \"0000.parquet\", engine=\"pyarrow\")"
   ]
  },
  {
   "cell_type": "markdown",
   "metadata": {},
   "source": []
  },
  {
   "cell_type": "code",
   "execution_count": 8,
   "metadata": {},
   "outputs": [
    {
     "data": {
      "text/plain": [
       "['One day, a little girl named Lily found a needle in her room. She knew it was difficult to play with it because it was sharp. Lily wanted to share the needle with her mom, so she could sew a button on her shirt.\\n\\nLily went to her mom and said, \"Mom, I found this needle. Can you share it with me and sew my shirt?\" Her mom smiled and said, \"Yes, Lily, we can share the needle and fix your shirt.\"\\n\\nTogether, they shared the needle and sewed the button on Lily\\'s shirt. It was not difficult for them because they were sharing and helping each other. After they finished, Lily thanked her mom for sharing the needle and fixing her shirt. They both felt happy because they had shared and worked together.',\n",
       " 'Once upon a time, there was a little car named Beep. Beep loved to go fast and play in the sun. Beep was a healthy car because he always had good fuel. Good fuel made Beep happy and strong.\\n\\nOne day, Beep was driving in the park when he saw a big tree. The tree had many leaves that were falling. Beep liked how the leaves fall and wanted to play with them. Beep drove under the tree and watched the leaves fall on him. He laughed and beeped his horn.\\n\\nBeep played with the falling leaves all day. When it was time to go home, Beep knew he needed more fuel. He went to the fuel place and got more healthy fuel. Now, Beep was ready to go fast and play again the next day. And Beep lived happily ever after.',\n",
       " 'One day, a little fish named Fin was swimming near the shore. He saw a big crab and wanted to be friends. \"Hi, I am Fin. Do you want to play?\" asked the little fish. The crab looked at Fin and said, \"No, I don\\'t want to play. I am cold and I don\\'t feel fine.\"\\n\\nFin felt sad but wanted to help the crab feel better. He swam away and thought of a plan. He remembered that the sun could make things warm. So, Fin swam to the top of the water and called to the sun, \"Please, sun, help my new friend feel fine and not freeze!\"\\n\\nThe sun heard Fin\\'s call and shone its warm light on the shore. The crab started to feel better and not so cold. He saw Fin and said, \"Thank you, little fish, for making me feel fine. I don\\'t feel like I will freeze now. Let\\'s play together!\" And so, Fin and the crab played and became good friends.',\n",
       " 'Once upon a time, in a land full of trees, there was a little cherry tree. The cherry tree was very sad because it did not have any friends. All the other trees were big and strong, but the cherry tree was small and weak. The cherry tree was envious of the big trees.\\n\\nOne day, the cherry tree felt a tickle in its branches. It was a little spring wind. The wind told the cherry tree not to be sad. The wind said, \"You are special because you have sweet cherries that everyone loves.\" The cherry tree started to feel a little better.\\n\\nAs time went on, the cherry tree grew more and more cherries. All the animals in the land came to eat the cherries and play under the cherry tree. The cherry tree was happy because it had many friends now. The cherry tree learned that being different can be a good thing. And they all lived happily ever after.',\n",
       " 'Once upon a time, there was a little girl named Lily. Lily liked to pretend she was a popular princess. She lived in a big castle with her best friends, a cat and a dog.\\n\\nOne day, while playing in the castle, Lily found a big cobweb. The cobweb was in the way of her fun game. She wanted to get rid of it, but she was scared of the spider that lived there.\\n\\nLily asked her friends, the cat and the dog, to help her. They all worked together to clean the cobweb. The spider was sad, but it found a new home outside. Lily, the cat, and the dog were happy they could play without the cobweb in the way. And they all lived happily ever after.']"
      ]
     },
     "execution_count": 8,
     "metadata": {},
     "output_type": "execute_result"
    }
   ],
   "source": [
    "all_sentences = first_file[\"text\"].values\n",
    "all_sentences = all_sentences.tolist()\n",
    "all_sentences[0:5]"
   ]
  },
  {
   "cell_type": "code",
   "execution_count": 9,
   "metadata": {},
   "outputs": [
    {
     "data": {
      "text/plain": [
       "(529930,\n",
       " \"There was a little girl with dark hair. Her name was Joy. She lived in a big house with her parents. One day, Joy was playing outside in her garden. Suddenly, she felt something on her leg - something pinching her. It was a big, black bug! \\n\\nJoy screamed and tried to get away, but the bug kept following her. She tried to run and hide, but it was too quick. \\n\\nJoy's parents heard her cries and came running. They used a stick to help her get rid of the bug. After the bug was gone, they hugged Joy and told her everything would be alright. \\n\\nWhen the bug was gone, Joy felt relieved and happy. She went back to playing in the garden, making sure she didn't step on any more bugs.\")"
      ]
     },
     "execution_count": 9,
     "metadata": {},
     "output_type": "execute_result"
    }
   ],
   "source": [
    "len(all_sentences), all_sentences[100]"
   ]
  },
  {
   "cell_type": "markdown",
   "metadata": {},
   "source": [
    "# Use sentence piece to tokenize the sentences"
   ]
  },
  {
   "cell_type": "code",
   "execution_count": 10,
   "metadata": {},
   "outputs": [],
   "source": [
    "# Lets tokenize using sentence piece\n",
    "from sentencepiece import SentencePieceTrainer, SentencePieceProcessor\n",
    "import io\n",
    "\n",
    "\n",
    "# for article in articles[0:100]:\n",
    "def get_data():\n",
    "    for i in range(100):\n",
    "        file = pd.read_parquet(\n",
    "            train_data_path / f\"{str(i).zfill(4)}.parquet\", engine=\"pyarrow\"\n",
    "        )\n",
    "        for sentence in file[\"text\"].values:\n",
    "            yield sentence\n",
    "\n",
    "\n",
    "def get_model(train, config):\n",
    "    model = io.BytesIO()\n",
    "    model_filename = root / \"models/tiny_stories_tokenizer.model\"\n",
    "    if train:\n",
    "        SentencePieceTrainer.train(\n",
    "            sentence_iterator=(story.lower() for story in all_sentences),\n",
    "            model_writer=model,\n",
    "            vocab_size=config[\"V\"],\n",
    "            user_defined_symbols=[SOS, EOS],\n",
    "            # max_sentence_length=4196,\n",
    "            # model_type=\"BPE\",\n",
    "        )\n",
    "        sp_processor = SentencePieceProcessor(model_proto=model.getvalue())\n",
    "    else:\n",
    "        sp_processor = SentencePieceProcessor(model_file=str(model_filename))\n",
    "    return sp_processor, model\n",
    "\n",
    "\n",
    "def save_model(model):\n",
    "    model_filename = root / \"models/tiny_stories_tokenizer_2.model\"\n",
    "    with open(model_filename, \"wb\") as f:\n",
    "        print(\".\")\n",
    "        f.write(model.getvalue())"
   ]
  },
  {
   "cell_type": "code",
   "execution_count": 11,
   "metadata": {},
   "outputs": [
    {
     "data": {
      "text/plain": [
       "PosixPath('/root/mlx-week5')"
      ]
     },
     "execution_count": 11,
     "metadata": {},
     "output_type": "execute_result"
    }
   ],
   "source": [
    "root"
   ]
  },
  {
   "cell_type": "code",
   "execution_count": 12,
   "metadata": {},
   "outputs": [],
   "source": [
    "sp_processor, model = get_model(train=False, config=model_param_config)"
   ]
  },
  {
   "cell_type": "code",
   "execution_count": 13,
   "metadata": {},
   "outputs": [],
   "source": [
    "# EXECUTE ONCE WHEN YOU HAVE IT MADE\n",
    "# save_model(model)"
   ]
  },
  {
   "cell_type": "code",
   "execution_count": 14,
   "metadata": {},
   "outputs": [
    {
     "name": "stdout",
     "output_type": "stream",
     "text": [
      "There was a little girl with dark hair. Her name was Joy. She lived in a big house with her parents. One day, Joy was playing outside in her garden. Suddenly, she felt something on her leg - something pinching her. It was a big, black bug! \n",
      "\n",
      "Joy screamed and tried to get away, but the bug kept following her. She tried to run and hide, but it was too quick. \n",
      "\n",
      "Joy's parents heard her cries and came running. They used a stick to help her get rid of the bug. After the bug was gone, they hugged Joy and told her everything would be alright. \n",
      "\n",
      "When the bug was gone, Joy felt relieved and happy. She went back to playing in the garden, making sure she didn't step on any more bugs.\n",
      ".\n",
      "▁there ▁was ▁a ▁little ▁girl ▁with ▁dark ▁hair . ▁her ▁name ▁was ▁joy . ▁she ▁lived ▁in ▁a ▁big ▁house ▁with ▁her ▁parents . ▁one ▁day , ▁joy ▁was ▁playing ▁outside ▁in ▁her ▁garden . ▁suddenly , ▁she ▁felt ▁something ▁on ▁her ▁leg ▁- ▁something ▁pinching ▁her . ▁it ▁was ▁a ▁big , ▁black ▁bug ! ▁joy ▁screamed ▁and ▁tried ▁to ▁get ▁away , ▁but ▁the ▁bug ▁kept ▁following ▁her . ▁she ▁tried ▁to ▁run ▁and ▁hide , ▁but ▁it ▁was ▁too ▁quick . ▁joy ' s ▁parents ▁heard ▁her ▁cries ▁and ▁came ▁running . ▁they ▁used ▁a ▁stick ▁to ▁help ▁her ▁get ▁rid ▁of ▁the ▁bug . ▁after ▁the ▁bug ▁was ▁gone , ▁they ▁hugged ▁joy ▁and ▁told ▁her ▁everything ▁would ▁be ▁alright . ▁when ▁the ▁bug ▁was ▁gone , ▁joy ▁felt ▁relieved ▁and ▁happy . ▁she ▁went ▁back ▁to ▁playing ▁in ▁the ▁garden , ▁making ▁sure ▁she ▁didn ' t ▁step ▁on ▁any ▁more ▁bugs .\n",
      "..\n",
      "[[526, 11, 10, 40, 61, 24, 507, 587, 5, 174, 450, 11, 2821, 5, 14, 254, 22, 10, 48, 179, 24, 15, 464, 5, 53, 28, 8, 2821, 11, 127, 161, 22, 15, 225, 5, 202, 8, 25, 87, 111, 35, 15, 1275, 490, 111, 5795, 15, 5, 43, 11, 10, 48, 8, 772, 723, 38, 2821, 985, 6, 184, 9, 150, 105, 8, 55, 7, 723, 272, 2746, 15, 5, 14, 184, 9, 285, 6, 638, 8, 55, 12, 11, 80, 2233, 5, 2821, 18, 23, 464, 191, 15, 1233, 6, 137, 483, 5, 17, 457, 10, 549, 9, 97, 15, 150, 3664, 30, 7, 723, 5, 274, 7, 723, 11, 553, 8, 33, 206, 2821, 6, 188, 15, 630, 100, 68, 2799, 5, 170, 7, 723, 11, 553, 8, 2821, 87, 900, 6, 44, 5, 14, 71, 79, 9, 127, 22, 7, 225, 8, 432, 359, 25, 154, 18, 47, 1555, 35, 572, 162, 1074, 5]]\n"
     ]
    }
   ],
   "source": [
    "print(all_sentences[100])\n",
    "print(\".\")\n",
    "print(\n",
    "    \" \".join(\n",
    "        [\n",
    "            w\n",
    "            for lst in sp_processor.encode_as_pieces(\n",
    "                [story.lower() for story in all_sentences[100:101]]\n",
    "            )\n",
    "            for w in lst\n",
    "        ]\n",
    "    )\n",
    ")\n",
    "print(\"..\")\n",
    "print(sp_processor.encode_as_ids(all_sentences[100:101]))"
   ]
  },
  {
   "cell_type": "markdown",
   "metadata": {},
   "source": [
    "## What story lengths can be found within length X? \n",
    "Cause then EOS and SOS start to make sense. \n",
    "\n",
    "Conclusion: MANY\n"
   ]
  },
  {
   "cell_type": "code",
   "execution_count": 15,
   "metadata": {},
   "outputs": [],
   "source": [
    "all_story_tokens = sp_processor.encode_as_ids(all_sentences)"
   ]
  },
  {
   "cell_type": "code",
   "execution_count": 16,
   "metadata": {},
   "outputs": [
    {
     "name": "stdout",
     "output_type": "stream",
     "text": [
      "529930\n",
      "437401\n",
      "78509\n"
     ]
    }
   ],
   "source": [
    "print(len(all_story_tokens))\n",
    "print(np.sum([len(story) <= 256 for story in all_story_tokens]))  # Many...\n",
    "print(np.sum([256 < len(story) < 512 for story in all_story_tokens]))"
   ]
  },
  {
   "cell_type": "code",
   "execution_count": 17,
   "metadata": {},
   "outputs": [
    {
     "name": "stdout",
     "output_type": "stream",
     "text": [
      "['▁', '<SOS>', 'the', 're', '▁was', '▁a', '▁little', '▁girl', '▁with', '▁dark', '▁hair', '.', '▁her', '▁name', '▁was', '▁joy', '.', '▁she', '▁lived', '▁in', '▁a', '▁big', '▁house', '▁with', '▁her', '▁parents', '.', '▁one', '▁day', ',', '▁joy', '▁was', '▁playing', '▁outside', '▁in', '▁her', '▁garden', '.', '▁suddenly', ',', '▁she', '▁felt', '▁something', '▁on', '▁her', '▁leg', '▁-', '▁something', '▁pinching', '▁her', '.', '▁it', '▁was', '▁a', '▁big', ',', '▁black', '▁bug', '!', '▁joy', '▁screamed', '▁and', '▁tried', '▁to', '▁get', '▁away', ',', '▁but', '▁the', '▁bug', '▁kept', '▁following', '▁her', '.', '▁she', '▁tried', '▁to', '▁run', '▁and', '▁hide', ',', '▁but', '▁it', '▁was', '▁too', '▁quick', '.', '▁joy', \"'\", 's', '▁parents', '▁heard', '▁her', '▁cries', '▁and', '▁came', '▁running', '.', '▁they', '▁used', '▁a', '▁stick', '▁to', '▁help', '▁her', '▁get', '▁rid', '▁of', '▁the', '▁bug', '.', '▁after', '▁the', '▁bug', '▁was', '▁gone', ',', '▁they', '▁hugged', '▁joy', '▁and', '▁told', '▁her', '▁everything', '▁would', '▁be', '▁alright', '.', '▁when', '▁the', '▁bug', '▁was', '▁gone', ',', '▁joy', '▁felt', '▁relieved', '▁and', '▁happy', '.', '▁she', '▁went', '▁back', '▁to', '▁playing', '▁in', '▁the', '▁garden', ',', '▁making', '▁sure', '▁she', '▁didn', \"'\", 't', '▁step', '▁on', '▁any', '▁more', '▁bugs', '.', '<EOS>']\n",
      "['▁', '<SOS>', 'on', 'ce', '▁upon', '▁a', '▁time', '▁there', '▁was', '▁a', '▁little', '▁girl', '▁named', '▁', 'r', 'ita', '.', '▁she', '▁was', '▁gentle', '▁and', '▁sweet', '▁and', '▁was', '▁always', '▁nice', '▁to', '▁everyone', '.', '▁one', '▁day', '▁', 'r', 'ita', '▁was', '▁walking', '▁in', '▁the', '▁park', '▁and', '▁noticed', '▁something', '▁shiny', '.', '▁she', '▁decided', '▁to', '▁take', '▁a', '▁closer', '▁look', '.', '▁as', '▁she', '▁got', '▁closer', ',', '▁she', '▁realized', '▁that', '▁someone', '▁had', '▁stolen', '▁someone', '▁else', \"'\", 's', '▁toy', '.', '▁', 'r', 'ita', '▁was', '▁very', '▁sad', '▁because', '▁she', '▁knew', '▁the', '▁toy', '▁belonged', '▁to', '▁someone', '▁else', '.', '▁but', '▁then', '▁she', '▁looked', '▁at', '▁the', '▁toy', ',', '▁she', '▁noticed', '▁that', '▁part', '▁of', '▁it', '▁was', '▁broken', '.', '▁she', '▁put', '▁her', '▁small', '▁muscle', '▁into', '▁work', '▁and', '▁managed', '▁to', '▁fix', '▁it', '.', '▁', 'r', 'ita', '▁picked', '▁up', '▁the', '▁toy', '▁and', '▁decided', '▁to', '▁find', '▁who', '▁it', '▁belonged', '▁to', '.', '▁she', '▁went', '▁all', '▁around', '▁the', '▁park', ',', '▁showing', '▁the', '▁toy', '▁to', '▁anyone', '▁who', '▁looked', '▁like', '▁they', '▁were', '▁searching', '▁for', '▁it', '.', '▁finally', ',', '▁she', '▁found', '▁a', '▁young', '▁boy', '▁who', '▁was', '▁looking', '▁for', '▁the', '▁toy', '.', '▁', 'r', 'ita', '▁quietly', '▁gave', '▁the', '▁toy', '▁to', '▁the', '▁boy', ',', '▁who', '▁looked', '▁at', '▁her', '▁in', '▁surprise', '.', '▁he', '▁thanked', '▁her', '▁and', '▁said', ',', '▁\"', 'you', '▁taught', '▁me', '▁a', '▁very', '▁important', '▁lesson', ':', '▁to', '▁respect', '▁people', 'â', '€', 'TMs', '▁belongings', '▁and', '▁to', '▁treat', '▁others', '▁with', '▁kindness', '.\"', '▁', 'r', 'ita', '▁smiled', ',', '▁feeling', '▁proud', '▁of', '▁herself', '.', '▁she', '▁had', '▁done', '▁something', '▁good', '▁and', '▁made', '▁a', '▁difference', '.', '▁later', '▁that', '▁day', ',', '▁', 'r', 'ita', '▁thought', '▁to', '▁herself', ',', '▁\"', 'w', 'h', 'en', '▁you', '▁are', '▁gentle', '▁and', '▁kind', ',', '▁you', '▁can', '▁do', '▁magical', '▁things', '!\"', '<EOS>']\n",
      "['▁', '<SOS>', 'one', '▁day', ',', '▁', 'j', 'oh', 'n', '▁and', '▁his', '▁mom', '▁were', '▁out', '▁in', '▁the', '▁woods', '.', '▁', 'j', 'oh', 'n', '▁was', '▁looking', '▁to', '▁find', '▁some', '▁lumber', '▁for', '▁his', '▁toy', '▁boat', '.', '▁they', '▁had', '▁been', '▁sc', 'our', 'ging', '▁for', '▁hours', ',', '▁but', '▁hadn', \"'\", 't', '▁found', '▁anything', '▁yet', '.', '▁\"', 'a', 're', '▁you', '▁sure', '▁there', \"'\", 's', '▁lumber', '▁around', '▁here', ',', '▁mom', '?\"', '▁asked', '▁', 'j', 'oh', 'n', '.', '▁\"', 'of', '▁course', ',\"', '▁she', '▁said', '▁happily', '.', '▁\"', 'just', '▁keep', '▁looking', ',', '▁', 'i', \"'\", 'm', '▁sure', '▁we', \"'\", 'll', '▁find', '▁it', '.\"', '▁', 'j', 'oh', 'n', '▁kept', '▁searching', ',', '▁but', '▁soon', '▁stumbled', '▁upon', '▁an', '▁ancient', '▁chest', '.', '▁he', '▁excitedly', '▁opened', '▁it', ',', '▁de', 'mon', 's', 't', 'ra', 'ting', '▁his', '▁dependable', '▁strength', '.', '▁inside', ',', '▁he', '▁found', '▁the', '▁lumber', '▁he', '▁was', '▁looking', '▁for', '.', '▁', 'j', 'oh', 'n', '▁quickly', '▁improved', '▁his', '▁toy', '▁boat', ',', '▁since', '▁his', '▁strength', '▁was', '▁now', '▁dependable', '.', '▁with', '▁newfound', '▁confidence', ',', '▁', 'j', 'oh', 'n', '▁raced', '▁off', '▁with', '▁his', '▁boat', '▁in', '▁the', '▁river', '.', '▁he', '▁sailed', '▁faster', '▁than', '▁ever', ',', '▁enjoying', '▁the', '▁adventure', '▁he', '▁had', '▁found', '.', '▁', 'j', 'oh', 'n', '▁sure', '▁was', '▁glad', '▁he', '▁found', '▁that', '▁lumber', '!', '<EOS>']\n",
      "['▁', '<SOS>', 'on', 'ce', '▁upon', '▁a', '▁time', ',', '▁there', '▁was', '▁a', '▁little', '▁boy', '▁named', '▁', 't', 'ho', 'ma', 's', '.', '▁he', '▁was', '▁three', '▁years', '▁old', '▁and', '▁loved', '▁to', '▁explore', '.', '▁one', '▁day', ',', '▁he', '▁went', '▁on', '▁a', '▁big', '▁adventure', '▁to', '▁a', '▁far', '▁away', '▁oasis', '.', '▁on', '▁his', '▁way', ',', '▁he', '▁found', '▁a', '▁broken', '▁tree', '▁branch', '.', '▁he', '▁decided', '▁to', '▁touch', '▁it', ',', '▁but', '▁quickly', '▁pulled', '▁his', '▁hand', '▁away', '▁as', '▁it', '▁was', '▁too', '▁sharp', '.', '▁as', '▁', 't', 'ho', 'ma', 's', '▁continued', '▁his', '▁journey', ',', '▁he', '▁pond', 'ered', '▁why', '▁the', '▁branch', '▁was', '▁so', '▁broken', '.', '▁he', '▁soon', '▁came', '▁across', '▁a', '▁little', '▁river', '▁that', '▁was', '▁flowing', '▁down', '▁the', '▁side', '▁of', '▁the', '▁oasis', '.', '▁he', '▁remembered', '▁the', '▁branch', '▁and', '▁wondered', '▁if', '▁the', '▁river', '▁had', '▁something', '▁to', '▁do', '▁with', '▁it', '.', '▁the', '▁little', '▁boy', '▁arrived', '▁at', '▁the', '▁oasis', '▁and', '▁he', '▁was', '▁in', '▁awe', '.', '▁he', '▁ran', '▁to', '▁the', '▁edge', '▁of', '▁the', '▁water', '▁and', '▁started', '▁to', '▁touch', '▁it', '.', '▁as', '▁soon', '▁as', '▁he', '▁did', ',', '▁the', '▁river', '▁started', '▁to', '▁swell', '▁and', '▁the', '▁current', '▁quickly', '▁became', '▁stronger', '.', '▁', 't', 'ho', 'ma', 's', '▁quickly', '▁pulled', '▁his', '▁hand', '▁away', '.', '▁the', '▁little', '▁boy', '▁realized', '▁that', '▁the', '▁branch', '▁had', '▁broken', '▁from', '▁the', '▁', 'ra', 'pi', 'd', 'ly', '▁rising', '▁water', 's', '.', '▁', 't', 'ho', 'ma', 's', '▁now', '▁understood', '▁why', '▁the', '▁branch', '▁was', '▁so', '▁broken', '▁and', '▁he', '▁was', '▁careful', '▁not', '▁to', '▁touch', '▁it', '▁again', '.', '<EOS>']\n",
      "['▁', '<SOS>', 'on', 'ce', '▁upon', '▁a', '▁time', ',', '▁there', '▁was', '▁a', '▁lazy', '▁figure', '▁who', '▁was', '▁always', '▁looking', '▁for', '▁ways', '▁to', '▁relax', '.', '▁one', '▁day', ',', '▁he', '▁saw', '▁a', '▁big', '▁tree', '▁in', '▁the', '▁distance', '▁and', '▁decided', '▁to', '▁take', '▁a', '▁nap', '.', '▁as', '▁he', '▁was', '▁lying', '▁there', ',', '▁a', '▁small', '▁voice', '▁shouted', ',', '▁', 'â', '€', 'œ', 'he', 'y', '!', '▁wake', '▁up', '!', 'â', '€', '▁the', '▁lazy', '▁figure', '▁opened', '▁his', '▁eyes', '▁and', '▁saw', '▁a', '▁small', '▁child', '▁standing', '▁in', '▁front', '▁of', '▁him', '.', '▁the', '▁child', '▁was', '▁insisting', '▁that', '▁the', '▁figure', '▁should', '▁come', '▁play', '▁with', '▁him', '.', '▁but', '▁the', '▁lazy', '▁figure', '▁was', '▁feeling', '▁too', '▁lazy', '▁to', '▁move', '▁so', '▁he', '▁politely', '▁dec', 'lined', '▁the', '▁friendly', '▁offer', '.', '▁the', '▁child', '▁was', '▁very', '▁persistent', ',', '▁though', ',', '▁and', '▁he', '▁kept', '▁insisting', '▁that', '▁the', '▁figure', '▁should', '▁come', '▁play', '.', '▁so', '▁the', '▁figure', '▁finally', '▁gave', '▁in', '▁and', '▁agreed', '▁to', '▁follow', '▁the', '▁child', \"'\", 's', '▁lead', '.', '▁and', '▁so', ',', '▁the', '▁lazy', '▁figure', '▁followed', '▁the', '▁boy', '▁and', '▁had', '▁the', '▁most', '▁amazing', '▁day', '!', '▁they', '▁laughed', '▁and', '▁played', '▁for', '▁hours', '▁and', '▁soon', '▁their', '▁day', '▁had', '▁come', '▁to', '▁an', '▁end', '.', '▁the', '▁figure', '▁was', '▁very', '▁grateful', '▁for', '▁the', '▁company', '▁and', '▁said', '▁goodbye', '▁to', '▁the', '▁wonderful', '▁little', '▁child', '.', '▁the', '▁figure', '▁returned', '▁home', '▁feeling', '▁refreshed', '▁and', '▁kids', '▁all', '▁around', '▁continued', '▁to', '▁insist', '▁that', '▁he', '▁join', '▁them', '▁to', '▁have', '▁lots', '▁of', '▁fun', '.', '▁the', '▁end', '.', '<EOS>']\n",
      "['▁', '<SOS>', 'on', 'ce', '▁upon', '▁a', '▁time', '▁there', '▁was', '▁a', '▁new', '▁little', '▁bunny', '.', '▁her', '▁name', '▁was', '▁', 'ch', 'lo', 'e', '▁and', '▁she', '▁was', '▁very', '▁excited', '▁to', '▁explore', '▁the', '▁world', '.', '▁one', '▁day', '▁she', '▁was', '▁hopping', '▁in', '▁the', '▁forest', '▁when', '▁something', '▁big', '▁happened', '!', '▁the', '▁trees', '▁began', '▁to', '▁shake', '▁and', '▁the', '▁ground', '▁rumbled', '.', '▁', 'ch', 'lo', 'e', '▁didn', \"'\", 't', '▁know', '▁what', '▁to', '▁do', ',', '▁so', '▁she', '▁crouch', 'ed', '▁down', '▁and', '▁covered', '▁her', '▁ears', '▁until', '▁the', '▁shaking', '▁stopped', '.', '▁when', '▁it', '▁was', '▁all', '▁over', ',', '▁', 'ch', 'lo', 'e', '▁looked', '▁around', '▁and', '▁saw', '▁all', '▁of', '▁the', '▁other', '▁animals', '.', '▁they', '▁were', '▁all', '▁looking', '▁just', '▁as', '▁scared', '▁as', '▁she', '▁felt', '.', '▁suddenly', ',', '▁a', '▁wise', '▁old', '▁owl', '▁spoke', '▁up', '.', '▁\"', 'my', '▁friends', ',\"', '▁he', '▁said', '.', '▁\"', 'we', '▁just', '▁had', '▁an', '▁earthquake', '!\"', '▁everyone', '▁looked', '▁confused', '.', '▁\"', 'what', '▁is', '▁an', '▁earthquake', '?\"', '▁', 'ch', 'lo', 'e', '▁asked', '.', '▁\"', 'it', '▁is', '▁a', '▁big', '▁shaking', '▁that', '▁happens', '▁sometimes', ',\"', '▁said', '▁the', '▁owl', '.', '▁\"', 'we', '▁all', '▁need', '▁to', '▁be', '▁careful', '▁when', '▁it', '▁happens', '!\"', '▁', 'ch', 'lo', 'e', '▁thanked', '▁the', '▁owl', '▁for', '▁teaching', '▁her', '▁something', '▁new', '▁and', ',', '▁after', '▁that', '▁day', ',', '▁she', '▁liked', '▁to', '▁be', '▁extra', '▁careful', '▁whenever', '▁she', '▁heard', '▁rumbling', '▁in', '▁the', '▁ground', '.', '<EOS>']\n",
      "['▁', '<SOS>', 'on', 'ce', '▁upon', '▁a', '▁time', ',', '▁there', '▁was', '▁a', '▁little', '▁girl', '▁named', '▁', 'm', 'olly', '.', '▁she', '▁was', '▁very', '▁worried', ',', '▁because', '▁she', '▁had', '▁lost', '▁her', '▁favorite', '▁toy', '.', '▁one', '▁night', ',', '▁while', '▁she', '▁was', '▁crying', '▁in', '▁bed', ',', '▁she', '▁heard', '▁a', '▁gentle', '▁hoot', 'ing', '▁sound', '.', '▁', 'm', 'olly', '▁opened', '▁her', '▁window', '▁and', '▁a', '▁friendly', '▁owl', '▁flew', '▁in', '.', '▁', 'm', 'olly', '▁was', '▁surprised', ',', '▁but', '▁the', '▁owl', '▁only', '▁wanted', '▁to', '▁help', '.', '▁it', '▁flew', '▁around', '▁the', '▁room', ',', '▁searching', '▁until', '▁it', '▁found', '▁', 'm', 'olly', \"'\", 's', '▁toy', '.', '▁it', '▁bowed', '▁its', '▁wings', '▁and', '▁dropped', '▁the', '▁toy', '▁in', '▁', 'm', 'olly', \"'\", 's', '▁lap', '.', '▁', 'm', 'olly', '▁was', '▁amazed', '▁and', '▁asked', '▁the', '▁owl', ',', '▁', 'â', '€', 'œ', 'what', '▁are', '▁you', '?', 'â', '€', '▁the', '▁owl', '▁hooted', '▁again', '▁and', '▁said', ',', '▁', 'â', '€', 'œ', 'i', \"'\", 'm', '▁an', '▁owl', '!', '▁', 'i', '▁saw', '▁that', '▁you', '▁were', '▁worried', '▁so', '▁', 'i', '▁wanted', '▁to', '▁come', '▁and', '▁restore', '▁your', '▁toy', '.', '▁now', ',', '▁please', '▁have', '▁a', '▁good', '▁night', \"'\", 's', '▁sleep', '.', 'â', '€', '▁', 'm', 'olly', '▁thanked', '▁the', '▁owl', '▁and', '▁fell', '▁asleep', '▁with', '▁a', '▁smile', '▁on', '▁her', '▁face', '.', '▁from', '▁that', '▁day', '▁on', ',', '▁', 'm', 'olly', '▁was', '▁sure', '▁that', '▁owl', 's', '▁were', '▁magical', '▁creatures', '▁who', '▁could', '▁make', '▁any', '▁worries', '▁go', '▁away', '.', '<EOS>']\n",
      "['▁', '<SOS>', 'on', 'ce', '▁upon', '▁a', '▁time', '▁there', '▁was', '▁a', '▁small', '▁boy', '▁who', '▁wanted', '▁to', '▁go', '▁on', '▁an', '▁adventure', '.', '▁he', '▁decided', '▁to', '▁take', '▁a', '▁boat', '▁out', '▁to', '▁sea', '.', '▁after', '▁a', '▁few', '▁hours', ',', '▁the', '▁boat', '▁sailed', '▁onto', '▁a', '▁big', ',', '▁beautiful', '▁island', '.', '▁the', '▁island', '▁was', '▁so', '▁nice', '▁that', '▁the', '▁boy', '▁wanted', '▁to', '▁explore', '▁it', '.', '▁he', '▁jumped', '▁out', '▁of', '▁the', '▁boat', '▁into', '▁the', '▁water', '▁and', '▁started', '▁to', '▁swim', '▁towards', '▁the', '▁island', '.', '▁there', '▁was', '▁a', '▁mild', '▁breeze', '▁that', '▁kept', '▁him', '▁cool', '▁as', '▁he', '▁swam', '.', '▁the', '▁boy', '▁arrived', '▁on', '▁the', '▁shore', '▁of', '▁the', '▁island', '.', '▁he', '▁looked', '▁around', '▁and', '▁noticed', '▁a', '▁small', '▁hut', '.', '▁he', '▁stood', '▁up', '▁and', '▁walked', '▁towards', '▁it', '.', '▁when', '▁he', '▁arrived', ',', '▁he', '▁heard', '▁a', '▁voice', '▁say', ',', '▁\"', 'hello', '!', '▁who', '▁are', '▁you', '?\"', '▁the', '▁boy', '▁was', '▁surprised', '.', '▁he', '▁looked', '▁around', '▁and', '▁saw', '▁an', '▁old', '▁man', '▁standing', '▁nearby', '.', '▁the', '▁old', '▁man', '▁said', ',', '▁\"', 'i', \"'\", 'm', '▁the', '▁island', \"'\", 's', '▁caretaker', '.', '▁my', '▁name', '▁is', '▁', 'j', 'oh', 'n', '.', '▁what', \"'\", 's', '▁your', '▁name', '?\"', '▁the', '▁boy', '▁smiled', '▁and', '▁said', '▁his', '▁name', '.', '▁then', '▁he', '▁asked', '▁if', '▁he', '▁could', '▁explore', '▁the', '▁island', '.', '▁', 'j', 'oh', 'n', '▁said', '▁to', '▁him', ',', '▁\"', 'of', '▁course', '▁you', '▁can', '.', '▁just', '▁be', '▁careful', '▁-', '▁some', '▁of', '▁the', '▁island', '▁can', '▁be', '▁a', '▁bit', '▁wild', '.', '▁', 'i', \"'\", 'll', '▁stay', '▁here', '▁and', '▁make', '▁sure', '▁you', \"'\", 're', '▁safe', '.\"', '▁so', '▁the', '▁boy', '▁explored', '▁the', '▁island', '▁with', '▁', 'j', 'oh', 'n', '.', '▁they', '▁walked', '▁around', '▁the', '▁beach', '▁and', '▁swam', '▁in', '▁the', '▁mild', '▁ocean', '.', '▁then', ',', '▁when', '▁it', '▁was', '▁time', '▁to', '▁go', '▁back', ',', '▁the', '▁boy', '▁thanked', '▁', 'j', 'oh', 'n', '▁for', '▁showing', '▁him', '▁the', '▁island', '▁and', '▁waved', '▁goodbye', '.', '▁the', '▁boy', '▁sailed', '▁back', '▁to', '▁the', '▁shore', '▁with', '▁lots', '▁of', '▁great', '▁memories', '▁of', '▁the', '▁island', '.', '▁he', '<EOS>']\n",
      "['▁', '<SOS>', 'on', 'ce', '▁upon', '▁a', '▁time', '▁there', '▁was', '▁a', '▁fairy', '▁who', '▁lived', '▁in', '▁a', '▁tree', '▁near', '▁a', '▁pond', '.', '▁the', '▁fairy', '▁was', '▁very', '▁stubborn', '▁and', '▁always', '▁wanted', '▁things', '▁to', '▁go', '▁her', '▁way', '.', '▁one', '▁day', '▁when', '▁the', '▁fairy', '▁was', '▁flying', '▁around', '▁the', '▁tree', ',', '▁she', '▁saw', '▁a', '▁boy', '▁who', '▁was', '▁playing', '▁by', '▁the', '▁pond', '.', '▁the', '▁boy', '▁had', '▁a', '▁red', '▁balloon', '▁which', '▁he', '▁was', '▁dropping', '▁into', '▁the', '▁pond', '.', '▁the', '▁fairy', '▁shouted', '▁to', '▁the', '▁boy', ',', '▁\"', 'stop', ',', '▁don', \"'\", 't', '▁drop', '▁the', '▁balloon', '!\"', '▁but', '▁the', '▁boy', '▁was', '▁too', '▁stubborn', '▁to', '▁listen', '▁and', '▁he', '▁dropped', '▁the', '▁balloon', '▁into', '▁the', '▁pond', '.', '▁the', '▁fairy', '▁flew', '▁down', '▁to', '▁the', '▁pond', ',', '▁and', '▁with', '▁a', '▁wave', '▁of', '▁her', '▁magic', '▁wand', ',', '▁the', '▁balloon', '▁rose', '▁up', '▁out', '▁of', '▁the', '▁pond', ',', '▁much', '▁d', 'ri', 'er', '▁and', '▁brighter', '▁than', '▁before', '.', '▁the', '▁boy', '▁was', '▁so', '▁happy', '.', '▁he', '▁hugged', '▁the', '▁fairy', '▁and', '▁thanked', '▁her', '▁for', '▁saving', '▁his', '▁balloon', '.', '▁the', '▁fairy', '▁smiled', '▁and', '▁said', ',', '▁\"', 'you', '▁must', '▁be', '▁more', '▁careful', '▁next', '▁time', '▁and', '▁listen', '▁to', '▁me', '!\"', '<EOS>']\n",
      "['▁', '<SOS>', 'on', 'ce', '▁upon', '▁a', '▁time', '▁there', '▁was', '▁a', '▁black', '▁record', '.', '▁it', '▁was', '▁very', '▁helpful', '▁and', '▁it', '▁could', '▁do', '▁great', '▁things', '.', '▁one', '▁day', ',', '▁a', '▁', '3', '▁year', '▁old', '▁wanted', '▁to', '▁use', '▁the', '▁record', '.', '▁the', '▁record', '▁said', ',', '▁\"', 'i', '▁can', \"'\", 't', '▁help', '▁you', '▁out', '.', '▁you', '▁have', '▁to', '▁be', '▁older', '\".', '▁the', '▁', '3', '▁year', '▁old', '▁was', '▁very', '▁sad', '.', '▁then', ',', '▁an', '▁old', '▁man', '▁showed', '▁up', '.', '▁he', '▁was', '▁very', '▁helpful', '▁and', '▁offered', '▁to', '▁help', '▁find', '▁a', '▁way', '▁to', '▁make', '▁the', '▁record', '▁work', '.', '▁he', '▁tried', '▁to', '▁figure', '▁out', '▁how', '▁to', '▁make', '▁the', '▁record', '▁work', ',', '▁but', '▁no', '▁matter', '▁how', '▁hard', '▁he', '▁tried', ',', '▁he', '▁couldn', \"'\", 't', '▁make', '▁the', '▁record', '▁work', '.', '▁the', '▁', '3', '▁year', '▁old', '▁was', '▁very', '▁sad', '.', '▁he', '▁asked', '▁the', '▁old', '▁man', ',', '▁\"', 'can', '▁you', '▁make', '▁it', '▁work', '?\"', '▁the', '▁old', '▁man', '▁shook', '▁his', '▁head', '▁and', '▁said', ',', '▁\"', 'i', \"'\", 'm', '▁sorry', ',', '▁but', '▁', 'i', '▁can', \"'\", 't', '▁make', '▁it', '▁work', '.', '▁', 'i', '▁tried', '▁everything', '▁', 'i', '▁could', '.', '▁', 'i', \"'\", 'm', '▁afraid', '▁the', '▁record', '▁will', '▁never', '▁work', '▁again', '.\"', '▁the', '▁', '3', '▁year', '▁old', '▁was', '▁very', '▁sad', '▁and', '▁never', '▁forgot', '▁the', '▁black', '▁record', '.', '▁the', '▁', '3', '▁year', '▁old', '▁never', '▁saw', '▁the', '▁old', '▁man', '▁again', '.', '<EOS>']\n"
     ]
    }
   ],
   "source": [
    "sp_processor.encode_as_pieces(\n",
    "    \"<SOS> hen the bug was gone, Joy felt relieved and happy. She went <EOS>\"\n",
    ")\n",
    "\n",
    "# sp_processor.encode_as_ids(\"<SOS>en the bug was gone, Joy felt relieved and happy. She went <EOS>\")\n",
    "for sentence in all_sentences[100:110]:\n",
    "    sentence = f\"<SOS>{sentence.lower()}<EOS>\"\n",
    "    print(sp_processor.encode_as_pieces(sentence))\n",
    "# sp_processor.encode_as_pieces(\"<SOS>hen the bug was gone, Joy felt relieved and happy. She went<EOS>\")"
   ]
  },
  {
   "cell_type": "code",
   "execution_count": 18,
   "metadata": {},
   "outputs": [
    {
     "data": {
      "image/png": "[encoded data removed]",
      "text/plain": [
       "<Figure size 640x480 with 1 Axes>"
      ]
     },
     "metadata": {},
     "output_type": "display_data"
    }
   ],
   "source": [
    "_ = plt.hist([np.log10(len(i)) for i in all_sentences if len(i) > 0], bins=100)"
   ]
  },
  {
   "cell_type": "code",
   "execution_count": 19,
   "metadata": {},
   "outputs": [],
   "source": [
    "sentence_tokens = sp_processor.encode_as_ids(all_sentences[0:10000])"
   ]
  },
  {
   "cell_type": "code",
   "execution_count": 20,
   "metadata": {},
   "outputs": [],
   "source": [
    "from collections import Counter\n",
    "\n",
    "c = Counter(s for story in all_sentences[0:2000] for s in story.lower().split())"
   ]
  },
  {
   "cell_type": "code",
   "execution_count": 21,
   "metadata": {},
   "outputs": [
    {
     "data": {
      "text/plain": [
       "[('the', 19446),\n",
       " ('and', 15380),\n",
       " ('to', 11073),\n",
       " ('a', 10305),\n",
       " ('was', 9370),\n",
       " ('he', 7614),\n",
       " ('she', 7045),\n",
       " ('they', 4960),\n",
       " ('it', 4864),\n",
       " ('her', 3894),\n",
       " ('in', 2947),\n",
       " ('his', 2923),\n",
       " ('so', 2905),\n",
       " ('with', 2632),\n",
       " ('of', 2603),\n",
       " ('had', 2327),\n",
       " ('that', 2185),\n",
       " ('but', 2071),\n",
       " ('little', 1853),\n",
       " ('one', 1806),\n",
       " ('very', 1771),\n",
       " ('for', 1765),\n",
       " ('there', 1690),\n",
       " ('you', 1653),\n",
       " ('on', 1598),\n",
       " ('said,', 1457),\n",
       " ('day,', 1445),\n",
       " ('once', 1408),\n",
       " ('saw', 1358),\n",
       " ('were', 1343),\n",
       " ('big', 1269),\n",
       " ('mom', 1246),\n",
       " ('wanted', 1214),\n",
       " ('upon', 1183),\n",
       " ('girl', 1162),\n",
       " ('all', 1144),\n",
       " ('is', 1137),\n",
       " ('not', 1103),\n",
       " ('lily', 1095),\n",
       " ('said', 1063),\n",
       " ('at', 987),\n",
       " ('happy', 984),\n",
       " ('when', 979),\n",
       " ('play', 961),\n",
       " ('went', 939),\n",
       " ('be', 929),\n",
       " ('i', 920),\n",
       " ('their', 905),\n",
       " ('time,', 888),\n",
       " ('up', 881),\n",
       " ('have', 876),\n",
       " ('are', 837),\n",
       " ('from', 823),\n",
       " ('looked', 809),\n",
       " ('go', 798),\n",
       " ('would', 773),\n",
       " ('could', 753),\n",
       " ('day', 751),\n",
       " ('felt', 734),\n",
       " ('can', 733),\n",
       " ('him', 731),\n",
       " ('it.', 727),\n",
       " ('like', 716),\n",
       " ('as', 714),\n",
       " ('around', 694),\n",
       " ('something', 691),\n",
       " ('started', 683),\n",
       " ('boy', 683),\n",
       " ('them', 674),\n",
       " ('out', 674),\n",
       " ('then', 672),\n",
       " ('loved', 664),\n",
       " ('ben', 659),\n",
       " ('named', 657),\n",
       " ('time', 652),\n",
       " ('what', 649),\n",
       " ('back', 646),\n",
       " ('ran', 604),\n",
       " ('smiled', 602),\n",
       " ('made', 592),\n",
       " ('some', 574),\n",
       " ('we', 564),\n",
       " ('make', 553),\n",
       " ('see', 552),\n",
       " ('asked', 549),\n",
       " ('found', 543),\n",
       " ('tom', 542),\n",
       " ('decided', 541),\n",
       " ('put', 524),\n",
       " ('who', 520),\n",
       " ('an', 498),\n",
       " ('new', 486),\n",
       " ('got', 471),\n",
       " ('friends', 468),\n",
       " ('playing', 463),\n",
       " ('tim', 460),\n",
       " ('help', 451),\n",
       " ('take', 450),\n",
       " ('every', 445),\n",
       " ('liked', 442)]"
      ]
     },
     "execution_count": 21,
     "metadata": {},
     "output_type": "execute_result"
    }
   ],
   "source": [
    "c.most_common(100)  #"
   ]
  },
  {
   "cell_type": "markdown",
   "metadata": {},
   "source": [
    "# Data generation utilities"
   ]
  },
  {
   "cell_type": "markdown",
   "metadata": {},
   "source": [
    "## Split data into fixed sequence lengths"
   ]
  },
  {
   "cell_type": "code",
   "execution_count": 22,
   "metadata": {},
   "outputs": [
    {
     "name": "stdout",
     "output_type": "stream",
     "text": [
      "64 [66, 88, 54, 70, 20, 5, 17, 153, 92, 7, 157, 6, 596, 65, 35, 7, 409, 5, 17, 110, 10, 1157, 673, 24, 7, 715, 8, 10, 661, 24, 7, 453, 8, 10, 408, 24, 7, 566, 8, 6, 10, 3434, 312, 24, 7, 1536, 5, 17, 203, 36, 10, 238, 39, 8, 218, 33, 191, 64, 42, 1334, 65, 5, 13, 863, 8, 70, 8, 39, 36, 837, 54, 138, 20, 5, 13, 686, 8, 138, 8, 132, 18, 328, 440, 54, 26, 6, 70, 20, 5, 17, 118, 7, 157, 79, 22, 7, 213, 6, 736, 12, 5, 17, 227, 7, 213, 36, 7, 278, 130, 6, 107, 9, 7, 179, 5, 13, 2698, 31, 66, 88, 8, 442, 73, 138, 86, 5, 13, 232, 8, 138, 8, 132, 124, 10, 797, 213, 24, 242, 30, 278, 157, 54, 26, 6, 70, 20, 5, 13, 1579, 797, 213, 244, 394, 872, 546, 54, 138, 20, 5, 14, 82, 6, 189, 65, 10, 292, 5, 14, 868, 129, 515, 7, 213, 467, 7, 160, 5, 198, 6, 143, 131, 9, 57, 35, 7, 595, 5, 17, 131, 9, 99, 678, 2668, 6, 183, 36, 1587, 5, 53, 28, 8, 33, 49, 111, 280, 6, 567, 22, 7, 196, 5, 43, 89, 85, 10, 448, 5, 13, 366, 8, 198, 8, 10, 448, 54, 143, 20, 5, 13, 286, 18, 23, 72, 98, 12, 54, 198, 20, 5, 17, 107, 9, 7, 196, 6, 1351, 22, 5, 17, 133, 362, 6, 362, 9, 7, 567]\n",
      "64 [88, 54, 70, 20, 5, 17, 153, 92, 7, 157, 6, 596, 65, 35, 7, 409, 5, 17, 110, 10, 1157, 673, 24, 7, 715, 8, 10, 661, 24, 7, 453, 8, 10, 408, 24, 7, 566, 8, 6, 10, 3434, 312, 24, 7, 1536, 5, 17, 203, 36, 10, 238, 39, 8, 218, 33, 191, 64, 42, 1334, 65, 5, 13, 863, 8, 70, 8, 39, 36, 837, 54, 138, 20, 5, 13, 686, 8, 138, 8, 132, 18, 328, 440, 54, 26, 6, 70, 20, 5, 17, 118, 7, 157, 79, 22, 7, 213, 6, 736, 12, 5, 17, 227, 7, 213, 36, 7, 278, 130, 6, 107, 9, 7, 179, 5, 13, 2698, 31, 66, 88, 8, 442, 73, 138, 86, 5, 13, 232, 8, 138, 8, 132, 124, 10, 797, 213, 24, 242, 30, 278, 157, 54, 26, 6, 70, 20, 5, 13, 1579, 797, 213, 244, 394, 872, 546, 54, 138, 20, 5, 14, 82, 6, 189, 65, 10, 292, 5, 14, 868, 129, 515, 7, 213, 467, 7, 160, 5, 198, 6, 143, 131, 9, 57, 35, 7, 595, 5, 17, 131, 9, 99, 678, 2668, 6, 183, 36, 1587, 5, 53, 28, 8, 33, 49, 111, 280, 6, 567, 22, 7, 196, 5, 43, 89, 85, 10, 448, 5, 13, 366, 8, 198, 8, 10, 448, 54, 143, 20, 5, 13, 286, 18, 23, 72, 98, 12, 54, 198, 20, 5, 17, 107, 9, 7, 196, 6, 1351, 22, 5, 17, 133, 362, 6, 362, 9, 7, 567, 426]\n"
     ]
    }
   ],
   "source": [
    "# Lets create a dataset\n",
    "\n",
    "# This is a bit slow because it generates S*(N - T) samples of length T each, where S is the number of sentences and N is the number of tokens in the sentence\n",
    "# TODO: If slow stupidly parallelize and load it into a numpy array and save it to a file, then memory map that file and load it into a torch tensor.\n",
    "torch.manual_seed(42)\n",
    "\n",
    "\n",
    "def data_generator(tokens, config):\n",
    "    # xy = []  # x: T word window, y is T+1th word\n",
    "    # Create a random minimatch\n",
    "    seq_len = config[\"T\"]\n",
    "    ix = torch.randint(len(tokens) - seq_len, (config[\"B\"],))\n",
    "    x = [tokens[i : i + seq_len] for i in ix]\n",
    "    y = [tokens[i + 1 : i + seq_len + 1] for i in ix]\n",
    "    return x, y\n",
    "\n",
    "\n",
    "x, y = data_generator(\n",
    "    sp_processor.encode_as_ids(\" \".join(all_sentences[2301:2340])), model_param_config\n",
    ")\n",
    "print(len(x), x[1])\n",
    "print(len(y), y[1])"
   ]
  },
  {
   "cell_type": "markdown",
   "metadata": {},
   "source": [
    "## Data generator by story length(TBD)"
   ]
  },
  {
   "cell_type": "code",
   "execution_count": 23,
   "metadata": {},
   "outputs": [],
   "source": [
    "length_capped_stores = [\n",
    "    story_tokens\n",
    "    for story_tokens in all_story_tokens\n",
    "    if len(story_tokens) <= model_param_config[\"T\"]\n",
    "]"
   ]
  },
  {
   "cell_type": "code",
   "execution_count": 24,
   "metadata": {},
   "outputs": [],
   "source": [
    "# TODO This would need a Custom dataset with a collator to work well. I have done it before and I can pursue this right after.\n",
    "def data_generator_by_story_length(tokenized_stores, config, max_story_len):\n",
    "    # xy = []  # x: T word window, y is T+1th word\n",
    "    # Create a random minimatch\n",
    "    seq_len = config[\"T\"]\n",
    "    # return torch padded sequence since all these are smaller\n",
    "    assert np.all([len(story) <= max_story_len for story in tokenized_stores])\n",
    "    # use torch padding\n",
    "    stories_tensor = [\n",
    "        torch.tensor(story_tokens).view(-1, 1) for story_tokens in tokenized_stores\n",
    "    ]\n",
    "    print(len(stories_tensor))\n",
    "    return torch.nn.utils.rnn.pad_sequence(stories_tensor, batch_first=False)\n",
    "\n",
    "    # ix = torch.randint(len(tokens) - config[seq_len], (config['B'],))\n",
    "    # x = [tokens[i : i + seq_len] for i in ix]\n",
    "    # y = [tokens[i + 1 : i + seq_len + 1] for i in ix]\n",
    "    # return x, y\n",
    "\n",
    "\n",
    "# padded_stories = data_generator_by_story_length(\n",
    "#     length_capped_stores,\n",
    "#     model_param_config,\n",
    "#     model_param_config[\"T\"],\n",
    "# )"
   ]
  },
  {
   "cell_type": "code",
   "execution_count": 25,
   "metadata": {},
   "outputs": [
    {
     "data": {
      "text/plain": [
       "torch.Size([157, 1])"
      ]
     },
     "execution_count": 25,
     "metadata": {},
     "output_type": "execute_result"
    }
   ],
   "source": [
    "torch.tensor(length_capped_stores[5]).view(-1, 1).shape"
   ]
  },
  {
   "cell_type": "code",
   "execution_count": 26,
   "metadata": {},
   "outputs": [
    {
     "data": {
      "text/plain": [
       "tensor([  58,   62,   10,   39,    8,   41,   11,   10,   48,  172,   83, 2817,\n",
       "        5417, 5577, 4640,    5,   16,   32,   10,   37,  335,  664,    5, 2817,\n",
       "        5417, 5577, 4640,  100,  166,   10,  264,    9,    7,  113,  269,   28,\n",
       "           5,   19,  264,   32,   10,   42,    8,  171,    8,    6,   10,   40,\n",
       "          61,   83,   26,    5,   17,   78,   32,   10,  290,   30,  234,   36,\n",
       "         194,  128,    5,   53,   28,    8,  126,   33,  133,    9,    7,  113,\n",
       "           8,   33,   49,   10,   48,  810,   29,   20,    8,   13, 6758,   51,\n",
       "           0, 6125, 1259,   54,   19,  264,   11,   37,  134,    5,   17,  169,\n",
       "          29, 2817, 5417, 5577, 4640,   11,   37,  289,    6,   90,  965,    7,\n",
       "         661,    5,  180,    8,   33,  136,    9,  706,    7,  661,    5,   19,\n",
       "         661,  108,    8,    6, 2817, 5417, 5577, 4640,   71,   37,  289,    5,\n",
       "          19,  128,  453,  184,    9,  475,   69,    8,   55, 2817, 5417, 5577,\n",
       "        4640,   11,   80, 2233,    5,  656,    7,  239,    8, 2817, 5417, 5577,\n",
       "        4640,  636,    7,  661,   38,   19,  264,   11,   34,   44,    6,  204,\n",
       "          30,   64,  172,    5,   17,  169,   29,   64,  234,   36,  194,  128,\n",
       "           6,   64, 1604,   22, 2817, 5417, 5577, 4640,  110,   65,  965,    7,\n",
       "         661,    5,  215,  116,   29,   28,   35,    8,   33,   32,  236,  162,\n",
       "          88,   76,    7,  113,    8, 1230,   29,   33,   32,    7, 2895,    6,\n",
       "         711, 1588,  172,   91,    5])"
      ]
     },
     "execution_count": 26,
     "metadata": {},
     "output_type": "execute_result"
    }
   ],
   "source": [
    "seq = torch.nn.utils.rnn.pad_sequence(\n",
    "    [\n",
    "        torch.tensor(length_capped_stores[0]).view(-1, 1),\n",
    "        torch.tensor(length_capped_stores[5]).view(-1, 1),\n",
    "        torch.tensor(length_capped_stores[10]).view(-1, 1),\n",
    "    ]\n",
    ")\n",
    "seq[:, 2, 0]"
   ]
  },
  {
   "cell_type": "code",
   "execution_count": 27,
   "metadata": {},
   "outputs": [
    {
     "data": {
      "text/plain": [
       "529930"
      ]
     },
     "execution_count": 27,
     "metadata": {},
     "output_type": "execute_result"
    }
   ],
   "source": [
    "len(all_sentences)"
   ]
  },
  {
   "cell_type": "code",
   "execution_count": 28,
   "metadata": {},
   "outputs": [],
   "source": [
    "def create_all_story_token_ids(sentences):\n",
    "    # NOTE: We can try and reduce the sentence sizes, because a lot of the data is gibberish\n",
    "    return [\n",
    "        sp_processor.encode_as_ids(f\"<SOS>{sentence.lower()}<EOS>\")\n",
    "        for sentence in tqdm(sentences)\n",
    "    ]\n",
    "\n",
    "\n",
    "def save_all_ids(concatenated_ids):\n",
    "    torch.save(concatenated_ids, root / \"concatenated_ids.pt\")\n",
    "\n",
    "\n",
    "def load_concatenated_ids():\n",
    "    return torch.load(root / \"concatenated_ids.pt\")\n",
    "\n",
    "\n",
    "# concatenated_ids = sp_processor.encode_as_ids(concatenated_sentences)\n",
    "# x, y pairs"
   ]
  },
  {
   "cell_type": "code",
   "execution_count": 29,
   "metadata": {},
   "outputs": [
    {
     "name": "stderr",
     "output_type": "stream",
     "text": [
      "100%|██████████| 529930/529930 [03:00<00:00, 2938.17it/s]\n"
     ]
    }
   ],
   "source": [
    "all_story_ids = create_all_story_token_ids(all_sentences)\n",
    "# save_concatenated_ids(all_story_ids)"
   ]
  },
  {
   "cell_type": "code",
   "execution_count": 30,
   "metadata": {},
   "outputs": [
    {
     "name": "stderr",
     "output_type": "stream",
     "text": [
      "100%|██████████| 529930/529930 [00:01<00:00, 298114.07it/s]\n"
     ]
    }
   ],
   "source": [
    "concatenated_ids = []\n",
    "for story in tqdm(all_story_ids):\n",
    "    concatenated_ids.extend(story)"
   ]
  },
  {
   "cell_type": "code",
   "execution_count": 31,
   "metadata": {},
   "outputs": [
    {
     "name": "stderr",
     "output_type": "stream",
     "text": [
      " 19%|█▉        | 1913/10000 [00:09<00:22, 360.29it/s]"
     ]
    }
   ],
   "source": [
    "all_data = []\n",
    "num_batches = 10000\n",
    "for _ in tqdm(range(num_batches)):\n",
    "    x, y = data_generator(\n",
    "        concatenated_ids, model_param_config\n",
    "    )  # generate a batch of x, y each has\n",
    "    assert len(x) == model_param_config[\"B\"] == len(y)\n",
    "    # print(len(x), len(x[0]))\n",
    "    for i in range(len(x)):\n",
    "        x_batch = x[i]\n",
    "        y_batch = y[i]\n",
    "        all_data.append((x_batch, y_batch))"
   ]
  },
  {
   "cell_type": "code",
   "execution_count": 93,
   "metadata": {},
   "outputs": [
    {
     "name": "stdout",
     "output_type": "stream",
     "text": [
      "[2413, 82, 6, 20, 8, 13, 3828, 18, 328, 775] [82, 6, 20, 8, 13, 3828, 18, 328, 775, 5]\n"
     ]
    }
   ],
   "source": [
    "# save_concatenated_ids(concatenated_ids)\n"
   ]
  },
  {
   "cell_type": "code",
   "execution_count": 30,
   "metadata": {},
   "outputs": [
    {
     "name": "stdout",
     "output_type": "stream",
     "text": [
      "640000\n",
      "2\n",
      "256 256\n"
     ]
    }
   ],
   "source": [
    "print(len(all_data))\n",
    "print(len(all_data[0]))\n",
    "print(len(all_data[0][0]), len(all_data[0][1]))"
   ]
  },
  {
   "cell_type": "code",
   "execution_count": 33,
   "metadata": {},
   "outputs": [
    {
     "name": "stdout",
     "output_type": "stream",
     "text": [
      "[540, 6, 7, 2143, 11, 22, 2272, 5, 12, 11, 10, 355, 243, 30, 540, 8, 141, 29, 195, 853]\n",
      "[6, 7, 2143, 11, 22, 2272, 5, 12, 11, 10, 355, 243, 30, 540, 8, 141, 29, 195, 853, 9]\n"
     ]
    }
   ],
   "source": [
    "print(all_data[0][0][0:20])\n",
    "print(all_data[0][1][0:20])"
   ]
  },
  {
   "cell_type": "code",
   "execution_count": 34,
   "metadata": {},
   "outputs": [
    {
     "name": "stdout",
     "output_type": "stream",
     "text": [
      "rain and the stuff was in danger. it was a different kind of rain, one that never seemed to end. the people went to work, doing all kinds of things to try to protect the stuff, but nothing worked. nothing seemed to stop the rain. finally, someone had an idea. they decided to put the stuff in the sun. the sun was so warm and lovely, and gradually, the rain stopped. but the stuff was still wet, so they had to work some more. little by little, they dried the stuff until it was completely dry and safe. everyone was so happy, because the rare stuff was safe, and it could stay with them forever.<EOS> <SOS>once upon a time, there was a large family. they lived in a big house. every day, the parents examined the house to make sure it was safe and comfortable for everyone. one day, the parents were talking about a war. they wanted to make sure their family was protected. the father looked around the house. he said to his wife, â€œwe should examine the house more closely. if a war comes, it should be ready to keep us safe!â€ the family went around the house and they looked at the walls and windows. they checked the\n",
      "and the stuff was in danger. it was a different kind of rain, one that never seemed to end. the people went to work, doing all kinds of things to try to protect the stuff, but nothing worked. nothing seemed to stop the rain. finally, someone had an idea. they decided to put the stuff in the sun. the sun was so warm and lovely, and gradually, the rain stopped. but the stuff was still wet, so they had to work some more. little by little, they dried the stuff until it was completely dry and safe. everyone was so happy, because the rare stuff was safe, and it could stay with them forever.<EOS> <SOS>once upon a time, there was a large family. they lived in a big house. every day, the parents examined the house to make sure it was safe and comfortable for everyone. one day, the parents were talking about a war. they wanted to make sure their family was protected. the father looked around the house. he said to his wife, â€œwe should examine the house more closely. if a war comes, it should be ready to keep us safe!â€ the family went around the house and they looked at the walls and windows. they checked the doors\n"
     ]
    }
   ],
   "source": [
    "print(sp_processor.decode_ids(all_data[0][0]))\n",
    "print(sp_processor.decode_ids(all_data[0][1]))"
   ]
  },
  {
   "cell_type": "code",
   "execution_count": 128,
   "metadata": {},
   "outputs": [
    {
     "data": {
      "text/plain": [
       "11.313708498984761"
      ]
     },
     "execution_count": 128,
     "metadata": {},
     "output_type": "execute_result"
    }
   ],
   "source": [
    "Dk**0.5"
   ]
  },
  {
   "cell_type": "markdown",
   "metadata": {},
   "source": [
    "# The model"
   ]
  },
  {
   "cell_type": "markdown",
   "metadata": {},
   "source": [
    "### Some gradient hooks."
   ]
  },
  {
   "cell_type": "code",
   "execution_count": 35,
   "metadata": {},
   "outputs": [],
   "source": [
    "def hook_fn(module, grad_input, grad_output):\n",
    "    # Log grad_input and grad_output\n",
    "    # For simplicity, we're only logging the norms; you could log the entire gradients\n",
    "    grad_input_norm = torch.norm(grad_input[0])  # Assuming single input to softmax\n",
    "    grad_output_norm = torch.norm(grad_output[0])  # Assuming single output from softmax\n",
    "\n",
    "    # Store the norms in a global variable for later logging to TensorBoard\n",
    "    global gradients\n",
    "    gradients = {\n",
    "        \"grad_input_norm\": grad_input_norm,\n",
    "        \"grad_output_norm\": grad_output_norm,\n",
    "    }"
   ]
  },
  {
   "cell_type": "code",
   "execution_count": 36,
   "metadata": {},
   "outputs": [],
   "source": [
    "from itertools import chain\n",
    "\n",
    "\n",
    "class PositionalEncoding(nn.Module):\n",
    "    def __init__(self, d_model, sequence_length):\n",
    "        super(PositionalEncoding, self).__init__()\n",
    "        # Create a long enough PE matrix beforehand\n",
    "        pe = torch.zeros(sequence_length, d_model)\n",
    "        position = torch.arange(0, sequence_length, dtype=torch.float).unsqueeze(1)\n",
    "        div_term = torch.exp(\n",
    "            torch.arange(0, d_model, 2).float() * (-2.0 * np.log(10000.0) / d_model)\n",
    "        )\n",
    "        pe[:, 0::2] = torch.sin(position * div_term)\n",
    "        pe[:, 1::2] = torch.cos(position * div_term)\n",
    "        pe = pe.unsqueeze(0)\n",
    "        print(\"Pos Enc shape\", pe.shape)\n",
    "        # Register this pe matrix as a constant/static model parameter\n",
    "        self.register_buffer(\"pe\", pe)\n",
    "\n",
    "    def forward(self, x):\n",
    "        \"\"\"\n",
    "        x: Tensor, shape [batch_size, seq_len, embedding_dim]\n",
    "        \"\"\"\n",
    "        # Add positional encoding\n",
    "        return self.pe[:, : x.size(1), :]\n",
    "\n",
    "\n",
    "class SelfAttentionHead(nn.Module):\n",
    "    def __init__(self, device, config):\n",
    "        self.device = device\n",
    "        self.config = config\n",
    "        super(SelfAttentionHead, self).__init__()\n",
    "        self.Wq = nn.Linear(config[\"N_EMBED\"], config[\"Dk\"], bias=config[\"KEEP_BIAS\"])\n",
    "        self.Wk = nn.Linear(config[\"N_EMBED\"], config[\"Dk\"], bias=config[\"KEEP_BIAS\"])\n",
    "        self.Wv = nn.Linear(config[\"N_EMBED\"], config[\"Dv\"], bias=config[\"KEEP_BIAS\"])\n",
    "        self.output_projection = nn.Linear(config[\"Dv\"], config[\"N_EMBED\"])\n",
    "        self.dropout = nn.Dropout(config[\"P_DROPOUT\"])\n",
    "        self.residual_dropout = nn.Dropout(config[\"P_DROPOUT\"])\n",
    "\n",
    "    def forward(self, x):\n",
    "        q = self.Wq(x)  # B * T * Dk\n",
    "        k = self.Wk(x)  # B * T * Dk\n",
    "        v = self.Wv(x)  # B * T * Dv\n",
    "        self.q = q\n",
    "        self.k = k\n",
    "        a = torch.bmm(q, k.transpose(-2, -1)) / (self.config[\"Dk\"] ** 0.5)\n",
    "\n",
    "        self.effective_T = a.shape[1]\n",
    "        mask = torch.tril(\n",
    "            torch.ones(self.effective_T, self.effective_T, device=self.device)\n",
    "        )\n",
    "        a = a.masked_fill(mask == 0, float(\"-inf\"))\n",
    "\n",
    "        self.a = a\n",
    "        # mask = mask.masked_fill(\n",
    "        #     mask[: self.effective_T, : self.effective_T] == 0, float(\"-inf\")\n",
    "        # )\n",
    "        # a = a + mask\n",
    "        self.a_softmax = torch.functional.F.softmax(self.a, dim=-1)\n",
    "        weighted_attention = self.a_softmax @ v\n",
    "        return self.output_projection(weighted_attention)\n",
    "\n",
    "\n",
    "class MLP(nn.Module):\n",
    "\n",
    "    def __init__(self, config):\n",
    "        super().__init__()\n",
    "        self.c_fc = nn.Linear(config[\"N_EMBED\"], config[\"N_EMBED\"] * 4)\n",
    "        self.relu = nn.ReLU()\n",
    "        self.c_proj = nn.Linear(config[\"N_EMBED\"] * 4, config[\"N_EMBED\"])\n",
    "        self.residual_dropout = nn.Dropout(config[\"P_DROPOUT\"])\n",
    "\n",
    "    def forward(self, x):\n",
    "        x = self.c_fc(x)\n",
    "        x = self.relu(x)\n",
    "        x = self.c_proj(x)\n",
    "        return x\n",
    "\n",
    "\n",
    "class Block(nn.Module):\n",
    "\n",
    "    def __init__(self, device, config):\n",
    "        super().__init__()\n",
    "        self.ln_1 = nn.LayerNorm(config[\"N_EMBED\"])\n",
    "        self.attn = SelfAttentionHead(device, config)\n",
    "        self.ln_2 = nn.LayerNorm(config[\"N_EMBED\"])\n",
    "        self.mlp = MLP(config)\n",
    "\n",
    "    def forward(self, x):\n",
    "        # Make sure Dropout is NOT applied in self.attn and self.mlp\n",
    "        x = x + self.ln_1(self.attn.residual_dropout(self.attn(x)))\n",
    "        x = x + self.ln_2(self.mlp.residual_dropout(self.mlp(x)))\n",
    "        return x\n",
    "\n",
    "\n",
    "# C = nn.Embedding(V, config['N_EMBED'])\n",
    "# The Query, Key and Value matrics for self attention\n",
    "class TinyStoriesTransformer(nn.Module):\n",
    "    def __init__(self, device, config):\n",
    "        super(TinyStoriesTransformer, self).__init__()\n",
    "        self.device = device\n",
    "        self.C = nn.Embedding(config[\"V\"], config[\"N_EMBED\"])\n",
    "        self.token_embedding_dropout = nn.Dropout(config[\"P_DROPOUT\"])\n",
    "        # self.pos_encoder = PositionalEncoding(config[\"N_EMBED\"], config[\"MAX_LEN_SEQ\"])\n",
    "        # self.blocks = nn.Sequential(*[Block(config['N_EMBED']) for _ in range(4)])\n",
    "\n",
    "        # self.bn = nn.BatchNorm1d(config['N_EMBED'], track_running_stats=True)\n",
    "\n",
    "        # Lets make multiple Block and connect them together\n",
    "\n",
    "        self.block = Block(device, config)\n",
    "\n",
    "        # TODO(Sid): Add positional encoding and possibly 3 separate layers for a forward projection *before* passing to Wq, Wk and Wv\n",
    "\n",
    "        # self.bn_after_ff = nn.BatchNorm1d(config['N_EMBED'], track_running_stats=True)\n",
    "        self.ln_ff = nn.LayerNorm(config[\"N_EMBED\"])\n",
    "        # Softmax layer\n",
    "        self.final_projection = nn.Linear(config[\"N_EMBED\"], config[\"V\"])\n",
    "\n",
    "    def forward(self, x):\n",
    "        x_embed = self.C(x)  # T * config['N_EMBED']\n",
    "        # x_embed = x_embed\n",
    "\n",
    "        # x_pos = self.pos_encoder(x)\n",
    "        # x_embed = self.token_embedding_dropout(x_embed + x_pos)\n",
    "\n",
    "        # x_embed_permuted = x_embed.permute(0, 2, 1)  # config['N_EMBED'] * T\n",
    "        # x_embed_normed = self.bn(x_embed_permuted)\n",
    "        # x_embed_normed = x_embed_normed.permute(0, 2, 1)  # T * config['N_EMBED']\n",
    "        # Sublayer 1 and 2, i.e. the ATTENTION and MLP along with residual connections.\n",
    "        x_sublayer_12 = self.block(x_embed)\n",
    "\n",
    "        # Batch Norm\n",
    "        # ff_output_permuted = x_sublayer_12.permute(0, 2, 1)\n",
    "        # ff_output_normed = self.bn_after_ff(ff_output_permuted)\n",
    "        # ff_output_normed = ff_output_normed.permute(0, 2, 1)\n",
    "\n",
    "        layer_norm_output_final = self.ln_ff(\n",
    "            x_sublayer_12\n",
    "        )  # T * N_HIDDEN, Residual connection\n",
    "        return self.final_projection(layer_norm_output_final)  # B * T * V"
   ]
  },
  {
   "cell_type": "markdown",
   "metadata": {},
   "source": [
    "## Initialize the model"
   ]
  },
  {
   "cell_type": "code",
   "execution_count": 37,
   "metadata": {},
   "outputs": [
    {
     "data": {
      "text/plain": [
       "TinyStoriesTransformer(\n",
       "  (C): Embedding(10000, 256)\n",
       "  (token_embedding_dropout): Dropout(p=0.3, inplace=False)\n",
       "  (block): Block(\n",
       "    (ln_1): LayerNorm((256,), eps=1e-05, elementwise_affine=True)\n",
       "    (attn): SelfAttentionHead(\n",
       "      (Wq): Linear(in_features=256, out_features=128, bias=False)\n",
       "      (Wk): Linear(in_features=256, out_features=128, bias=False)\n",
       "      (Wv): Linear(in_features=256, out_features=128, bias=False)\n",
       "      (output_projection): Linear(in_features=128, out_features=256, bias=True)\n",
       "      (dropout): Dropout(p=0.3, inplace=False)\n",
       "      (residual_dropout): Dropout(p=0.3, inplace=False)\n",
       "    )\n",
       "    (ln_2): LayerNorm((256,), eps=1e-05, elementwise_affine=True)\n",
       "    (mlp): MLP(\n",
       "      (c_fc): Linear(in_features=256, out_features=1024, bias=True)\n",
       "      (relu): ReLU()\n",
       "      (c_proj): Linear(in_features=1024, out_features=256, bias=True)\n",
       "      (residual_dropout): Dropout(p=0.3, inplace=False)\n",
       "    )\n",
       "  )\n",
       "  (ln_ff): LayerNorm((256,), eps=1e-05, elementwise_affine=True)\n",
       "  (final_projection): Linear(in_features=256, out_features=10000, bias=True)\n",
       ")"
      ]
     },
     "execution_count": 37,
     "metadata": {},
     "output_type": "execute_result"
    }
   ],
   "source": [
    "tiny_story_model = TinyStoriesTransformer(device, config=model_param_config)\n",
    "tiny_story_model.to(device)"
   ]
  },
  {
   "cell_type": "code",
   "execution_count": 38,
   "metadata": {},
   "outputs": [
    {
     "data": {
      "text/plain": [
       "5788432"
      ]
     },
     "execution_count": 38,
     "metadata": {},
     "output_type": "execute_result"
    }
   ],
   "source": [
    "def count_parameters(model):\n",
    "    return sum(p.numel() for p in model.parameters() if p.requires_grad)\n",
    "\n",
    "\n",
    "count_parameters(tiny_story_model)"
   ]
  },
  {
   "cell_type": "code",
   "execution_count": 39,
   "metadata": {},
   "outputs": [
    {
     "name": "stdout",
     "output_type": "stream",
     "text": [
      "torch.Size([64, 256, 10000])\n"
     ]
    }
   ],
   "source": [
    "# Quick test for shapes.\n",
    "with torch.no_grad():\n",
    "    tiny_story_model.eval()\n",
    "    op = tiny_story_model(\n",
    "        torch.randint(0, 10000, (model_param_config[\"B\"], model_param_config[\"T\"])).to(\n",
    "            device\n",
    "        )\n",
    "    )\n",
    "    print(op.shape)"
   ]
  },
  {
   "cell_type": "code",
   "execution_count": 40,
   "metadata": {},
   "outputs": [],
   "source": [
    "LEARNING_RATE = 1e-3\n",
    "ce_loss = nn.CrossEntropyLoss()\n",
    "optimizer = torch.optim.Adam(\n",
    "    tiny_story_model.parameters(),\n",
    "    lr=LEARNING_RATE,\n",
    ")\n",
    "# for parameter_values in parameters:\n",
    "#     for parameter in parameter_values:\n",
    "#         print(\".\", end=\"\")\n",
    "#         parameter.requires_grad = True"
   ]
  },
  {
   "cell_type": "markdown",
   "metadata": {},
   "source": [
    "# Over fit a batch "
   ]
  },
  {
   "cell_type": "code",
   "execution_count": 41,
   "metadata": {},
   "outputs": [],
   "source": [
    "def save_model(model, model_path, epoch, optimizer, loss, config):\n",
    "    torch.save(\n",
    "        {\n",
    "            \"epoch\": epoch,\n",
    "            \"model_state_dict\": model.state_dict(),\n",
    "            \"optimizer_state_dict\": optimizer.state_dict(),\n",
    "            \"loss\": loss,\n",
    "            \"config\": config,\n",
    "        },\n",
    "        model_path,\n",
    "    )\n",
    "\n",
    "\n",
    "def load_model(model, model_path, optimizer):\n",
    "    checkpoint = torch.load(model_path)\n",
    "    model.load_state_dict(checkpoint[\"model_state_dict\"])\n",
    "    optimizer.load_state_dict(checkpoint[\"optimizer_state_dict\"])\n",
    "    epoch = checkpoint[\"epoch\"]\n",
    "    loss = checkpoint[\"loss\"]\n",
    "    return model, optimizer, epoch, loss"
   ]
  },
  {
   "cell_type": "code",
   "execution_count": 36,
   "metadata": {},
   "outputs": [
    {
     "data": {
      "text/plain": [
       "device(type='cuda')"
      ]
     },
     "execution_count": 36,
     "metadata": {},
     "output_type": "execute_result"
    }
   ],
   "source": [
    "device"
   ]
  },
  {
   "cell_type": "code",
   "execution_count": 37,
   "metadata": {},
   "outputs": [],
   "source": [
    "# load_model(\n",
    "#     tiny_story_model, root / \"model_overfitted_epoch_799_batch_799.pth\", optimizer\n",
    "# )\n",
    "# tiny_story_model.to(device)"
   ]
  },
  {
   "cell_type": "markdown",
   "metadata": {},
   "source": [
    "## Validation loop logic"
   ]
  },
  {
   "cell_type": "code",
   "execution_count": 42,
   "metadata": {},
   "outputs": [],
   "source": [
    "def validation_loop(model, test_dataloader, loss_fn):\n",
    "    model.eval()\n",
    "    total_loss = 0\n",
    "\n",
    "    with torch.no_grad():\n",
    "        for i, (x_batch, y_batch) in enumerate(test_dataloader):\n",
    "\n",
    "            # Forward pass\n",
    "            z = model(x_batch.to(device))\n",
    "            act = torch.softmax(z, dim=-1)  # B* T * V, where V is the\n",
    "            # print(act.shape, y_sample.shape)\n",
    "\n",
    "            act = act.view(-1, V)\n",
    "            y_sample_view = y_batch.view(-1)\n",
    "\n",
    "            loss = loss_fn(act, y_sample_view.to(device))\n",
    "\n",
    "            # test_loss_values.append(loss.item())\n",
    "            # print(loss.item())\n",
    "            if torch.isnan(loss).any():\n",
    "                print(\"NaN detected in test loss\")\n",
    "\n",
    "            total_loss += loss.item()\n",
    "    return total_loss / (i + 1)"
   ]
  },
  {
   "cell_type": "markdown",
   "metadata": {},
   "source": [
    "## Create a small batch"
   ]
  },
  {
   "cell_type": "code",
   "execution_count": 61,
   "metadata": {},
   "outputs": [
    {
     "name": "stdout",
     "output_type": "stream",
     "text": [
      "640000\n"
     ]
    }
   ],
   "source": [
    "print(len(all_data))"
   ]
  },
  {
   "cell_type": "code",
   "execution_count": 44,
   "metadata": {},
   "outputs": [],
   "source": [
    "n_train = int(len(all_data) * 0.9)\n",
    "train_data = all_data[0:n_train]\n",
    "test_data = all_data[n_train:]\n",
    "X_train = torch.tensor([i[0] for i in train_data])\n",
    "Y_train = torch.tensor([i[1] for i in train_data])\n",
    "X_test = torch.tensor([i[0] for i in test_data])\n",
    "Y_test = torch.tensor([i[1] for i in test_data])"
   ]
  },
  {
   "cell_type": "code",
   "execution_count": 45,
   "metadata": {},
   "outputs": [],
   "source": [
    "from torch.utils.data import DataLoader\n",
    "\n",
    "train_dataloader = DataLoader(\n",
    "    list(zip(X_train, Y_train)),\n",
    "    batch_size=model_param_config[\"B\"],\n",
    "    shuffle=True,\n",
    ")\n",
    "test_dataloader = DataLoader(\n",
    "    list(zip(X_test, Y_test)),\n",
    "    batch_size=model_param_config[\"B\"],\n",
    "    shuffle=True,\n",
    ")"
   ]
  },
  {
   "cell_type": "code",
   "execution_count": 46,
   "metadata": {},
   "outputs": [
    {
     "data": {
      "text/plain": [
       "(torch.Size([576000, 256]),\n",
       " torch.Size([576000, 256]),\n",
       " torch.Size([64000, 256]),\n",
       " torch.Size([64000, 256]))"
      ]
     },
     "execution_count": 46,
     "metadata": {},
     "output_type": "execute_result"
    }
   ],
   "source": [
    "X_train.shape, Y_train.shape, X_test.shape, Y_test.shape"
   ]
  },
  {
   "cell_type": "code",
   "execution_count": 63,
   "metadata": {},
   "outputs": [
    {
     "name": "stdout",
     "output_type": "stream",
     "text": [
      "(200,)\n",
      "torch.Size([200, 256]) torch.Size([200, 256])\n"
     ]
    }
   ],
   "source": [
    "# Set a seed for numpy\n",
    "np.random.seed(99999999)\n",
    "# random_idx = np.random.randint(0, X_train.shape[0], 2000)\n",
    "random_idx = np.arange(0, 200)\n",
    "print(random_idx.shape)\n",
    "X_batch_small, Y_batch_small = X_train[random_idx, :].to(device), Y_train[\n",
    "    random_idx, :\n",
    "].to(device)\n",
    "print(X_batch_small.shape, Y_batch_small.shape)"
   ]
  },
  {
   "cell_type": "markdown",
   "metadata": {},
   "source": [
    "## Model training loop"
   ]
  },
  {
   "cell_type": "code",
   "execution_count": 47,
   "metadata": {},
   "outputs": [],
   "source": [
    "train_loss_values = []"
   ]
  },
  {
   "cell_type": "code",
   "execution_count": 48,
   "metadata": {},
   "outputs": [
    {
     "name": "stderr",
     "output_type": "stream",
     "text": [
      "2024-04-07 22:20:07.419494: I external/local_tsl/tsl/cuda/cudart_stub.cc:32] Could not find cuda drivers on your machine, GPU will not be used.\n",
      "2024-04-07 22:20:07.425728: I external/local_tsl/tsl/cuda/cudart_stub.cc:32] Could not find cuda drivers on your machine, GPU will not be used.\n",
      "2024-04-07 22:20:07.525406: I tensorflow/core/platform/cpu_feature_guard.cc:210] This TensorFlow binary is optimized to use available CPU instructions in performance-critical operations.\n",
      "To enable the following instructions: AVX2 FMA, in other operations, rebuild TensorFlow with the appropriate compiler flags.\n",
      "2024-04-07 22:20:16.655107: W tensorflow/compiler/tf2tensorrt/utils/py_utils.cc:38] TF-TRT Warning: Could not find TensorRT\n"
     ]
    }
   ],
   "source": [
    "# Data time now in YYYYMMDD-HHMMSS\n",
    "import datetime\n",
    "from torch.utils.tensorboard import SummaryWriter"
   ]
  },
  {
   "cell_type": "code",
   "execution_count": 52,
   "metadata": {},
   "outputs": [],
   "source": [
    "\n",
    "def get_writer(config):\n",
    "    dt = datetime.datetime.now().strftime(\"%Y%m%d_%H:%M:%S_\")\n",
    "    run_id = dt + \"_\".join([f\"{k}_{v}\".replace(\".\", \"_\") for k, v in config.items()])\n",
    "    return SummaryWriter(log_dir=f\"./logs/{run_id}\")\n",
    "\n",
    "\n",
    "def get_unique_run_name(config):\n",
    "    dt = datetime.datetime.now().strftime(\"%Y%m%d_%H:%M:%S_\")\n",
    "    run_id = dt + \"_\".join([f\"{k}_{v}\".replace(\".\", \"_\") for k, v in config.items()])\n",
    "    return run_id"
   ]
  },
  {
   "cell_type": "code",
   "execution_count": 54,
   "metadata": {},
   "outputs": [],
   "source": [
    "n_epochs = 800\n",
    "epochs_iter = iter(range(1, n_epochs))"
   ]
  },
  {
   "cell_type": "code",
   "execution_count": 53,
   "metadata": {},
   "outputs": [],
   "source": [
    "def log_model_parameters_to_tensorboard(model, writer, epoch):\n",
    "    \"\"\"\n",
    "    Logs the histogram of model parameters to Tensorboard.\n",
    "\n",
    "    Parameters:\n",
    "    - model: The PyTorch model from which to log parameters.\n",
    "    - writer: An instance of `torch.utils.tensorboard.SummaryWriter`.\n",
    "    - epoch: The current epoch or iteration number, used as the step value in Tensorboard.\n",
    "    \"\"\"\n",
    "    for name, param in model.named_parameters():\n",
    "        # Use the parameter's name as the tag for the histogram\n",
    "        tag = name.replace(\".\", \"/\")\n",
    "\n",
    "        writer.add_histogram(tag, param.clone().cpu().data.numpy(), epoch)\n",
    "\n",
    "\n",
    "def log_gradient_to_tensorboard(model, writer, epoch):\n",
    "    \"\"\"\n",
    "    Logs the gradient of the parameters to Tensorboard.\n",
    "\n",
    "    Parameters:\n",
    "    - model: The PyTorch model from which to log parameters.\n",
    "    - writer: An instance of `torch.utils.tensorboard.SummaryWriter`.\n",
    "    - epoch: The current epoch or iteration number, used as the step value in Tensorboard.\n",
    "    \"\"\"\n",
    "    # for name, param in tiny_story_model.named_parameters():\n",
    "    #     if param.requires_grad and param.grad is not None:\n",
    "    #         writer.add_scalar(\n",
    "    #             f\"grad_norm/{name}\", param.grad.norm(), n_batches\n",
    "    #         )\n",
    "    for name, param in model.named_parameters():\n",
    "        # Use the parameter's name as the tag for the histogram\n",
    "        tag = name.replace(\".\", \"/\")\n",
    "        if param.requires_grad and param.grad is not None:\n",
    "            writer.add_scalar(f\"grad_norm/{tag}\", param.grad.clone().norm(), epoch)\n",
    "        # writer.add_histogram(tag + \"/grad\", param.grad.clone().cpu().data.numpy(), epoch)"
   ]
  },
  {
   "cell_type": "code",
   "execution_count": 57,
   "metadata": {},
   "outputs": [
    {
     "name": "stderr",
     "output_type": "stream",
     "text": [
      "Epochs:   0%|          | 0/800 [00:00<?, ?it/s]\n",
      "Batches:   0%|          | 0/9000 [00:00<?, ?it/s]"
     ]
    },
    {
     "name": "stderr",
     "output_type": "stream",
     "text": [
      "Epoch [2/800], Batch 2130], Loss: 9.0678, Val Loss 0, Last 5 losses: 9.0613, 9.0605, 9.0663, 9.0602, 9.0678:   0%|          | 0/800 [04:55<?, ?it/s]"
     ]
    }
   ],
   "source": [
    "tiny_story_model.train()\n",
    "suffix = \"_\".join([f\"{k}_{v}\" for k, v in model_param_config.items()])\n",
    "model_name = f\"tiny_story_model_{get_unique_run_name(model_param_config)}\"\n",
    "writer = get_writer(model_param_config)\n",
    "with tqdm(total=n_epochs, desc=\"Epochs\", leave=False) as progress_bar:\n",
    "    for epoch in epochs_iter:\n",
    "        n_batches = 1\n",
    "        # for X_batch, Y_batch in its.cycle([(X_batch_small, Y_batch_small)]):\n",
    "        for X_batch, Y_batch in tqdm(train_dataloader, desc=\"Batches\", leave=False):\n",
    "            optimizer.zero_grad()\n",
    "            z = tiny_story_model(X_batch.to(device))\n",
    "            act = torch.softmax(z, dim=-1)  # B* T * V, where V is the\n",
    "            # print(act.shape, y_sample.shape)\n",
    "\n",
    "            act = act.view(\n",
    "                model_param_config[\"B\"] * model_param_config[\"T\"],\n",
    "                model_param_config[\"V\"],\n",
    "            )\n",
    "            y_sample_view = Y_batch.view(\n",
    "                model_param_config[\"B\"] * model_param_config[\"T\"]\n",
    "            )\n",
    "\n",
    "            loss = ce_loss(act, y_sample_view.to(device))\n",
    "\n",
    "            train_loss_values.append(loss.item())\n",
    "\n",
    "            if epoch % 20 == 0 or n_batches % 30 == 0:\n",
    "                # validation_loss = validation_loop(tiny_story_model, test_dataloader, ce_loss)\n",
    "                validation_loss = 0\n",
    "                # print(\".\", end=\"\")\n",
    "                progress_bar.set_description(\n",
    "                    f\"Epoch [{epoch}/{n_epochs}], Batch {n_batches}], Loss: {np.round(loss.item(), decimals=4)}, Val Loss {np.round(validation_loss, decimals=4)}, Last 5 losses: {', '.join([str(np.round(i, decimals=4)) for i in train_loss_values[-5:]])}\"\n",
    "                )\n",
    "                log_model_parameters_to_tensorboard(\n",
    "                    tiny_story_model, writer, epoch * n_batches\n",
    "                )\n",
    "\n",
    "            # print(loss.item())\n",
    "            loss.backward()\n",
    "\n",
    "            optimizer.step()\n",
    "            with torch.no_grad():\n",
    "                log_gradient_to_tensorboard(tiny_story_model, writer, n_batches)\n",
    "            del z\n",
    "            del act\n",
    "            n_batches += 1\n",
    "        save_model(\n",
    "            tiny_story_model,\n",
    "            f\"{model_name}.pth\",\n",
    "            epoch,\n",
    "            optimizer,\n",
    "            loss,\n",
    "        )\n",
    "\n",
    "    # Cross entropy between the output of the FF layer_norm_output_final and the target y\n",
    "    # print(act.shape)"
   ]
  },
  {
   "cell_type": "code",
   "execution_count": 386,
   "metadata": {},
   "outputs": [],
   "source": [
    "save_model(\n",
    "    tiny_story_model,\n",
    "    f\"best_transform_model_more_dropout_made_things_better.pth\",\n",
    "    epoch,\n",
    "    optimizer,\n",
    "    loss,\n",
    "    model_param_config,\n",
    ")"
   ]
  },
  {
   "cell_type": "code",
   "execution_count": 362,
   "metadata": {},
   "outputs": [
    {
     "data": {
      "text/plain": [
       "8.997580370903016"
      ]
     },
     "execution_count": 362,
     "metadata": {},
     "output_type": "execute_result"
    }
   ],
   "source": [
    "validation_loop(tiny_story_model, test_dataloader, ce_loss)"
   ]
  },
  {
   "cell_type": "code",
   "execution_count": 441,
   "metadata": {},
   "outputs": [],
   "source": [
    "del tiny_story_model"
   ]
  },
  {
   "cell_type": "code",
   "execution_count": 442,
   "metadata": {},
   "outputs": [],
   "source": [
    "import gc\n",
    "\n",
    "gc.collect()\n",
    "torch.cuda.empty_cache()"
   ]
  },
  {
   "cell_type": "code",
   "execution_count": 415,
   "metadata": {},
   "outputs": [
    {
     "data": {
      "text/plain": [
       "125702"
      ]
     },
     "execution_count": 415,
     "metadata": {},
     "output_type": "execute_result"
    }
   ],
   "source": [
    "len(train_loss_values)"
   ]
  },
  {
   "cell_type": "code",
   "execution_count": 416,
   "metadata": {},
   "outputs": [
    {
     "data": {
      "image/png": "[encoded data removed]",
      "text/plain": [
       "<Figure size 640x480 with 1 Axes>"
      ]
     },
     "metadata": {},
     "output_type": "display_data"
    }
   ],
   "source": [
    "ax = plt.plot(train_loss_values[9050:])"
   ]
  },
  {
   "cell_type": "code",
   "execution_count": 444,
   "metadata": {},
   "outputs": [
    {
     "name": "stdout",
     "output_type": "stream",
     "text": [
      "200\n"
     ]
    },
    {
     "data": {
      "text/plain": [
       "['ever with all the places she wanted to explore coloured in fun colours. molly got very excited, she showed it to her friends and they all wanted to go explore the world with her. her best friend, lucy, was really bossy and she said they could only go if they all went together. molly didn\\'t want to be bossed around but she hoped she could convince lucy to change her mind. molly sat down with her map and lucy came to have a look. â€ ⁇ letâ€ ⁇ s go to this place!â€ molly said, pointing to a place on the map. lucy shook her head and said no. she wanted to go to a completely different place on the map. molly held her breath, this was her chance. she had to be brave and try to change lucy\\'s mind. â€ ⁇ pleaseâ€ molly said softly, with a polite smile. to her surprise lucy thought about it for a moment and then said â€ ⁇ okayâ€. molly was so happy and the two of them went on to explore the world together. all thanks to a little bit of hoping!<EOS> <SOS>once upon a time, there was a sleepy boy who loved to sleep in. one day dad made an alarm for him, so that he wouldn\\'t be late for school. every morning, the alarm would make a loud noise and wake him up. the boy didn\\'t like it at first, but soon he learned to love it. he stopped being so sleepy in the mornings and became a very happy boy. he thanked dad for the alarm and they both lived happily ever after!<EOS> <SOS>once there was a small bird called copper. copper was thick and strong and could fly very fast. one day, copper was flying very high and not paying attention and flew into a tree. copper couldn\\'t fly away and was very scared. suddenly she heard a voice, it was an old bird who lived in the tree. he asked, \"why are you afraid little bird?\" \"i flew too close and now i can\\'t move,\" copper said, tears filling her eyes. the old bird said, \"it looks like you were going too fast, maybe you should pause more often\". copper thanked the old bird and understood his lesson. she paused to fly beside the tree, testing her wings before going higher. she was grateful for the wise words the old bird had given her. the moral of the story is that itâ€ ⁇ s important to take time to think before making decisions. taking a',\n",
       " 'went right over the fence and into the neighbour\\'s garden! karen hopped over the fence to get it back. when she got to the other garden, karen found a brilliant prize! it was shiny and sparkly, and even had her name written on it. karen was so excited ⁇  she had found a special prize. she quickly grabbed the prize and ran back to her garden. karen was so happy, she started to kick the ball around again!<EOS> <SOS>once upon a time there was a giant tree in a hidden forest. every night an owl would come and rest in its branches. one night the owl heard a strange noise. the owl looked down and noticed a body in the clearing. curious, the owl flew down and investigate. the owl asked, â€ ⁇ who are you?â€ the body replied, â€ ⁇ i am the guardian of the hidden forest. i am here to protect it from any harm.â€ the owl said, â€ ⁇ can i help you?â€ the body replied, â€ ⁇ yes, remove the rocks that are blocking the path.â€ the owl obliged and flew around the forest. after a few hours the owl had removed all the rocks. the body said, â€ ⁇ thank you for your help, now the hidden forest is safe.â€ the owl said farewell and flew away, happy that it had helped the guardian of the hidden forest.<EOS> <SOS>once upon a time, there was a very quiet hoop. every day, the hoop would sit in the playground, waiting for someone to play with. but no one ever came. one day, the hoop sighed. â€ ⁇ why am i not getting used?â€ they said. just then, a little girl came running into the playground. her name was mary. she saw the hoop and her eyes lit up. she picked up the hoop and ran around the playground with it. mary said, â€ ⁇ this is so much fun! we can play hoop games all day!â€ the hoop gave a happy sigh. they were so glad to finally have someone to play with. from then on, mary and the hoop would play together in the playground every day.<EOS> <SOS>once upon a time there was a girl. she was very impatient. she wanted to write something, but she didn\\'t have a pen. the girl saw a stick! she was so excited. she thought \"this stick will do\". she started to write with it. the stick was too hard and it broke']"
      ]
     },
     "execution_count": 444,
     "metadata": {},
     "output_type": "execute_result"
    }
   ],
   "source": [
    "trained_Xs = X_batch.detach().cpu().numpy()\n",
    "trained_Xs = trained_Xs.tolist()\n",
    "print(len(trained_Xs))\n",
    "sp_processor.decode_ids(trained_Xs[0:2])"
   ]
  },
  {
   "cell_type": "markdown",
   "metadata": {},
   "source": [
    "# Inference "
   ]
  },
  {
   "cell_type": "code",
   "execution_count": null,
   "metadata": {},
   "outputs": [],
   "source": [
    "device = \"cpu\"\n",
    "tiny_story_model.to(device)"
   ]
  },
  {
   "cell_type": "code",
   "execution_count": 417,
   "metadata": {},
   "outputs": [
    {
     "name": "stdout",
     "output_type": "stream",
     "text": [
      "sara liked to play with her toys [. the park. the park. the park. the park. the park. the park. the park. the park. the park. the park. the park. the park. the park. the park. the park. the park. the ]\n"
     ]
    }
   ],
   "source": [
    "# grab a random token and make the network generate things\n",
    "# def generate_text(model, sp_processor, test_sentence):\n",
    "test_sentence = \"sara liked to play with her toys\"\n",
    "tiny_story_model.eval()\n",
    "# token = torch.randint(0, V, (1, 1)).to(device)\n",
    "tokens = sp_processor.encode_as_ids(f\"<SOS>{test_sentence}\")\n",
    "# print(tokens)\n",
    "generated_text = []\n",
    "\n",
    "torch_tokens = torch.tensor([tokens]).to(device)\n",
    "prev_tokens = torch_tokens\n",
    "# print(tokens.shape)\n",
    "distributions_acts = []\n",
    "max_probs_lst = []\n",
    "\n",
    "temperature = 0.9  # Adjust this parameter to control diversity\n",
    "\n",
    "for i in range(50):\n",
    "    with torch.no_grad():\n",
    "        z = tiny_story_model(prev_tokens)\n",
    "        scaled_z = z / temperature\n",
    "        probs = torch.softmax(scaled_z, dim=-1)\n",
    "        # distributions_acts.append(act)\n",
    "        probs = probs.view(-1, V)  # len(generated_tokens) +i * V\n",
    "        sampled_token = torch.multinomial(probs[-1, :], num_samples=2)\n",
    "        # print(sampled_token)\n",
    "\n",
    "        # max_probs, max_idxs = torch.max(probs, dim=-1)\n",
    "        # max_probs_lst.append(probs[-1, sampled_token])\n",
    "\n",
    "        # print(int(sampled_token), int(max_probs[-1]))\n",
    "        # print(\".\")\n",
    "        generated_text.append(int(sampled_token[0]))\n",
    "\n",
    "        prev_tokens = torch.cat(\n",
    "            (prev_tokens, torch.tensor([[sampled_token[0]]], device=device)), dim=1\n",
    "        )\n",
    "decoded_text = sp_processor.decode_ids(generated_text)\n",
    "\n",
    "print(test_sentence + \" [\" + decoded_text + \" ]\")"
   ]
  },
  {
   "cell_type": "code",
   "execution_count": 34,
   "metadata": {},
   "outputs": [
    {
     "data": {
      "text/plain": [
       "torch.Size([11, 10000])"
      ]
     },
     "execution_count": 34,
     "metadata": {},
     "output_type": "execute_result"
    }
   ],
   "source": [
    "probs.shape"
   ]
  },
  {
   "cell_type": "code",
   "execution_count": 400,
   "metadata": {},
   "outputs": [
    {
     "name": "stdout",
     "output_type": "stream",
     "text": [
      "Once 0.9999822378158569, upon 0.9999823570251465, a 0.9999864101409912, little 0.9999864101409912, girl 0.9999818801879883, named 0.9999959468841553, Beep 0.9999864101409912, loved 0.9999868869781494, to 0.9794060587882996, go 0.9999847412109375, fast 0.9999902248382568, and 0.999988317489624, said 0.9999850988388062, , 0.9999988079071045, \" 0.9879357814788818, Mom 0.9999853372573853, , 0.9999943971633911, \" 0.990085244178772, Mom 0.9520663619041443, , 0.9999943971633911, \" 0.9918128252029419, Mom 0.8985897898674011, , 0.9999943971633911, \" 0.993184506893158, Mom 0.8695441484451294, , 0.9999943971633911, \" 0.9942948222160339, Mom 0.851822018623352, , 0.9999943971633911, \" 0.9951932430267334, Mom 0.8400238156318665, , 0.9999943971633911, \" 0.9959267973899841, Mom 0.8316372632980347, , 0.9999943971633911, \" 0.9965178966522217, Mom 0.82539302110672, , 0.9999943971633911, \" 0.9970095157623291, Mom 0.820560097694397, , 0.9999943971633911, \" 0.9974110722541809, Mom 0.81671142578125, , 0.9999943971633911, \" 0.9977425336837769, Mom 0.8135744333267212, , 0.9999943971633911, \" 0.9980212450027466, Mom 0.8109685182571411, , 0.9999943971633911, "
     ]
    }
   ],
   "source": [
    "for t, p in zip(generated_text, max_probs_lst):\n",
    "    print(sp_processor.decode(t), float(p), end=\", \")"
   ]
  },
  {
   "cell_type": "code",
   "execution_count": 105,
   "metadata": {},
   "outputs": [
    {
     "name": "stdout",
     "output_type": "stream",
     "text": [
      "484800 960000\n",
      "[9.45084253e-07 8.04790375e-06 1.13667030e-03 9.25837986e-02\n",
      " 3.77411470e-01]\n"
     ]
    },
    {
     "data": {
      "image/png": "[encoded data removed]",
      "text/plain": [
       "<Figure size 640x480 with 1 Axes>"
      ]
     },
     "metadata": {},
     "output_type": "display_data"
    }
   ],
   "source": [
    "ax = plt.subplot()\n",
    "vals = tiny_story_model.block.attn.a_softmax.view(-1).detach().to(\"cpu\").numpy()\n",
    "print(np.count_nonzero(vals), len(vals))\n",
    "non_zeros = vals[np.where(vals != 0)]\n",
    "print(np.quantile(non_zeros, [0.01, 0.05, 0.5, 0.95, 0.99]))\n",
    "_ = ax.hist(non_zeros, bins=100)"
   ]
  },
  {
   "cell_type": "code",
   "execution_count": 132,
   "metadata": {},
   "outputs": [
    {
     "name": "stdout",
     "output_type": "stream",
     "text": [
      "torch.Size([2, 3, 5]) torch.Size([2, 3])\n",
      "tensor([[[ 0.9000,  5.8000,  0.2000, -0.6500,  0.3000],\n",
      "         [ 0.9000, -1.8000,  0.2000,  0.6500,  7.3000],\n",
      "         [10.9000, -1.8000,  0.2000, -0.6500,  0.3000]],\n",
      "\n",
      "        [[ 0.9000,  5.8000,  0.2000, -0.6500,  0.3000],\n",
      "         [ 0.9000, -1.8000,  0.2000,  0.6500,  7.3000],\n",
      "         [10.9000, -1.8000,  0.2000, -0.6500,  0.3000]]], requires_grad=True) tensor([[1, 4, 0],\n",
      "        [2, 1, 1]])\n",
      "torch.Size([6, 5]) torch.Size([6])\n",
      "tensor([[ 0.9000,  5.8000,  0.2000, -0.6500,  0.3000],\n",
      "        [ 0.9000, -1.8000,  0.2000,  0.6500,  7.3000],\n",
      "        [10.9000, -1.8000,  0.2000, -0.6500,  0.3000],\n",
      "        [ 0.9000,  5.8000,  0.2000, -0.6500,  0.3000],\n",
      "        [ 0.9000, -1.8000,  0.2000,  0.6500,  7.3000],\n",
      "        [10.9000, -1.8000,  0.2000, -0.6500,  0.3000]],\n",
      "       grad_fn=<ViewBackward0>) tensor([1, 4, 0, 2, 1, 1])\n",
      ".\n",
      "tensor(4.5735, grad_fn=<NllLossBackward0>)\n"
     ]
    }
   ],
   "source": [
    "# Example of target with class indices\n",
    "random_loss = nn.CrossEntropyLoss()\n",
    "input = torch.tensor(\n",
    "    [\n",
    "        [\n",
    "            [0.9, 5.8, 0.2, -0.65, 0.3],\n",
    "            [0.9, -1.8, 0.2, 0.65, 7.3],\n",
    "            [10.9, -1.8, 0.2, -0.65, 0.3],\n",
    "        ],\n",
    "        [\n",
    "            [0.9, 5.8, 0.2, -0.65, 0.3],\n",
    "            [0.9, -1.8, 0.2, 0.65, 7.3],\n",
    "            [10.9, -1.8, 0.2, -0.65, 0.3],\n",
    "        ],\n",
    "    ],\n",
    "    requires_grad=True,\n",
    ")\n",
    "target = torch.tensor([[1, 4, 0], [2, 1, 1]], dtype=torch.long)\n",
    "print(input.shape, target.shape)\n",
    "print(input, target)\n",
    "input_view = input.view(-1, 5)\n",
    "target_view = target.view(-1)\n",
    "print(input_view.shape, target_view.shape)\n",
    "print(input_view, target_view)\n",
    "print(\".\")\n",
    "output = random_loss(input_view, target_view)\n",
    "print(output)\n",
    "# output.backward()\n",
    "# # Example of target with class probabilities\n",
    "# input = torch.randn(3, 5, requires_grad=True)\n",
    "# target = torch.randn(3, 5).softmax(dim=1)\n",
    "# output = loss(input, target)\n",
    "# output.backward()"
   ]
  },
  {
   "cell_type": "markdown",
   "metadata": {},
   "source": [
    "# Adhoc analysis and eda"
   ]
  },
  {
   "cell_type": "code",
   "execution_count": 114,
   "metadata": {},
   "outputs": [
    {
     "name": "stdout",
     "output_type": "stream",
     "text": [
      "Pos Enc shape torch.Size([1, 512, 512])\n",
      "(512, 512)\n"
     ]
    },
    {
     "data": {
      "text/plain": [
       "<matplotlib.legend.Legend at 0x7f6bd755b100>"
      ]
     },
     "execution_count": 114,
     "metadata": {},
     "output_type": "execute_result"
    },
    {
     "data": {
      "image/png": "[encoded data removed]",
      "text/plain": [
       "<Figure size 2000x1000 with 1 Axes>"
      ]
     },
     "metadata": {},
     "output_type": "display_data"
    }
   ],
   "source": [
    "num_tokens = 512\n",
    "p_num_tokens = PositionalEncoding(512, num_tokens)\n",
    "# An arb tensor with 512 dimension and num_token  tokens\n",
    "t1 = torch.ones(1, num_tokens, 1)\n",
    "p_num_tokens_pos_encoding = p_num_tokens(t1)\n",
    "# Lets plot some fo the num_tokens.\n",
    "p_num_tokens_pos_encoding = (\n",
    "    p_num_tokens_pos_encoding.squeeze(0).clone().detach().numpy()\n",
    ")\n",
    "print(p_num_tokens_pos_encoding.shape)\n",
    "ax = plt.subplot(111)\n",
    "ax.figure.set_size_inches(20, 10)\n",
    "\n",
    "num_dims_to_plot = 400\n",
    "\n",
    "for i in range(200, 210, 1):\n",
    "    x = np.arange(0, num_dims_to_plot)\n",
    "    ax.plot(x, p_num_tokens_pos_encoding[i, 0:num_dims_to_plot], label=f\"Token {i}\")\n",
    "ax.legend()"
   ]
  },
  {
   "cell_type": "markdown",
   "metadata": {},
   "source": [
    "\n",
    "We want the word `walk` to be more closely associated to `birds` in this specific text:\n",
    "\n",
    "```\n",
    "Birds sometimes walk                               \n",
    "```\n",
    "We want to do this because there are other examples in text:  \n",
    "\n",
    "```\n",
    "Sometimes for walking birds use floppy feet...\n",
    "\n",
    "OR But birds don't just walk they fly...\n",
    "\n",
    "```\n",
    "\n",
    "Lets say we have a poorly trained Value vector for $\\bold{V}$:\n",
    "\n",
    "\n",
    "$$\n",
    "V = \\begin {bmatrix} 0.1 & 0.2 & 0.3 \\\\ -0.8 & 0.3 & -0.1 \\\\ 0.5 & -0.1 & -0.4 \\end{bmatrix} \\\\\n",
    "\\text{where each token has a representation like:} \\\\\n",
    "\\\\[5mm]\n",
    "v1(Birds) -> [0.1, 0.2, 0.3] \\\\\n",
    "v2(Usually) -> [-0.8, 0.3, -0.1] \\\\\n",
    "v3(Fly) -> [0.5, -0.1, -0.4] \\\\\n",
    "$$\n",
    "\n",
    "and say you have a reasonably good attention $\\bold{A}$ matrix trained\n",
    "\n",
    "$$\n",
    "A =  \\begin{bmatrix} 1 & 0 & 0 \\\\ 0.1 & 0.9 & 0 \\\\ 0.6 & 0.1 & 0.4 \\end{bmatrix} \n",
    "$$\n",
    "\n",
    "Initially the dot product of the representations is pretty low:\n",
    "\n",
    "$$\n",
    "\\vec{v3} \\cdot \\vec{v1} = 0.1*0.5 + 0.2*-0.1 + 0.3*-0.4 = 0.05 - 0.02 - 0.12 = {\\LARGE \\textbf{-0.09}}\n",
    "$$\n",
    "\n",
    "Now we want `walk` to pay more attention to `bird` and `usually` from a learnt $\\bold{A}$\n",
    "\n",
    "$$\n",
    "\\hat{v_{3}} = \\begin{bmatrix} a_{3, 1}*v_{11} + a_{3, 2}*v_{21} + a_{3, 3}*v_{31} \\\\ a_{3, 1}*v_{12} + a_{3, 2}*v_{22} + a_{3, 3}*v_{32} \\\\ a_{3, 1}*v_{13} + a_{3, 2}*v_{23} + a_{3, 3}*v_{33} \\end{bmatrix}\n",
    "$$\n",
    "\n",
    "$$   \n",
    "\\hat{v_{3}} = \\left[\\begin{array}{c}\n",
    "a_{3, 1}*v_11 + a_{3, 2}*v_21 + a_{3, 3}*v_31 \\quad \\text{(Attention paid by `walk` to `bird` and `usually` *across* first column of v)} \\\\\n",
    "a_{3, 1}*v_12 + a_{3, 2}*v_22 + a_{3, 3}*v_32 \\quad \\text{(Same thing but across the second dimension)} \\\\\n",
    "a_{3, 1}*v_13 + a_{3, 2}*v_{23} + a_{3, 3}*v_{33} \\quad \\text{(... And the third dimension)}\n",
    "\\end{array}\\right]\n",
    "$$\n",
    "\n",
    "$$\n",
    "\\hat{v_{3}} = \\begin{bmatrix} 0.6*0.1 + 0.1*-0.8 + 0.4*0.5 \\\\ 0.6*0.2 + 0.1*0.3 + 0.4*-0.1 \\\\ 0.6*0.3 + 0.1*-0.1 + 0.4*-0.4 \\end{bmatrix}\n",
    "$$\n",
    "\n",
    "$$\n",
    "\\hat{v_3} = \\begin{bmatrix} 0.06 - 0.08 + 0.2 \\\\ 0.12 + 0.03 - 0.04 \\\\ 0.18 - 0.01 - 0.16 \\end{bmatrix}\n",
    "$$\n",
    "\n",
    "It would seem that if we have learnt `A` well, i.e. `bird` is paying more attention to `walk`, then it seems to be now\n",
    "closer to `walk` in the embedded space.\n",
    "$$\n",
    "\\hat{v_3} = \\begin{bmatrix} 0.18 \\\\ 0.11 \\\\ 0.01 \\end{bmatrix} \n",
    "$$\n",
    "\n",
    "Now: \n",
    "\n",
    "$$ \n",
    "\\hat{v_3} \\cdot v_3 = 0.18*0.1 +  0.11*0.2 + 0.01*0.3 = 0.018 + 0.022 + 0.003 = {\\LARGE \\textbf{0.043}}\n",
    "$$\n",
    "i.e. a better association between `walk` and `bird` in the embedded space.\n",
    "\n",
    "## Mathematically speaking... \n",
    "1. I *think*, we are saying that the word `walk` is a **weighted** combination of all the other word embeddings.  And therefore I would conjecture that this may not be enough, linear functions are good but nonlinear are better so `V` will also be forward propagated to an MLP to learn any non linearity that's left.\n",
    "\n",
    "2. Also notice that the final vector are three terms and over `n-grams` of differing sequence length. So perhaps the vector $v_3$ terms are these piece-wise, auto regressive collection of terms each is a linear function. This kind of reminds me of interaction terms in linear regression and how indicator variables are used to capture non-linear relationships? \n",
    "---\n",
    "\n",
    "## Here is some matrix math for this stuff\n",
    "\n",
    "$$\n",
    "A = \\begin{bmatrix} . & . & . \\\\ . & a_{i,j} & .\\\\. & . & . \\end{bmatrix}\n",
    "V = \\begin{bmatrix} . & v_0 & . \\\\ . & v_1 & .\\\\. & v_2 & . \\end{bmatrix}\n",
    "\\hat{V} = A.V \n",
    "$$\n",
    "\n",
    "where V are the old embeddings and A are the Attention dot product.\n",
    "\n",
    "$$\n",
    "\\hat{v_{i,j}} = \\sum_{k=1}^{d_k} a_{i,k} v_{k,j}\n",
    "$$\n",
    "\n",
    "$$\n",
    "\\underline{\\hat{v_{i}}} = \\sum_{j=1}^{d_k} a_{i,j} * \\underline{v_j}\n",
    "$$\n",
    "So we are *interacting* previously independent $\\underline{v_j}s$ across the embedding.\n",
    "\n",
    "---"
   ]
  },
  {
   "cell_type": "markdown",
   "metadata": {},
   "source": []
  },
  {
   "cell_type": "markdown",
   "metadata": {},
   "source": [
    "We might have other examples in the text of `bird` being associated with the words `fly` too in the text. How could \n",
    "the network learn about it? I think the answer is  `capacity` which loosely translates to the number of parameters in the network we can use. Lets say we have a sentence:\n",
    "```\n",
    "But birds are good at ____. \n",
    "```\n",
    "And the word we likely want learnt is `flying`. \n",
    "\n",
    "Capacity here would mean the opportunities for the word `flying` to learn the word association with the word `bird` and possibly `but` and `good`. Well if we consider just one attention head\n",
    "1. There are `n_head` size for each vector in $\\bold{V}$ opportunities to learn this association. \n",
    "2. In the Query matrix which has a `n_head` size vector Query for `flying`. Lets call this row `q_k`.\n",
    "   - And Since we compute the attention row `a_i` as a product of `q_k` and `V` we have `n_head`*`n_head`  parameters, which is typically `48,000` different parameters just for whatever is representing `flying` in association with other words before it!\n",
    "3. Not to mention the other functions that come later. "
   ]
  },
  {
   "cell_type": "code",
   "execution_count": 2,
   "metadata": {},
   "outputs": [],
   "source": [
    "import markdown2\n",
    "import pdfkit\n",
    "import pypandoc\n",
    "\n",
    "# Your markdown text\n",
    "# Convert markdown to HTML\n",
    "# html_text = markdown2.markdown(text)"
   ]
  },
  {
   "cell_type": "code",
   "execution_count": 104,
   "metadata": {},
   "outputs": [
    {
     "ename": "RuntimeError",
     "evalue": "Pandoc died with exitcode \"43\" during conversion: Error producing PDF.\n! Missing $ inserted.\n<inserted text> \n                $\nl.80 \\begin{bmatrix}\n\n",
     "output_type": "error",
     "traceback": [
      "\u001b[0;31m---------------------------------------------------------------------------\u001b[0m",
      "\u001b[0;31mRuntimeError\u001b[0m                              Traceback (most recent call last)",
      "Cell \u001b[0;32mIn[104], line 29\u001b[0m\n\u001b[1;32m     18\u001b[0m     \u001b[38;5;28;01mreturn\u001b[39;00m clean_text\n\u001b[1;32m     19\u001b[0m     \u001b[38;5;66;03m# with open(output_filename, 'w', encoding='utf-8') as file:\u001b[39;00m\n\u001b[1;32m     20\u001b[0m     \u001b[38;5;66;03m#     file.write(clean_text)\u001b[39;00m\n\u001b[1;32m     21\u001b[0m \n\u001b[0;32m   (...)\u001b[0m\n\u001b[1;32m     27\u001b[0m \u001b[38;5;66;03m# print(\".\")\u001b[39;00m\n\u001b[1;32m     28\u001b[0m \u001b[38;5;66;03m# print(clean_text)\u001b[39;00m\n\u001b[0;32m---> 29\u001b[0m output \u001b[38;5;241m=\u001b[39m \u001b[43mpypandoc\u001b[49m\u001b[38;5;241;43m.\u001b[39;49m\u001b[43mconvert_text\u001b[49m\u001b[43m(\u001b[49m\n\u001b[1;32m     30\u001b[0m \u001b[43m    \u001b[49m\u001b[43mmarkdown_content\u001b[49m\u001b[43m,\u001b[49m\n\u001b[1;32m     31\u001b[0m \u001b[43m    \u001b[49m\u001b[38;5;124;43m\"\u001b[39;49m\u001b[38;5;124;43mpdf\u001b[39;49m\u001b[38;5;124;43m\"\u001b[39;49m\u001b[43m,\u001b[49m\n\u001b[1;32m     32\u001b[0m \u001b[43m    \u001b[49m\u001b[38;5;28;43mformat\u001b[39;49m\u001b[38;5;241;43m=\u001b[39;49m\u001b[38;5;124;43m\"\u001b[39;49m\u001b[38;5;124;43mmd\u001b[39;49m\u001b[38;5;124;43m\"\u001b[39;49m\u001b[43m,\u001b[49m\n\u001b[1;32m     33\u001b[0m \u001b[43m    \u001b[49m\u001b[43moutputfile\u001b[49m\u001b[38;5;241;43m=\u001b[39;49m\u001b[38;5;124;43m\"\u001b[39;49m\u001b[38;5;124;43mcorrected_output.pdf\u001b[39;49m\u001b[38;5;124;43m\"\u001b[39;49m\u001b[43m,\u001b[49m\n\u001b[1;32m     34\u001b[0m \u001b[43m    \u001b[49m\u001b[43mextra_args\u001b[49m\u001b[38;5;241;43m=\u001b[39;49m\u001b[43m[\u001b[49m\u001b[43m \u001b[49m\u001b[38;5;124;43m\"\u001b[39;49m\u001b[38;5;124;43m-s\u001b[39;49m\u001b[38;5;124;43m\"\u001b[39;49m\u001b[43m]\u001b[49m\u001b[43m,\u001b[49m\n\u001b[1;32m     35\u001b[0m \u001b[43m)\u001b[49m\n\u001b[1;32m     36\u001b[0m output\n\u001b[1;32m     37\u001b[0m \u001b[38;5;66;03m# print(\"PDF generated successfully!\")\u001b[39;00m\n",
      "File \u001b[0;32m~/workspace/mlx-week5/sid/.venv/lib/python3.11/site-packages/pypandoc/__init__.py:92\u001b[0m, in \u001b[0;36mconvert_text\u001b[0;34m(source, to, format, extra_args, encoding, outputfile, filters, verify_format, sandbox, cworkdir)\u001b[0m\n\u001b[1;32m     58\u001b[0m \u001b[38;5;250m\u001b[39m\u001b[38;5;124;03m\"\"\"Converts given `source` from `format` to `to`.\u001b[39;00m\n\u001b[1;32m     59\u001b[0m \n\u001b[1;32m     60\u001b[0m \u001b[38;5;124;03m:param str source: Unicode string or bytes (see encoding)\u001b[39;00m\n\u001b[0;32m   (...)\u001b[0m\n\u001b[1;32m     89\u001b[0m \u001b[38;5;124;03m        path.\u001b[39;00m\n\u001b[1;32m     90\u001b[0m \u001b[38;5;124;03m\"\"\"\u001b[39;00m\n\u001b[1;32m     91\u001b[0m source \u001b[38;5;241m=\u001b[39m _as_unicode(source, encoding)\n\u001b[0;32m---> 92\u001b[0m \u001b[38;5;28;01mreturn\u001b[39;00m \u001b[43m_convert_input\u001b[49m\u001b[43m(\u001b[49m\u001b[43msource\u001b[49m\u001b[43m,\u001b[49m\u001b[43m \u001b[49m\u001b[38;5;28;43mformat\u001b[39;49m\u001b[43m,\u001b[49m\u001b[43m \u001b[49m\u001b[38;5;124;43m'\u001b[39;49m\u001b[38;5;124;43mstring\u001b[39;49m\u001b[38;5;124;43m'\u001b[39;49m\u001b[43m,\u001b[49m\u001b[43m \u001b[49m\u001b[43mto\u001b[49m\u001b[43m,\u001b[49m\u001b[43m \u001b[49m\u001b[43mextra_args\u001b[49m\u001b[38;5;241;43m=\u001b[39;49m\u001b[43mextra_args\u001b[49m\u001b[43m,\u001b[49m\n\u001b[1;32m     93\u001b[0m \u001b[43m                      \u001b[49m\u001b[43moutputfile\u001b[49m\u001b[38;5;241;43m=\u001b[39;49m\u001b[43moutputfile\u001b[49m\u001b[43m,\u001b[49m\u001b[43m \u001b[49m\u001b[43mfilters\u001b[49m\u001b[38;5;241;43m=\u001b[39;49m\u001b[43mfilters\u001b[49m\u001b[43m,\u001b[49m\n\u001b[1;32m     94\u001b[0m \u001b[43m                      \u001b[49m\u001b[43mverify_format\u001b[49m\u001b[38;5;241;43m=\u001b[39;49m\u001b[43mverify_format\u001b[49m\u001b[43m,\u001b[49m\u001b[43m \u001b[49m\u001b[43msandbox\u001b[49m\u001b[38;5;241;43m=\u001b[39;49m\u001b[43msandbox\u001b[49m\u001b[43m,\u001b[49m\n\u001b[1;32m     95\u001b[0m \u001b[43m                      \u001b[49m\u001b[43mcworkdir\u001b[49m\u001b[38;5;241;43m=\u001b[39;49m\u001b[43mcworkdir\u001b[49m\u001b[43m)\u001b[49m\n",
      "File \u001b[0;32m~/workspace/mlx-week5/sid/.venv/lib/python3.11/site-packages/pypandoc/__init__.py:467\u001b[0m, in \u001b[0;36m_convert_input\u001b[0;34m(source, format, input_type, to, extra_args, outputfile, filters, verify_format, sandbox, cworkdir)\u001b[0m\n\u001b[1;32m    465\u001b[0m \u001b[38;5;66;03m# check that pandoc returned successfully\u001b[39;00m\n\u001b[1;32m    466\u001b[0m \u001b[38;5;28;01mif\u001b[39;00m p\u001b[38;5;241m.\u001b[39mreturncode \u001b[38;5;241m!=\u001b[39m \u001b[38;5;241m0\u001b[39m:\n\u001b[0;32m--> 467\u001b[0m     \u001b[38;5;28;01mraise\u001b[39;00m \u001b[38;5;167;01mRuntimeError\u001b[39;00m(\n\u001b[1;32m    468\u001b[0m         \u001b[38;5;124m'\u001b[39m\u001b[38;5;124mPandoc died with exitcode \u001b[39m\u001b[38;5;124m\"\u001b[39m\u001b[38;5;132;01m%s\u001b[39;00m\u001b[38;5;124m\"\u001b[39m\u001b[38;5;124m during conversion: \u001b[39m\u001b[38;5;132;01m%s\u001b[39;00m\u001b[38;5;124m'\u001b[39m \u001b[38;5;241m%\u001b[39m (p\u001b[38;5;241m.\u001b[39mreturncode, stderr)\n\u001b[1;32m    469\u001b[0m     )\n\u001b[1;32m    471\u001b[0m \u001b[38;5;66;03m# if there is output on stderr, process it and send to logger\u001b[39;00m\n\u001b[1;32m    472\u001b[0m \u001b[38;5;28;01mif\u001b[39;00m stderr:\n",
      "\u001b[0;31mRuntimeError\u001b[0m: Pandoc died with exitcode \"43\" during conversion: Error producing PDF.\n! Missing $ inserted.\n<inserted text> \n                $\nl.80 \\begin{bmatrix}\n\n"
     ]
    }
   ],
   "source": [
    "import pypandoc\n",
    "\n",
    "# The Markdown content with corrected LaTeX math mode delimiters\n",
    "with open(\"./test.md\", \"r\") as f:\n",
    "    markdown_content = '\\n'.join(f.readlines())\n",
    "\n",
    "# html_text = markdown2.markdown(markdown_content)\n",
    "# print(html_text)\n",
    "# write to this file in markdown first\n",
    "\n",
    "\n",
    "# Convert Markdown to PDF\n",
    "def clean_text_fn(text):\n",
    "\n",
    "    # Remove non-printable characters\n",
    "    clean_text = \"\".join(char for char in text if char.isprintable() or char in \"\\n\\t\")\n",
    "\n",
    "    return clean_text\n",
    "    # with open(output_filename, 'w', encoding='utf-8') as file:\n",
    "    #     file.write(clean_text)\n",
    "\n",
    "\n",
    "# clean_text = clean_text_fn(html_text)\n",
    "# print(\".\")\n",
    "# print(clean_text)\n",
    "# print(markdown_content)\n",
    "# print(\".\")\n",
    "# print(clean_text)\n",
    "output = pypandoc.convert_text(\n",
    "    markdown_content,\n",
    "    \"pdf\",\n",
    "    format=\"md\",\n",
    "    outputfile=\"corrected_output.pdf\",\n",
    "    extra_args=[ \"-s\"],\n",
    ")\n",
    "output\n",
    "# print(\"PDF generated successfully!\")"
   ]
  },
  {
   "cell_type": "code",
   "execution_count": null,
   "metadata": {},
   "outputs": [],
   "source": []
  },
  {
   "cell_type": "code",
   "execution_count": 105,
   "metadata": {},
   "outputs": [],
   "source": [
    "output = pypandoc.convert_file(\n",
    "    \"./test.md\",\n",
    "    \"pdf\",\n",
    "    format=\"md\",\n",
    "    outputfile=\"corrected_output.pdf\",\n",
    "    extra_args=[ \"-s\"],\n",
    ")"
   ]
  },
  {
   "cell_type": "code",
   "execution_count": 164,
   "metadata": {},
   "outputs": [],
   "source": [
    "raw_string = r\"\"\"\n",
    "# Attention with a worked out example\n",
    "\n",
    "We want the word `walk` to be more closely associated to `birds` in this specific text:\n",
    "\n",
    "```\n",
    "Birds sometimes walk                               \n",
    "```\n",
    "We want to do this because there are other examples in text:  \n",
    "\n",
    "```\n",
    "Sometimes for walking birds use floppy feet...\n",
    "\n",
    "OR But birds don't just walk they fly...\n",
    "\n",
    "```\n",
    "\n",
    "Lets say we have a poorly trained Value vector for $\\bold{V}$:\n",
    "\n",
    "\n",
    "$$\n",
    "\\begin{aligned}\n",
    "V = \\begin {bmatrix} 0.1 & 0.2 & 0.3 \\\\ -0.8 & 0.3 & -0.1 \\\\ 0.5 & -0.1 & -0.4 \\end{bmatrix} \\\\\n",
    "\\text{where each token has a representation like:} \n",
    "\\\\[10mm]\n",
    "v1(Birds) -> [0.1, 0.2, 0.3] \\\\\n",
    "v2(sometimes) -> [-0.8, 0.3, -0.1] \\\\\n",
    "v3(Walk) -> [0.5, -0.1, -0.4] \\\\\n",
    "\\end{aligned}\n",
    "$$\n",
    "\n",
    "and say you have a reasonably good attention $\\bold{A}$ matrix trained\n",
    "\n",
    "$$\n",
    "A =  \\begin{bmatrix} 1 & 0 & 0 \\\\ 0.1 & 0.9 & 0 \\\\ 0.6 & 0.1 & 0.4 \\end{bmatrix} \n",
    "$$\n",
    "\n",
    "Initially the dot product of the representations is pretty low:\n",
    "\n",
    "$$\n",
    "\\vec{v3} \\cdot \\vec{v1} = 0.1*0.5 + 0.2*-0.1 + 0.3*-0.4 = 0.05 - 0.02 - 0.12 = {\\LARGE \\textbf{-0.09}}\n",
    "$$\n",
    "\n",
    "Now we want `walk` to pay more attention to `bird` and `sometimes` from a learnt $\\bold{A}$\n",
    "\n",
    "$$\n",
    "\\hat{v_{3}} = \\begin{bmatrix} a_{3, 1}*v_{11} + a_{3, 2}*v_{21} + a_{3, 3}*v_{31} \\\\ a_{3, 1}*v_{12} + a_{3, 2}*v_{22} + a_{3, 3}*v_{32} \\\\ a_{3, 1}*v_{13} + a_{3, 2}*v_{23} + a_{3, 3}*v_{33} \\end{bmatrix}\n",
    "$$\n",
    "\n",
    "$$   \n",
    "\\hat{v_{3}} = \\left[\\begin{array}{c}\n",
    "a_{31}*v_11 + a_{32}*v_{21} + a_{33}*v_{31} \\quad \\text{(Attention paid by `walk` to `bird` and `sometimes` *across* first column of v)} \\\\\n",
    "a_{31}*v_12 + a_{32}*v_{22} + a_{33}*v_{32} \\quad \\text{(Same thing but across the second dimension)} \\\\\n",
    "a_{31}*v_13 + a_{32}*v_{23} + a_{33}*v_{33} \\quad \\text{(... And the third dimension)}\n",
    "\\end{array}\\right]\n",
    "$$\n",
    "\n",
    "$$\n",
    "\\hat{v_{3}} = \\begin{bmatrix} 0.6*0.1 + 0.1*-0.8 + 0.4*0.5 \\\\ 0.6*0.2 + 0.1*0.3 + 0.4*-0.1 \\\\ 0.6*0.3 + 0.1*-0.1 + 0.4*-0.4 \\end{bmatrix}\n",
    "$$\n",
    "\n",
    "$$\n",
    "\\hat{v_3} = \\begin{bmatrix} 0.06 - 0.08 + 0.2 \\\\ 0.12 + 0.03 - 0.04 \\\\ 0.18 - 0.01 - 0.16 \\end{bmatrix}\n",
    "$$\n",
    "\n",
    "It would seem that if we have learnt `A` well, i.e. `bird` is paying more attention to `walk`, then it seems to be now\n",
    "closer to `walk` in the embedded space.\n",
    "$$\n",
    "\\hat{v_3} = \\begin{bmatrix} 0.18 \\\\ 0.11 \\\\ 0.01 \\end{bmatrix} \n",
    "$$\n",
    "\n",
    "Now: \n",
    "\n",
    "$$ \n",
    "\\hat{v_3} \\cdot v_3 = 0.18*0.1 +  0.11*0.2 + 0.01*0.3 = 0.018 + 0.022 + 0.003 = {\\LARGE \\textbf{0.043}}\n",
    "$$\n",
    "i.e. a better association between `walk` and `bird` in the embedded space.\n",
    "\n",
    "## Thoughts on the Mathematics of this\n",
    "1. I *think*, we are saying that the word `walk` is a **weighted** combination of all the other word embeddings.  And therefore I would conjecture that this may not be enough, linear functions are good but nonlinear are better so `V` will also be forward propagated to an MLP to learn any non linearity that's left.\n",
    "2. Also notice that the final vector are three terms and over `n-grams` of differing sequence length. \n",
    "So perhaps the vector $v_3$ terms are these piece-wise, auto regressive collection of terms \n",
    "each is a linear function. This kind of reminds me of interaction terms in linear regression \n",
    "and how indicator variables are used to capture non-linear relationships. \n",
    "Is this thought too clever by half in how I think about these things?\n",
    "\n",
    "## Thoughts on how does `bird` get attented to by `flying` in the same text where its associated with `walking`?\n",
    "We might have other examples in the text of `bird` being associated with the words `fly` too in the text. How could \n",
    "the network learn about it and predict it? I think the answer is `capacity` which loosely translates to the number of parameters in the network we can use. Lets say we have a sentence:\n",
    "```\n",
    "But birds are good at ____. \n",
    "```\n",
    "And the word we likely want learnt is `flying`. \n",
    "\n",
    "Capacity here would mean the opportunities for the word `flying` to learn the word association with the word `bird` and possibly `but` and `good`. Well if we consider just one attention head\n",
    "\n",
    "1. There are `n_head` parameters for each vector in $\\bold{V}$ opportunities to learn these associations. Is there a \"partition\" of dimension of learn't `v_i` that is different for `walk` and `flying`? \n",
    "2. Could it be that `walk` and `fly` i.e. the $a_{i,j}$ for ith token -- which are  learnt via Q,K -- are different for their preceeding phrases `\"birds sometimes ____\"` and `\"birds are good at ____\"`?\n",
    "3. In the Query matrix which has a `n_head` size vector Query for `flying`. Lets call this row `q_k`.\n",
    "   - And Since we compute the attention row `a_i` as a product of `q_k` and `V` we have `n_head`*`n_head`  parameters, which is typically `48,000` different parameters just for whatever  `flying` needs to attend to! A big space indeed.\n",
    "4. Not to mention more parameters in MLP and other heads that get learnt later.\n",
    "\n",
    "\n",
    "---\n",
    "\n",
    "## Here is some matrix math for this stuff\n",
    "\n",
    "$$\n",
    "A = \\begin{bmatrix} . & . & . \\\\ . & a_{i,j} & .\\\\. & . & . \\end{bmatrix}\n",
    "V = \\begin{bmatrix} . & v_0 & . \\\\ . & v_1 & .\\\\. & v_2 & . \\end{bmatrix}\n",
    "\\hat{V} = A.V \n",
    "$$\n",
    "\n",
    "where V are the old embeddings and A are the Attention dot product.\n",
    "\n",
    "$$\n",
    "\\hat{v_{i,j}} = \\sum_{k=1}^{d_k} a_{i,k} v_{k,j}\n",
    "$$\n",
    "\n",
    "$$\n",
    "\\underline{\\hat{v_{i}}} = \\sum_{j=1}^{d_k} a_{i,j} * \\underline{v_j}\n",
    "$$\n",
    "So we are *interacting* previously independent $\\underline{v_j}s$ across the embedding.\n",
    "\n",
    "---\n",
    "\n",
    "\"\"\"\n",
    "output = pypandoc.convert_text(\n",
    "    raw_string,\n",
    "    \"pdf\",\n",
    "    format=\"md\",\n",
    "    outputfile=\"attention_workedout.pdf\",\n",
    "    extra_args=[ \"-s\"],\n",
    ")"
   ]
  },
  {
   "cell_type": "code",
   "execution_count": null,
   "metadata": {},
   "outputs": [],
   "source": []
  },
  {
   "cell_type": "code",
   "execution_count": null,
   "metadata": {},
   "outputs": [],
   "source": []
  }
 ],
 "metadata": {
  "kernelspec": {
   "display_name": "Python 3 (ipykernel)",
   "language": "python",
   "name": "python3"
  },
  "language_info": {
   "codemirror_mode": {
    "name": "ipython",
    "version": 3
   },
   "file_extension": ".py",
   "mimetype": "text/x-python",
   "name": "python",
   "nbconvert_exporter": "python",
   "pygments_lexer": "ipython3",
   "version": "3.10.12"
  }
 },
 "nbformat": 4,
 "nbformat_minor": 2
}
